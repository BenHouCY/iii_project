{
 "cells": [
  {
   "cell_type": "markdown",
   "metadata": {},
   "source": [
    "# 104"
   ]
  },
  {
   "cell_type": "code",
   "execution_count": 1,
   "metadata": {
    "collapsed": true
   },
   "outputs": [],
   "source": [
    "\n",
    "def get_skills(i):\n",
    "    skills={''}\n",
    "    a = data['job_lists'][i]['tools'].replace(' ','').split('、')\n",
    "    \n",
    "    b=re.findall('[A-Za-z]+',data['job_lists'][i]['content'].replace(' ','').replace('\\n',''))\n",
    "    c=re.findall('[A-Za-z]+',data['job_lists'][i]['skills'].replace(' ','').replace('\\n',''))\n",
    "    \n",
    "    for d in a:\n",
    "        if d != '不拘':\n",
    "            skills.add(d)\n",
    "    for d in b:\n",
    "        skills.add(d)\n",
    "    for d in c:\n",
    "        skills.add(d)\n",
    "    #print(skills)\n",
    "    skills.remove('')\n",
    "    return(list(skills))"
   ]
  },
  {
   "cell_type": "code",
   "execution_count": 2,
   "metadata": {},
   "outputs": [],
   "source": [
    "def counter(List):\n",
    "    cnt = Counter()\n",
    "    for word in List:\n",
    "        word = word.lower()\n",
    "        ignore = ['net','web','app','a','b','pc','etc','http','ios','com','ip','d','e','api','it','server','www','mis']\n",
    "        if word in ignore:\n",
    "            pass\n",
    "        elif word in cnt:\n",
    "            cnt[word] += 1\n",
    "        else:\n",
    "            cnt[word] = 1\n",
    "    return(cnt)\n"
   ]
  },
  {
   "cell_type": "code",
   "execution_count": 3,
   "metadata": {
    "scrolled": false
   },
   "outputs": [
    {
     "data": {
      "text/plain": [
       "[('c', 5447),\n",
       " ('javascript', 4370),\n",
       " ('linux', 4342),\n",
       " ('java', 4314),\n",
       " ('html', 3454),\n",
       " ('mssql', 3422),\n",
       " ('mysql', 2975),\n",
       " ('jquery', 2728),\n",
       " ('c++', 2463),\n",
       " ('php', 2408),\n",
       " ('c#', 2386),\n",
       " ('excel', 2158),\n",
       " ('word', 2059),\n",
       " ('oracle', 1942),\n",
       " ('asp.net', 1867),\n",
       " ('sql', 1679),\n",
       " ('erp', 1639),\n",
       " ('powerpoint', 1627),\n",
       " ('android', 1601),\n",
       " ('ajax', 1536),\n",
       " ('css', 1489),\n",
       " ('asp', 1454),\n",
       " ('python', 1133),\n",
       " ('outlook', 1059),\n",
       " ('windows', 1024),\n",
       " ('vmware', 900),\n",
       " ('windowsserver2008', 872),\n",
       " ('windowsserver2012', 836),\n",
       " ('windows7', 801),\n",
       " ('tcp/ip', 751),\n",
       " ('mvc', 724),\n",
       " ('jsp', 713),\n",
       " ('unix', 700),\n",
       " ('xml', 672),\n",
       " ('firewall', 664),\n",
       " ('git', 603),\n",
       " ('windowsxp', 601),\n",
       " ('spring', 565),\n",
       " ('dns', 543),\n",
       " ('ui', 537),\n",
       " ('visualstudio', 504),\n",
       " ('visualstudio.net', 501),\n",
       " ('js', 490),\n",
       " ('pl/sql', 477),\n",
       " ('vb', 469),\n",
       " ('visualbasic.net', 467),\n",
       " ('cisco', 466),\n",
       " ('mes', 464),\n",
       " ('dhtml', 446),\n",
       " ('tcp', 442)]"
      ]
     },
     "execution_count": 3,
     "metadata": {},
     "output_type": "execute_result"
    }
   ],
   "source": [
    "import json\n",
    "import re \n",
    "from collections import Counter\n",
    "\n",
    "List=[]\n",
    "for j in range(1,20):\n",
    "    with open('Job_104_{}.json'.format(j), encoding = 'utf8') as fd:\n",
    "        data = json.load(fd)\n",
    "    \n",
    "        for i in range(0,len(data['job_lists'])):\n",
    "            for skill in get_skills(i):\n",
    "                List.append(skill)\n",
    "counter(List).most_common(50)"
   ]
  },
  {
   "cell_type": "code",
   "execution_count": 4,
   "metadata": {},
   "outputs": [],
   "source": [
    "import csv\n",
    "cnt_104=counter(List).most_common(50)\n",
    "writefile = open('104.csv', 'w')\n",
    "writer = csv.writer(writefile)\n",
    "\n",
    "for key, count in counter(List).most_common(50): \n",
    "        writer.writerow((key,count)) \n",
    "\n",
    "writefile.close()"
   ]
  },
  {
   "cell_type": "markdown",
   "metadata": {},
   "source": [
    "# 518"
   ]
  },
  {
   "cell_type": "code",
   "execution_count": 5,
   "metadata": {
    "collapsed": true
   },
   "outputs": [],
   "source": [
    "import re \n",
    "def get_skills(i):\n",
    "    skills={''}\n",
    "    a = data[i]['tools'].replace(' ','').split('、')\n",
    "    \n",
    "    b=re.findall('[A-Za-z]+',data[i]['content'].replace(' ','').replace('\\n',''))\n",
    "    c=re.findall('[A-Za-z]+',data[i]['skills'].replace(' ','').replace('\\n',''))\n",
    "    \n",
    "    for d in a:\n",
    "        if d != '不拘':\n",
    "            skills.add(d)\n",
    "    for d in b:\n",
    "        skills.add(d)\n",
    "    for d in c:\n",
    "        skills.add(d)\n",
    "    #print(skills)\n",
    "    skills.remove('')\n",
    "    return(list(skills))"
   ]
  },
  {
   "cell_type": "code",
   "execution_count": 6,
   "metadata": {},
   "outputs": [],
   "source": [
    "def counter(List):\n",
    "    cnt = Counter()\n",
    "    for word in List:\n",
    "        word = word.lower()\n",
    "        ignore = ['net','web','app','a','b','pc','etc','http','ios','com','ip','d','e','api','it','server','www','mis']\n",
    "        if word in ignore:\n",
    "            pass\n",
    "        elif word in cnt:\n",
    "            cnt[word] += 1\n",
    "        else:\n",
    "            cnt[word] = 1\n",
    "    return(cnt)\n"
   ]
  },
  {
   "cell_type": "code",
   "execution_count": 7,
   "metadata": {},
   "outputs": [
    {
     "data": {
      "text/plain": [
       "[('php', 285),\n",
       " ('mysql', 252),\n",
       " ('javascript', 242),\n",
       " ('html', 219),\n",
       " ('java', 190),\n",
       " ('css', 180),\n",
       " ('mssql', 126),\n",
       " ('ajax', 119),\n",
       " ('linux', 114),\n",
       " ('c', 104),\n",
       " ('jquery', 99),\n",
       " ('asp', 99),\n",
       " ('android', 71),\n",
       " ('c/c++', 69),\n",
       " ('word', 68),\n",
       " ('excel', 68),\n",
       " ('jsp', 65),\n",
       " ('asp.net', 63),\n",
       " ('powerpoint', 56),\n",
       " ('c#.net', 54),\n",
       " ('dreamweaver', 49),\n",
       " ('windows7', 47),\n",
       " ('xml', 45),\n",
       " ('outlook', 41),\n",
       " ('oracle', 35),\n",
       " ('access', 35),\n",
       " ('dhtml', 34),\n",
       " ('sql', 30),\n",
       " ('git', 29),\n",
       " ('flash', 29),\n",
       " ('c#', 28),\n",
       " ('mvc', 27),\n",
       " ('windowsxp', 26),\n",
       " ('visualbasic', 22),\n",
       " ('ui', 21),\n",
       " ('windows2003', 21),\n",
       " ('frontpage', 21),\n",
       " ('visualc++', 21),\n",
       " ('unix', 20),\n",
       " ('visualstudio', 20),\n",
       " ('objective-c', 19),\n",
       " ('adobephotoshop', 19),\n",
       " ('js', 18),\n",
       " ('webapi', 17),\n",
       " ('actionscript', 16),\n",
       " ('apache', 16),\n",
       " ('visualbasic.net', 16),\n",
       " ('erp', 16),\n",
       " ('androidapp', 15),\n",
       " ('spring', 15)]"
      ]
     },
     "execution_count": 7,
     "metadata": {},
     "output_type": "execute_result"
    }
   ],
   "source": [
    "import json\n",
    "import re \n",
    "from collections import Counter\n",
    "\n",
    "List=[]\n",
    "for j in range(1,4):\n",
    "    with open('518_Get_{}.json'.format(j), encoding = 'utf8') as fd:\n",
    "        data = json.load(fd)\n",
    "    \n",
    "        for i in range(0,len(data)):\n",
    "            for skill in get_skills(i):\n",
    "                List.append(skill)\n",
    "counter(List).most_common(50)"
   ]
  },
  {
   "cell_type": "code",
   "execution_count": 8,
   "metadata": {},
   "outputs": [],
   "source": [
    "import csv\n",
    "cnt_518=counter(List).most_common(50)\n",
    "writefile = open('518.csv', 'w')\n",
    "writer = csv.writer(writefile)\n",
    "\n",
    "for key, count in counter(List).most_common(50): \n",
    "        writer.writerow((key,count)) \n",
    "\n",
    "writefile.close()"
   ]
  },
  {
   "cell_type": "markdown",
   "metadata": {},
   "source": [
    "# 1111"
   ]
  },
  {
   "cell_type": "code",
   "execution_count": 9,
   "metadata": {
    "collapsed": true
   },
   "outputs": [],
   "source": [
    "\n",
    "def get_skills(i):\n",
    "    skills={''}\n",
    "    \n",
    "    a = data[i]['skills'].replace(' ','').split('、')\n",
    "    \n",
    "    b=re.findall('[A-Za-z]+',data[i]['other_condition'].replace(' ','').replace('\\n',''))\n",
    "    c=re.findall('[A-Za-z]+',data[i]['skills'].replace(' ','').replace('\\n',''))\n",
    "    \n",
    "    for d in a:\n",
    "        if d != '不拘':\n",
    "            skills.add(d)\n",
    "    for d in b:\n",
    "        skills.add(d)\n",
    "    for d in c:\n",
    "        skills.add(d)\n",
    "    #print(skills)\n",
    "    skills.remove('')\n",
    "    return(list(skills))"
   ]
  },
  {
   "cell_type": "code",
   "execution_count": 10,
   "metadata": {
    "collapsed": true
   },
   "outputs": [],
   "source": [
    "def counter(List):\n",
    "    cnt = Counter()\n",
    "    for word in List:\n",
    "        word = word.lower()\n",
    "        ignore = ['net','web','app','a','b','pc','etc','http','ios','com','ip','d','e','api','it','server','www','mis']\n",
    "        if word in ignore:\n",
    "            pass\n",
    "        elif word in cnt:\n",
    "            cnt[word] += 1\n",
    "        else:\n",
    "            cnt[word] = 1\n",
    "    return(cnt)\n"
   ]
  },
  {
   "cell_type": "code",
   "execution_count": 11,
   "metadata": {},
   "outputs": [
    {
     "data": {
      "text/plain": [
       "[('c', 2435),\n",
       " ('c/c++', 867),\n",
       " ('java', 762),\n",
       " ('asp', 661),\n",
       " ('javascript', 559),\n",
       " ('c#.net', 487),\n",
       " ('mssql', 477),\n",
       " ('linux', 477),\n",
       " ('asp.net', 411),\n",
       " ('html', 354),\n",
       " ('sql', 352),\n",
       " ('jquery', 287),\n",
       " ('excel', 276),\n",
       " ('word', 271),\n",
       " ('vb', 263),\n",
       " ('android', 241),\n",
       " ('visualc', 227),\n",
       " ('python', 227),\n",
       " ('powerpoint', 216),\n",
       " ('mysql', 209),\n",
       " ('windows', 196),\n",
       " ('ajax', 195),\n",
       " ('oracle', 181),\n",
       " ('outlook', 170),\n",
       " ('visualc++', 166),\n",
       " ('css', 164),\n",
       " ('php', 164),\n",
       " ('mvc', 141),\n",
       " ('visualstudio', 137),\n",
       " ('vb.net', 136),\n",
       " ('visualbasic', 116),\n",
       " ('xml', 108),\n",
       " ('tcp', 106),\n",
       " ('pl', 101),\n",
       " ('windowsserver', 95),\n",
       " ('mcu', 85),\n",
       " ('windowsserver2000-2012', 83),\n",
       " ('assembly', 74),\n",
       " ('pl/sql', 73),\n",
       " ('netc', 71),\n",
       " ('objective', 68),\n",
       " ('windowsxp', 67),\n",
       " ('hr', 67),\n",
       " ('erp', 66),\n",
       " ('toeic', 64),\n",
       " ('windows7', 64),\n",
       " ('ms', 63),\n",
       " ('sqlserver', 63),\n",
       " ('swift', 62),\n",
       " ('uml', 61)]"
      ]
     },
     "execution_count": 11,
     "metadata": {},
     "output_type": "execute_result"
    }
   ],
   "source": [
    "import json\n",
    "import re \n",
    "from collections import Counter\n",
    "\n",
    "List=[]\n",
    "for j in range(1,4):\n",
    "    with open('1111_Get_{}.json'.format(j), encoding = 'utf8') as fd:\n",
    "        data = json.load(fd)\n",
    "    \n",
    "        for i in range(0,len(data)):\n",
    "            for skill in get_skills(i):\n",
    "                List.append(skill)\n",
    "counter(List).most_common(50)"
   ]
  },
  {
   "cell_type": "code",
   "execution_count": 12,
   "metadata": {},
   "outputs": [],
   "source": [
    "import csv\n",
    "cnt_1111=counter(List).most_common(50)\n",
    "writefile = open('1111.csv', 'w')\n",
    "writer = csv.writer(writefile)\n",
    "\n",
    "for key, count in counter(List).most_common(50): \n",
    "        writer.writerow((key,count)) \n",
    "\n",
    "writefile.close()"
   ]
  },
  {
   "cell_type": "code",
   "execution_count": null,
   "metadata": {},
   "outputs": [],
   "source": []
  },
  {
   "cell_type": "code",
   "execution_count": null,
   "metadata": {
    "collapsed": true
   },
   "outputs": [],
   "source": []
  },
  {
   "cell_type": "code",
   "execution_count": null,
   "metadata": {},
   "outputs": [],
   "source": []
  }
 ],
 "metadata": {
  "kernelspec": {
   "display_name": "Python 3",
   "language": "python",
   "name": "python3"
  },
  "language_info": {
   "codemirror_mode": {
    "name": "ipython",
    "version": 3
   },
   "file_extension": ".py",
   "mimetype": "text/x-python",
   "name": "python",
   "nbconvert_exporter": "python",
   "pygments_lexer": "ipython3",
   "version": "3.6.1"
  }
 },
 "nbformat": 4,
 "nbformat_minor": 2
}
