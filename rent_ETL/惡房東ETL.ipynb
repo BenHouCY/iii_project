{
 "cells": [
  {
   "cell_type": "code",
   "execution_count": 52,
   "metadata": {},
   "outputs": [],
   "source": [
    "# import requests\n",
    "# res = requests.get('http://rent-exp.blogspot.tw/2017/06/34x.html')\n",
    "# res.text"
   ]
  },
  {
   "cell_type": "code",
   "execution_count": 50,
   "metadata": {
    "collapsed": true
   },
   "outputs": [],
   "source": [
    "import json\n",
    "import requests\n",
    "with open ('D:\\\\project\\\\凶宅—惡房東待洗\\\\惡房東url\\\\租屋照妖鏡_newtaipei_url_52筆.json','r',encoding='utf8') as f :\n",
    "    tex= json.load(f)"
   ]
  },
  {
   "cell_type": "code",
   "execution_count": 51,
   "metadata": {},
   "outputs": [],
   "source": [
    "# res.text.replace(' ','')"
   ]
  },
  {
   "cell_type": "code",
   "execution_count": 46,
   "metadata": {},
   "outputs": [
    {
     "data": {
      "text/plain": [
       "['士林區菁山路34巷x號套房']"
      ]
     },
     "execution_count": 46,
     "metadata": {},
     "output_type": "execute_result"
    }
   ],
   "source": [
    "import re\n",
    "re.findall('<title>\\[台北市\\](.*)房東特徵',res.text.replace(' ',''))"
   ]
  },
  {
   "cell_type": "code",
   "execution_count": 20,
   "metadata": {},
   "outputs": [],
   "source": [
    "code = '''中正區 100\n",
    "    大同區 103\n",
    "    中山區 104\n",
    "    松山區 105\n",
    "    大安區 106\n",
    "    萬華區 108\n",
    "    信義區 110\n",
    "    士林區 111\n",
    "    北投區 112\n",
    "    內湖區 114\n",
    "    南港區 115\n",
    "    文山區 116\n",
    "    萬里區 207\n",
    "    金山區 208\n",
    "    板橋區 220\n",
    "    汐止區 221\n",
    "    深坑區 222\n",
    "    石碇區 223\n",
    "    瑞芳區 224\n",
    "    平溪區 226\n",
    "    雙溪區 227\n",
    "    貢寮區 228\n",
    "    新店區 231\n",
    "    坪林區 232\n",
    "    烏來區 233\n",
    "    永和區 234\n",
    "    中和區 235\n",
    "    土城區 236\n",
    "    三峽區 237\n",
    "    樹林區 238\n",
    "    鶯歌區 239\n",
    "    三重區 241\n",
    "    新莊區 242\n",
    "    泰山區 243\n",
    "    林口區 244\n",
    "    蘆洲區 247\n",
    "    五股區 248\n",
    "    八里區 249\n",
    "    淡水區 251\n",
    "    三芝區 252\n",
    "    石門區 253'''\n",
    "code = code.replace('\\n',',')\n",
    "code_={}\n",
    "for row in code.split(',') :\n",
    "    code_[row.split()[0]]=row.split()[1]"
   ]
  },
  {
   "cell_type": "code",
   "execution_count": 48,
   "metadata": {},
   "outputs": [
    {
     "data": {
      "text/plain": [
       "['李太太有點年紀還有女兒']"
      ]
     },
     "execution_count": 48,
     "metadata": {},
     "output_type": "execute_result"
    }
   ],
   "source": [
    "re.findall('房東特徵:(.*)</title>',res.text.replace(' ',''))"
   ]
  },
  {
   "cell_type": "code",
   "execution_count": 53,
   "metadata": {},
   "outputs": [
    {
     "name": "stdout",
     "output_type": "stream",
     "text": [
      "{'url': 'http://rent-exp.blogspot.tw/2017/08/23x-x.html', 'address': '新北市板橋區南雅南路2段3x-x號整層', 'cityID': '220', 'description': '鄭姓房東'}\n",
      "{'url': 'http://rent-exp.blogspot.tw/2017/07/8x2x.html', 'address': '新北市板橋區新府路8X號2x樓整層住家', 'cityID': '220', 'description': '胡姓房東'}\n",
      "{'url': 'http://rent-exp.blogspot.tw/2017/07/70x.html', 'address': '新北市永和區永和路一段70號X樓整層住家', 'cityID': '234', 'description': '夫妻'}\n",
      "{'url': 'http://rent-exp.blogspot.tw/2017/07/1xx.html', 'address': '新北市土城區中央路三段1xx號近藥妝店套房', 'cityID': '236', 'description': '王姓中年男子'}\n",
      "{'url': 'http://rent-exp.blogspot.tw/2017/07/16xx-xx.html', 'address': '新北市新莊區建安街16巷x號x樓整層住家', 'cityID': '242', 'description': '陳姓中年婦人代理人房東王XX'}\n",
      "{'url': 'http://rent-exp.blogspot.tw/2017/06/108x.html', 'address': '新北市蘆洲區忠孝路108號X樓整層住家', 'cityID': '247', 'description': '職業仲介女房東'}\n",
      "{'url': 'http://rent-exp.blogspot.tw/2017/06/2832xx.html', 'address': ''}\n",
      "{'url': 'http://rent-exp.blogspot.tw/2017/06/741xx-0926.html', 'address': '新北市淡水區水源街二段74巷1x號x樓套房', 'cityID': '251', 'description': '楊姓老太太手機0926開頭很矮小'}\n",
      "{'url': 'http://rent-exp.blogspot.tw/2017/06/xx-0936.html', 'address': '新北市永和區永貞路xx號全家附近套房', 'cityID': '234', 'description': '一對夫婦稱管理員手機0936戴眼鏡'}\n",
      "{'url': 'http://rent-exp.blogspot.tw/2017/06/xx5-0922.html', 'address': '新北市淡水區水源街二段XX巷5樓近滷味攤套房', 'cityID': '251', 'description': '林姓中年男子手機0922開頭'}\n",
      "{'url': 'http://rent-exp.blogspot.tw/2017/06/blog-post.html', 'address': '新北市永和區秀朗路一段近土地公廟套房', 'cityID': '234', 'description': '劉姓先生黑眼圈很重氣色很差'}\n",
      "{'url': 'http://rent-exp.blogspot.tw/2017/06/751xx.html', 'address': '新北市永和區環河西路一段75巷1弄xx號套房', 'cityID': '234', 'description': '林姓中年婦人兒女為王姓住租屋處同棟'}\n",
      "{'url': 'http://rent-exp.blogspot.tw/2017/05/7x1-4-0910.html', 'address': '新北市三重區三和路四段7X號之1&#215;4樓整層住家', 'cityID': '241', 'description': '張姓中年婦人矮瘦手機&#65306;0910'}\n",
      "{'url': 'http://rent-exp.blogspot.tw/2017/05/9-0936.html', 'address': '新北市三重區三和路四段某巷9號套房', 'cityID': '241', 'description': '蔡姓房東0936'}\n",
      "{'url': 'http://rent-exp.blogspot.tw/2017/05/1012x.html', 'address': '新北市三重區三和路四段101巷2X號近加油站套房', 'cityID': '241', 'description': '林姓中年男子長髮愛吃檳榔'}\n",
      "{'url': 'http://rent-exp.blogspot.tw/2017/05/245x.html', 'address': '新北市林口區四維路245巷x號獨棟透天後方土地公廟雅房', 'cityID': '244', 'description': '王姓五六十歲左右婦人&#65292;在院子養了很多植物&#65292;有一隻大白狗'}\n",
      "{'url': 'http://rent-exp.blogspot.tw/2017/05/42537xx-0910.html', 'address': '新北市永和區永和路二段425巷37弄XX號套房', 'cityID': '234', 'description': '陳中年男子手機0910開頭'}\n",
      "{'url': 'http://rent-exp.blogspot.tw/2017/05/blog-post_10.html', 'address': '新北市中和區保健路分租公寓近社區大樓雅房', 'cityID': '235', 'description': '林姓中年男子臉頰胖啤酒肚戴眼鏡凸眼'}\n",
      "{'url': 'http://rent-exp.blogspot.tw/2017/05/1xx.html', 'address': '新北市板橋區永豐街1xx號近藥局(萬板路附近也有房子)整層住家', 'cityID': '220', 'description': ''}\n",
      "{'url': 'http://rent-exp.blogspot.tw/2017/05/xx18x-0919.html', 'address': '新北市板橋區xx路18x號旁邊有機車行雅房', 'cityID': '220', 'description': '黃姓男子/情侶手機0919開頭'}\n",
      "{'url': 'http://rent-exp.blogspot.tw/2017/05/3xx.html', 'address': '新北市深坑區深坑街3巷x號x樓深坑農會附近套房', 'cityID': '222', 'description': '吳姓婦女'}\n",
      "{'url': 'http://rent-exp.blogspot.tw/2017/04/1x.html', 'address': '新北市三重區集成路1x號&#65288;該樓不少套房&#65289;套房', 'cityID': '241', 'description': '吳姓中年男子不高看起來白白淨淨面帶微笑講話溫柔'}\n",
      "{'url': 'http://rent-exp.blogspot.tw/2017/04/401.html', 'address': '新北市永和區新生路40巷1弄整棟', 'cityID': '234', 'description': '中年婦人丈夫姓黃兒子帶看'}\n",
      "{'url': 'http://rent-exp.blogspot.tw/2017/04/1391x711-0229.html', 'address': ''}\n",
      "{'url': 'http://rent-exp.blogspot.tw/2017/04/38x.html', 'address': '新北市中和區員山路38x號老兵牛肉麵正對面的小門(進去是獨棟)整棟', 'cityID': '235', 'description': '張淑晶'}\n",
      "{'url': 'http://rent-exp.blogspot.tw/2017/04/139.html', 'address': '新北市三重區車路頭街139巷頂樓加蓋近宮廟整層住家', 'cityID': '241', 'description': '房東及房東太太看起來是老實人&#65292;個子都不高'}\n",
      "{'url': 'http://rent-exp.blogspot.tw/2017/04/85c-x-0952.html', 'address': '新北市蘆洲區光華路近85度c套房', 'cityID': '247', 'description': '張姓中年婦人說自己是慈x的&#65292;對房客都很好手機0952開頭'}\n",
      "{'url': 'http://rent-exp.blogspot.tw/2017/04/1381.html', 'address': '新北市板橋區長安街138巷1弄(張淑晶之家)整棟', 'cityID': '220', 'description': '張姓女惡房東&#65292;多次上過新聞&#65292;全國知名'}\n",
      "{'url': 'http://rent-exp.blogspot.tw/2017/04/285.html', 'address': '新北市板橋文化路一段285巷套房'}\n",
      "{'url': 'http://rent-exp.blogspot.tw/2017/04/095x.html', 'address': '新北市龍門路與三和路上的社區大樓套房'}\n",
      "{'url': 'http://rent-exp.blogspot.tw/2017/04/11220-097x.html', 'address': '新北市中和區國光街112巷20弄附近有宮廟雅房', 'cityID': '235', 'description': '周姓婦人手機手機097x經常騎腳踏車出門'}\n",
      "{'url': 'http://rent-exp.blogspot.tw/2017/04/103x-xx.html', 'address': '新北市中和區大仁街10巷3x-X號X樓整層住家', 'cityID': '235', 'description': '馬姓父子'}\n",
      "{'url': 'http://rent-exp.blogspot.tw/2017/04/5_23.html', 'address': ''}\n",
      "{'url': 'http://rent-exp.blogspot.tw/2017/04/39-7.html', 'address': '新北市永和區秀朗路二段39巷獨棟共7層樓套房', 'cityID': '234', 'description': '很多房東共同管理'}\n",
      "{'url': 'http://rent-exp.blogspot.tw/2017/04/blog-post_20.html', 'address': '新北市淡水區學府路大田寮真理淡大一帶套房', 'cityID': '251', 'description': '許姓中年男子'}\n",
      "{'url': 'http://rent-exp.blogspot.tw/2017/04/x-0986.html', 'address': '新北市永和區永利路x號&#65292;近八方雲集雅房', 'cityID': '234', 'description': ''}\n",
      "{'url': 'http://rent-exp.blogspot.tw/2017/04/49-0979.html', 'address': '新北市板橋區永豐街49巷早餐店斜對面精美電梯華廈套房', 'cityID': '220', 'description': ''}\n",
      "{'url': 'http://rent-exp.blogspot.tw/2017/04/31x-09120919999.html', 'address': '新北市板橋區宮口街31號X樓', 'cityID': '220', 'description': '龔姓男子手機0912開頭和手機0919...999'}\n",
      "{'url': 'http://rent-exp.blogspot.tw/2017/04/315ax.html', 'address': '新北市板橋區民生路三段315號(A棟)X樓板橋巨蛋', 'cityID': '220', 'description': '公務員退休白頭髮男老年人伯伯(有時是房東老婆矮矮的中年婦人)'}\n",
      "{'url': 'http://rent-exp.blogspot.tw/2017/04/69.html', 'address': '新北市新莊區福營路69號整棟住家', 'cityID': '242', 'description': '張淑晶之家'}\n",
      "{'url': 'http://rent-exp.blogspot.tw/2017/04/blog-post_97.html', 'address': '新北市三重區新北大道一段旁邊有全家整層住家', 'cityID': '241', 'description': '中年李姓婦人'}\n",
      "{'url': 'http://rent-exp.blogspot.tw/2017/04/13x3-5.html', 'address': '新北市蘆洲區中山二路13x號樓上(3-5樓)套房', 'cityID': '247', 'description': '中年婦人&#65292;先生看起來像工人'}\n",
      "{'url': 'http://rent-exp.blogspot.tw/2017/03/3_19.html', 'address': '新北市板橋區大勇街3巷雙數個位數號偶數樓', 'cityID': '220', 'description': '無'}\n",
      "{'url': 'http://rent-exp.blogspot.tw/2017/03/216226-x8f.html', 'address': '新北市汐止區東勢街216巷22弄6-X號8F白雲山莊內', 'cityID': '221', 'description': '陳太太,李先生'}\n",
      "{'url': 'http://rent-exp.blogspot.tw/2017/03/xxc.html', 'address': '新北市樹林區博愛一街x號x樓C室', 'cityID': '238', 'description': '許小姐有管理人'}\n",
      "{'url': 'http://rent-exp.blogspot.tw/2017/03/49x5.html', 'address': ''}\n",
      "{'url': 'http://rent-exp.blogspot.tw/2017/03/blog-post_96.html', 'address': '新北市新莊區輔大金財神樓下有工廠', 'cityID': '242', 'description': '姓陳'}\n",
      "{'url': 'http://rent-exp.blogspot.tw/2017/03/0933.html', 'address': '新北市永和區林森路某巷', 'cityID': '234', 'description': '姓林,電話0933開頭'}\n",
      "{'url': 'http://rent-exp.blogspot.tw/2017/03/x53-xx.html', 'address': '新北市永和區秀朗路二段X5巷3-XX號雅房', 'cityID': '234', 'description': '無'}\n",
      "{'url': 'http://rent-exp.blogspot.tw/2017/03/5xx.html', 'address': ''}\n",
      "{'url': 'http://rent-exp.blogspot.tw/2017/03/blog-post_43.html', 'address': '新北市永和區中正路某巷,近樂華夜市', 'cityID': '234', 'description': '周姓婦人'}\n",
      "{'url': 'http://rent-exp.blogspot.tw/2017/03/300100.html', 'address': '新北市板橋區長江路二段300號附近,莒光路100號附近近江子翠捷運站', 'cityID': '220', 'description': '姓蘇,乍看和藹老人'}\n",
      "5\n",
      "[{'url': 'http://rent-exp.blogspot.tw/2017/08/8xx.html', 'address': '台北市中正區齊東街8X號X樓店面', 'cityID': '100', 'description': '彭姓母女&#12289;代理人陳先生'}, {'url': 'http://rent-exp.blogspot.tw/2017/07/128xx-5-line.html', 'address': '台北市中山區中山北路二段128巷X弄X號近停車場&#65292;5樓邊間套房', 'cityID': '104', 'description': '王姓婦人身形瘦帶有色眼鏡line名稱為兒子名+媽媽'}, {'url': 'http://rent-exp.blogspot.tw/2017/07/4321xx-0910.html', 'address': '台北市信義區吳興街432巷1xx號頂樓近停車場路口整層住家', 'cityID': '110', 'description': '林姓中年男子手機0910開頭'}, {'url': 'http://rent-exp.blogspot.tw/2017/07/25xx.html', 'address': '台北市萬華區康定路25巷xx號整棟', 'cityID': '108', 'description': '林姓男子,公務人員,將退休'}, {'url': 'http://rent-exp.blogspot.tw/2017/07/3xx2-xx-0933.html', 'address': '台北市士林區華岡路3x之x號2樓雅房', 'cityID': '111', 'description': '王xx中年婦人手機0933開頭戴眼鏡'}, {'url': 'http://rent-exp.blogspot.tw/2017/06/232-5x.html', 'address': '台北市信義區虎林街232巷5x號整層住家', 'cityID': '110', 'description': '老太太與她的中年女兒租整層空屋'}, {'url': 'http://rent-exp.blogspot.tw/2017/06/92.html', 'address': '台北市內湖區陽光街92巷某大樓雅房', 'cityID': '114', 'description': '周姓中年婦人'}, {'url': 'http://rent-exp.blogspot.tw/2017/06/34x.html', 'address': '台北市士林區菁山路34巷x號套房', 'cityID': '111', 'description': '李太太有點年紀還有女兒'}, {'url': 'http://rent-exp.blogspot.tw/2017/06/8x2-50.html', 'address': '台北市中正區同安街8X號之2近頂好雅房', 'cityID': '100', 'description': '姓高看起來是50多歲的老人&#65292;戴眼鏡'}, {'url': 'http://rent-exp.blogspot.tw/2017/06/71x.html', 'address': '台北市文山區木柵路二段7巷1X號套房', 'cityID': '116', 'description': '施中年男子'}, {'url': 'http://rent-exp.blogspot.tw/2017/06/2x6.html', 'address': '台北市新莊區中港一街2X號6樓套房', 'cityID': '242', 'description': '黃姓中年婦人'}, {'url': 'http://rent-exp.blogspot.tw/2017/06/1xxx.html', 'address': '台北市文山區興隆路四段1XX號X樓套房', 'cityID': '116', 'description': '黃姓中老年男子肚子很大'}, {'url': 'http://rent-exp.blogspot.tw/2017/05/12571x4f-50-56.html', 'address': '台北市八德路三段12巷57弄1X號4F雅房'}, {'url': 'http://rent-exp.blogspot.tw/2017/05/5788x1.html', 'address': '台北市中山區北安路578巷8弄X號1樓整層住家', 'cityID': '104', 'description': '黃小姐&#65292;李太太'}, {'url': 'http://rent-exp.blogspot.tw/2017/05/320x-sunny.html', 'address': '台北市大同區長安西路320號X樓套房', 'cityID': '103', 'description': '周姓代理人/英文名稱Sunny/洪姓先生為其仲介'}, {'url': 'http://rent-exp.blogspot.tw/2017/05/2.html', 'address': '台北市士林區大南路2&#215;號套房', 'cityID': '111', 'description': '許姓中年大哥總是運動風的裝扮'}, {'url': 'http://rent-exp.blogspot.tw/2017/05/3134.html', 'address': '台北市文山區育英街31巷34弄套房', 'cityID': '116', 'description': '廿一男'}, {'url': 'http://rent-exp.blogspot.tw/2017/05/3101x2.html', 'address': '台北市信義區福德街310巷1x號2樓整層住家', 'cityID': '110', 'description': '陶小姐'}, {'url': 'http://rent-exp.blogspot.tw/2017/05/1x-xx.html', 'address': '台北市文山區溪州街1x-xx號套房', 'cityID': '116', 'description': '張姓婦人'}, {'url': 'http://rent-exp.blogspot.tw/2017/05/h.html', 'address': '台北市大同區華陰街雙數號離京站超近.樓下有洗衣店雅房', 'cityID': '103', 'description': 'H(顏色)姓氏老夫婦'}, {'url': 'http://rent-exp.blogspot.tw/2017/05/x6x.html', 'address': '台北市士林區建業路x巷6X號套房', 'cityID': '111', 'description': '簡先生'}, {'url': 'http://rent-exp.blogspot.tw/2017/05/24.html', 'address': '台北市信義區林口街24巷近麵粉工廠&#12289;印刷廠雅房', 'cityID': '110', 'description': '楊性中年婦人'}, {'url': 'http://rent-exp.blogspot.tw/2017/05/34x.html', 'address': '台北市士林區菁山路34巷x號', 'cityID': '111', 'description': '二房東王阿姨'}, {'url': 'http://rent-exp.blogspot.tw/2017/05/324x.html', 'address': '台北市文山區新光路一段32巷4弄x號雅房', 'cityID': '116', 'description': '鄭老太太'}, {'url': 'http://rent-exp.blogspot.tw/2017/04/29134x.html', 'address': '台北市松山區南京東路五段291巷34弄x號雅房', 'cityID': '105', 'description': '林姓中年婦女喜歡打扮年輕另有開公司'}, {'url': 'http://rent-exp.blogspot.tw/2017/04/14515.html', 'address': '台北市萬華區富民路145巷15弄套房', 'cityID': '108', 'description': '王姓中年男子'}, {'url': 'http://rent-exp.blogspot.tw/2017/04/284.html', 'address': '台北市信義區吳興街284巷整層住家', 'cityID': '110', 'description': '徐姓中年婦人'}, {'url': 'http://rent-exp.blogspot.tw/2017/04/3.html', 'address': '台北市萬華區康定路3&#215;&#215;號三樓鑽石大樓套房', 'cityID': '108', 'description': '林姓中年婦人很胖喜歡穿裸露衣服化濃妝'}, {'url': 'http://rent-exp.blogspot.tw/2017/04/2xx.html', 'address': '台北市信義區吳興街2xx號台北醫學大學附近雅房', 'cityID': '110', 'description': '成姓中年男子&#12289;個子矮矮'}, {'url': 'http://rent-exp.blogspot.tw/2017/04/59x-7x.html', 'address': '台北市大安區師大路59巷X號五樓頂加巷口仁愛眼鏡限女雅房', 'cityID': '106', 'description': '慣說台語的7X歲阿姨不住附近使用自己打的契約'}, {'url': 'http://rent-exp.blogspot.tw/2017/04/62xx-line.html', 'address': '台北市內湖區南京東路6段2xx號套房', 'cityID': '114', 'description': '洪姓中年男子&#65292;自稱早期來自台南打拼有賺到錢&#65292;LINE照片都放韓國男星照片'}, {'url': 'http://rent-exp.blogspot.tw/2017/04/59.html', 'address': '台北市大安區師大路59巷', 'cityID': '106', 'description': '無'}, {'url': 'http://rent-exp.blogspot.tw/2017/04/31510xx-0937.html', 'address': '台北市石牌路二段315巷10弄xx號套房'}, {'url': 'http://rent-exp.blogspot.tw/2017/04/15x-70.html', 'address': '台北市松山區饒河街15x號附近頂樓套房', 'cityID': '105', 'description': '男&#12289;客家人&#12289;光頭&#12289;70多歲&#12289;穿著邋遢'}, {'url': 'http://rent-exp.blogspot.tw/2017/04/2x4-x.html', 'address': '台北市文山區恆光街2X號4樓近魚鋪套房', 'cityID': '116', 'description': '翁小姐華X租屋'}, {'url': 'http://rent-exp.blogspot.tw/2017/04/092x.html', 'address': '台北市士林區福港街房東在哪邊有多處出租雅房', 'cityID': '111', 'description': '陳姓中年婦女092X開頭房租便宜沒戴眼鏡在咖啡廳上班'}, {'url': 'http://rent-exp.blogspot.tw/2017/04/21.html', 'address': '台北市文山區興農路一段21*號近全家&#65292;家具行雅房', 'cityID': '116', 'description': '一對夫婦&#65292;退休了&#65292;有開工廠位於桃園'}, {'url': 'http://rent-exp.blogspot.tw/2017/04/19012xx4-0953.html', 'address': '台北市南港區重陽路190巷12弄XX號4樓雅房', 'cityID': '115', 'description': '手機開頭0953周先生'}, {'url': 'http://rent-exp.blogspot.tw/2017/04/43x.html', 'address': ''}, {'url': 'http://rent-exp.blogspot.tw/2017/04/28569xxx.html', 'address': '台北市內湖區內湖路一段285巷69弄XXX號雅房', 'cityID': '114', 'description': ''}, {'url': 'http://rent-exp.blogspot.tw/2017/04/2842.html', 'address': '台北市信義區吳興街284巷2樓近女衣店套房', 'cityID': '110', 'description': ''}, {'url': 'http://rent-exp.blogspot.tw/2017/04/xxx.html', 'address': '台北市士林區通河西街x段xx號&#65288;河堤旁&#65289;套房', 'cityID': '111', 'description': ''}, {'url': 'http://rent-exp.blogspot.tw/2017/04/20-1x-591ptt.html', 'address': '台北市大安區基隆路三段20-1號X樓', 'cityID': '106', 'description': '用591跟PTT的阿伯'}, {'url': 'http://rent-exp.blogspot.tw/2017/04/15736883x-0919.html', 'address': '台北市南港區經貿二路157巷36弄88號3樓之X套房', 'cityID': '115', 'description': '董姓中老年婦人&#65292;手機0919開頭'}, {'url': 'http://rent-exp.blogspot.tw/2017/03/264-60.html', 'address': '台北市大安區瑞安街264巷某套房', 'cityID': '106', 'description': '60歲左右大媽'}, {'url': 'http://rent-exp.blogspot.tw/2017/03/31x.html', 'address': '台北市北投區石牌路二段31x號', 'cityID': '112', 'description': '無'}, {'url': 'http://rent-exp.blogspot.tw/2017/03/266x.html', 'address': '台北市士林區光華路26巷X號X樓', 'cityID': '111', 'description': '曹先生'}, {'url': 'http://rent-exp.blogspot.tw/2017/03/563x.html', 'address': '台北市士林區格致路56巷3號X樓', 'cityID': '111', 'description': '何太太'}, {'url': 'http://rent-exp.blogspot.tw/2017/03/4x3.html', 'address': '台北市士林區華岡路4X號3樓', 'cityID': '111', 'description': '經營體育用品店'}, {'url': 'http://rent-exp.blogspot.tw/2017/03/2xx_14.html', 'address': '台北市士林區光華路2X號X樓', 'cityID': '111', 'description': '何阿姨'}, {'url': 'http://rent-exp.blogspot.tw/2017/03/68x_14.html', 'address': '台北市士林區建業路68巷X號', 'cityID': '111', 'description': '簡先生'}, {'url': 'http://rent-exp.blogspot.tw/2017/03/46x.html', 'address': '台北市士林區格致路46號X樓', 'cityID': '111', 'description': '二房東王阿姨'}, {'url': 'http://rent-exp.blogspot.tw/2017/03/68x.html', 'address': '台北市士林區建業路68巷X號', 'cityID': '111', 'description': '簡先生'}, {'url': 'http://rent-exp.blogspot.tw/2017/03/3-x.html', 'address': '台北市士林區華岡大廈3-X', 'cityID': '111', 'description': '鄭先生'}, {'url': 'http://rent-exp.blogspot.tw/2017/03/31-x3.html', 'address': '台北市士林區華岡路31-X號3樓', 'cityID': '111', 'description': '王阿姨(疑似賣鍋燒意麵?)'}, {'url': 'http://rent-exp.blogspot.tw/2017/03/50xx.html', 'address': '台北市士林區格致路50巷X號X樓', 'cityID': '111', 'description': '鄭先生'}, {'url': 'http://rent-exp.blogspot.tw/2017/03/34x.html', 'address': '台北市士林區菁山路34巷X號', 'cityID': '111', 'description': '林阿姨'}, {'url': 'http://rent-exp.blogspot.tw/2017/03/26x4.html', 'address': '台北市士林區光華路26巷X號4樓', 'cityID': '111', 'description': '經營藥局的夫妻'}, {'url': 'http://rent-exp.blogspot.tw/2017/03/39x.html', 'address': '台北市文山區菁山路39巷X號,某大樹下,文化大學', 'cityID': '116', 'description': '李太太'}, {'url': 'http://rent-exp.blogspot.tw/2017/03/26x1b.html', 'address': ''}, {'url': 'http://rent-exp.blogspot.tw/2017/03/3425.html', 'address': '台北市文山區菁山路34巷25號左右,文化大學', 'cityID': '116', 'description': '羅先生'}, {'url': 'http://rent-exp.blogspot.tw/2017/03/blog-post_12.html', 'address': '台北市吳興街北醫附近'}, {'url': 'http://rent-exp.blogspot.tw/2017/03/55.html', 'address': '台北市文山區興隆路一段55巷,大安區古亭萬隆&#12289;景美', 'cityID': '116', 'description': '鍾先生已婚'}, {'url': 'http://rent-exp.blogspot.tw/2017/03/79xx2.html', 'address': '台北市文山區羅斯福路五段79巷XX號2樓,', 'cityID': '116', 'description': '無'}, {'url': 'http://rent-exp.blogspot.tw/2017/03/c4-72-3.html', 'address': '台北市文山區試院路雙號上近C棟4-7樓分租套房,2-3樓一般住戶', 'cityID': '116', 'description': '男,有請個外勞'}, {'url': 'http://rent-exp.blogspot.tw/2017/03/39xx.html', 'address': ''}, {'url': 'http://rent-exp.blogspot.tw/2017/03/11222xx.html', 'address': '台北市文山區興隆路三段112巷2弄2X號X樓', 'cityID': '116', 'description': '林小姐'}, {'url': 'http://rent-exp.blogspot.tw/2017/03/2842x56f.html', 'address': '台北市信義區吳興街284巷2X弄5號左右6F', 'cityID': '110', 'description': '無'}, {'url': 'http://rent-exp.blogspot.tw/2017/03/100.html', 'address': '台北市大同區延平北路三段100號左右', 'cityID': '103', 'description': '大同里某里長'}, {'url': 'http://rent-exp.blogspot.tw/2017/03/60x.html', 'address': '台北市北投區明德路60巷X號附近', 'cityID': '112', 'description': '無'}, {'url': 'http://rent-exp.blogspot.tw/2017/03/28x10.html', 'address': '台北市信義區吳興街28X巷10號左右某社區內', 'cityID': '110', 'description': '吳姓房東'}, {'url': 'http://rent-exp.blogspot.tw/2017/03/blog-post_71.html', 'address': '台北市文山區羅斯福路五段巷子裡,舊公寓,套房+雅房,', 'cityID': '116', 'description': '中年夫婦,劉姓'}, {'url': 'http://rent-exp.blogspot.tw/2017/03/t.html', 'address': '台北市文山區福興路六樓頂加', 'cityID': '116', 'description': '有代理人T先生'}, {'url': 'http://rent-exp.blogspot.tw/2017/03/x-9f.html', 'address': '台北市大同區甘谷街X號9F', 'cityID': '103', 'description': '無'}, {'url': 'http://rent-exp.blogspot.tw/2017/03/blog-post_7.html', 'address': '台北市中山區,林森北路小套房', 'cityID': '104', 'description': '葉先生,是個基督徒'}, {'url': 'http://rent-exp.blogspot.tw/2017/03/50.html', 'address': '台北市大安區大安路一段50巷附近', 'cityID': '106', 'description': '老夫妻,姓宋'}, {'url': 'http://rent-exp.blogspot.tw/2017/03/3.html', 'address': '台北市文山區興隆路3段200巷左右,六樓頂加', 'cityID': '116', 'description': '自稱在法律事務所上班,疑似姓萬'}, {'url': 'http://rent-exp.blogspot.tw/2017/03/blog-post_57.html', 'address': '台北市北投區,石牌,北投運動中心旁,單人套房,', 'cityID': '112', 'description': '曾姓房東'}, {'url': 'http://rent-exp.blogspot.tw/2017/03/blog-post_81.html', 'address': '台北市文山區,羅斯福路六段,', 'cityID': '116', 'description': '陳小姐'}, {'url': 'http://rent-exp.blogspot.tw/2017/03/blog-post_23.html', 'address': '台北市信義區,永吉路某巷子內,', 'cityID': '110', 'description': '姓李'}, {'url': 'http://rent-exp.blogspot.tw/2017/03/87.html', 'address': '台北市中山區新生北路三段87巷', 'cityID': '104', 'description': '是個老人'}, {'url': 'http://rent-exp.blogspot.tw/2017/08/23x-x.html', 'address': '新北市板橋區南雅南路2段3x-x號整層', 'cityID': '220', 'description': '鄭姓房東'}, {'url': 'http://rent-exp.blogspot.tw/2017/07/8x2x.html', 'address': '新北市板橋區新府路8X號2x樓整層住家', 'cityID': '220', 'description': '胡姓房東'}, {'url': 'http://rent-exp.blogspot.tw/2017/07/70x.html', 'address': '新北市永和區永和路一段70號X樓整層住家', 'cityID': '234', 'description': '夫妻'}, {'url': 'http://rent-exp.blogspot.tw/2017/07/1xx.html', 'address': '新北市土城區中央路三段1xx號近藥妝店套房', 'cityID': '236', 'description': '王姓中年男子'}, {'url': 'http://rent-exp.blogspot.tw/2017/07/16xx-xx.html', 'address': '新北市新莊區建安街16巷x號x樓整層住家', 'cityID': '242', 'description': '陳姓中年婦人代理人房東王XX'}, {'url': 'http://rent-exp.blogspot.tw/2017/06/108x.html', 'address': '新北市蘆洲區忠孝路108號X樓整層住家', 'cityID': '247', 'description': '職業仲介女房東'}, {'url': 'http://rent-exp.blogspot.tw/2017/06/2832xx.html', 'address': ''}, {'url': 'http://rent-exp.blogspot.tw/2017/06/741xx-0926.html', 'address': '新北市淡水區水源街二段74巷1x號x樓套房', 'cityID': '251', 'description': '楊姓老太太手機0926開頭很矮小'}, {'url': 'http://rent-exp.blogspot.tw/2017/06/xx-0936.html', 'address': '新北市永和區永貞路xx號全家附近套房', 'cityID': '234', 'description': '一對夫婦稱管理員手機0936戴眼鏡'}, {'url': 'http://rent-exp.blogspot.tw/2017/06/xx5-0922.html', 'address': '新北市淡水區水源街二段XX巷5樓近滷味攤套房', 'cityID': '251', 'description': '林姓中年男子手機0922開頭'}, {'url': 'http://rent-exp.blogspot.tw/2017/06/blog-post.html', 'address': '新北市永和區秀朗路一段近土地公廟套房', 'cityID': '234', 'description': '劉姓先生黑眼圈很重氣色很差'}, {'url': 'http://rent-exp.blogspot.tw/2017/06/751xx.html', 'address': '新北市永和區環河西路一段75巷1弄xx號套房', 'cityID': '234', 'description': '林姓中年婦人兒女為王姓住租屋處同棟'}, {'url': 'http://rent-exp.blogspot.tw/2017/05/7x1-4-0910.html', 'address': '新北市三重區三和路四段7X號之1&#215;4樓整層住家', 'cityID': '241', 'description': '張姓中年婦人矮瘦手機&#65306;0910'}, {'url': 'http://rent-exp.blogspot.tw/2017/05/9-0936.html', 'address': '新北市三重區三和路四段某巷9號套房', 'cityID': '241', 'description': '蔡姓房東0936'}, {'url': 'http://rent-exp.blogspot.tw/2017/05/1012x.html', 'address': '新北市三重區三和路四段101巷2X號近加油站套房', 'cityID': '241', 'description': '林姓中年男子長髮愛吃檳榔'}, {'url': 'http://rent-exp.blogspot.tw/2017/05/245x.html', 'address': '新北市林口區四維路245巷x號獨棟透天後方土地公廟雅房', 'cityID': '244', 'description': '王姓五六十歲左右婦人&#65292;在院子養了很多植物&#65292;有一隻大白狗'}, {'url': 'http://rent-exp.blogspot.tw/2017/05/42537xx-0910.html', 'address': '新北市永和區永和路二段425巷37弄XX號套房', 'cityID': '234', 'description': '陳中年男子手機0910開頭'}, {'url': 'http://rent-exp.blogspot.tw/2017/05/blog-post_10.html', 'address': '新北市中和區保健路分租公寓近社區大樓雅房', 'cityID': '235', 'description': '林姓中年男子臉頰胖啤酒肚戴眼鏡凸眼'}, {'url': 'http://rent-exp.blogspot.tw/2017/05/1xx.html', 'address': '新北市板橋區永豐街1xx號近藥局(萬板路附近也有房子)整層住家', 'cityID': '220', 'description': ''}, {'url': 'http://rent-exp.blogspot.tw/2017/05/xx18x-0919.html', 'address': '新北市板橋區xx路18x號旁邊有機車行雅房', 'cityID': '220', 'description': '黃姓男子/情侶手機0919開頭'}, {'url': 'http://rent-exp.blogspot.tw/2017/05/3xx.html', 'address': '新北市深坑區深坑街3巷x號x樓深坑農會附近套房', 'cityID': '222', 'description': '吳姓婦女'}, {'url': 'http://rent-exp.blogspot.tw/2017/04/1x.html', 'address': '新北市三重區集成路1x號&#65288;該樓不少套房&#65289;套房', 'cityID': '241', 'description': '吳姓中年男子不高看起來白白淨淨面帶微笑講話溫柔'}, {'url': 'http://rent-exp.blogspot.tw/2017/04/401.html', 'address': '新北市永和區新生路40巷1弄整棟', 'cityID': '234', 'description': '中年婦人丈夫姓黃兒子帶看'}, {'url': 'http://rent-exp.blogspot.tw/2017/04/1391x711-0229.html', 'address': ''}, {'url': 'http://rent-exp.blogspot.tw/2017/04/38x.html', 'address': '新北市中和區員山路38x號老兵牛肉麵正對面的小門(進去是獨棟)整棟', 'cityID': '235', 'description': '張淑晶'}, {'url': 'http://rent-exp.blogspot.tw/2017/04/139.html', 'address': '新北市三重區車路頭街139巷頂樓加蓋近宮廟整層住家', 'cityID': '241', 'description': '房東及房東太太看起來是老實人&#65292;個子都不高'}, {'url': 'http://rent-exp.blogspot.tw/2017/04/85c-x-0952.html', 'address': '新北市蘆洲區光華路近85度c套房', 'cityID': '247', 'description': '張姓中年婦人說自己是慈x的&#65292;對房客都很好手機0952開頭'}, {'url': 'http://rent-exp.blogspot.tw/2017/04/1381.html', 'address': '新北市板橋區長安街138巷1弄(張淑晶之家)整棟', 'cityID': '220', 'description': '張姓女惡房東&#65292;多次上過新聞&#65292;全國知名'}, {'url': 'http://rent-exp.blogspot.tw/2017/04/285.html', 'address': '新北市板橋文化路一段285巷套房'}, {'url': 'http://rent-exp.blogspot.tw/2017/04/095x.html', 'address': '新北市龍門路與三和路上的社區大樓套房'}, {'url': 'http://rent-exp.blogspot.tw/2017/04/11220-097x.html', 'address': '新北市中和區國光街112巷20弄附近有宮廟雅房', 'cityID': '235', 'description': '周姓婦人手機手機097x經常騎腳踏車出門'}, {'url': 'http://rent-exp.blogspot.tw/2017/04/103x-xx.html', 'address': '新北市中和區大仁街10巷3x-X號X樓整層住家', 'cityID': '235', 'description': '馬姓父子'}, {'url': 'http://rent-exp.blogspot.tw/2017/04/5_23.html', 'address': ''}, {'url': 'http://rent-exp.blogspot.tw/2017/04/39-7.html', 'address': '新北市永和區秀朗路二段39巷獨棟共7層樓套房', 'cityID': '234', 'description': '很多房東共同管理'}, {'url': 'http://rent-exp.blogspot.tw/2017/04/blog-post_20.html', 'address': '新北市淡水區學府路大田寮真理淡大一帶套房', 'cityID': '251', 'description': '許姓中年男子'}, {'url': 'http://rent-exp.blogspot.tw/2017/04/x-0986.html', 'address': '新北市永和區永利路x號&#65292;近八方雲集雅房', 'cityID': '234', 'description': ''}, {'url': 'http://rent-exp.blogspot.tw/2017/04/49-0979.html', 'address': '新北市板橋區永豐街49巷早餐店斜對面精美電梯華廈套房', 'cityID': '220', 'description': ''}, {'url': 'http://rent-exp.blogspot.tw/2017/04/31x-09120919999.html', 'address': '新北市板橋區宮口街31號X樓', 'cityID': '220', 'description': '龔姓男子手機0912開頭和手機0919...999'}, {'url': 'http://rent-exp.blogspot.tw/2017/04/315ax.html', 'address': '新北市板橋區民生路三段315號(A棟)X樓板橋巨蛋', 'cityID': '220', 'description': '公務員退休白頭髮男老年人伯伯(有時是房東老婆矮矮的中年婦人)'}, {'url': 'http://rent-exp.blogspot.tw/2017/04/69.html', 'address': '新北市新莊區福營路69號整棟住家', 'cityID': '242', 'description': '張淑晶之家'}, {'url': 'http://rent-exp.blogspot.tw/2017/04/blog-post_97.html', 'address': '新北市三重區新北大道一段旁邊有全家整層住家', 'cityID': '241', 'description': '中年李姓婦人'}, {'url': 'http://rent-exp.blogspot.tw/2017/04/13x3-5.html', 'address': '新北市蘆洲區中山二路13x號樓上(3-5樓)套房', 'cityID': '247', 'description': '中年婦人&#65292;先生看起來像工人'}, {'url': 'http://rent-exp.blogspot.tw/2017/03/3_19.html', 'address': '新北市板橋區大勇街3巷雙數個位數號偶數樓', 'cityID': '220', 'description': '無'}, {'url': 'http://rent-exp.blogspot.tw/2017/03/216226-x8f.html', 'address': '新北市汐止區東勢街216巷22弄6-X號8F白雲山莊內', 'cityID': '221', 'description': '陳太太,李先生'}, {'url': 'http://rent-exp.blogspot.tw/2017/03/xxc.html', 'address': '新北市樹林區博愛一街x號x樓C室', 'cityID': '238', 'description': '許小姐有管理人'}, {'url': 'http://rent-exp.blogspot.tw/2017/03/49x5.html', 'address': ''}, {'url': 'http://rent-exp.blogspot.tw/2017/03/blog-post_96.html', 'address': '新北市新莊區輔大金財神樓下有工廠', 'cityID': '242', 'description': '姓陳'}, {'url': 'http://rent-exp.blogspot.tw/2017/03/0933.html', 'address': '新北市永和區林森路某巷', 'cityID': '234', 'description': '姓林,電話0933開頭'}, {'url': 'http://rent-exp.blogspot.tw/2017/03/x53-xx.html', 'address': '新北市永和區秀朗路二段X5巷3-XX號雅房', 'cityID': '234', 'description': '無'}, {'url': 'http://rent-exp.blogspot.tw/2017/03/5xx.html', 'address': ''}, {'url': 'http://rent-exp.blogspot.tw/2017/03/blog-post_43.html', 'address': '新北市永和區中正路某巷,近樂華夜市', 'cityID': '234', 'description': '周姓婦人'}, {'url': 'http://rent-exp.blogspot.tw/2017/03/300100.html', 'address': '新北市板橋區長江路二段300號附近,莒光路100號附近近江子翠捷運站', 'cityID': '220', 'description': '姓蘇,乍看和藹老人'}]\n"
     ]
    }
   ],
   "source": [
    "#badrent=[]\n",
    "count=0\n",
    "for text in tex:\n",
    "    try:\n",
    "        badren={}\n",
    "        badren['url']=text\n",
    "        res = requests.get(text)\n",
    "        \n",
    "        addr = str(*re.findall('<title>\\[新北市\\](.*)房東特徵',res.text.replace(' ','')))\n",
    "        if addr:\n",
    "            badren['address']= '新北市'+addr\n",
    "        else:\n",
    "            badren['address']=''\n",
    "            count += 1\n",
    "        cityID = addr.split('區')[0]\n",
    "        badren['cityID']=code_[cityID+'區']\n",
    "        badren['description']=str(*re.findall('房東特徵:(.*)</title>',res.text.replace(' ','')))\n",
    "    except Exception as e:\n",
    "        #print(e)\n",
    "        pass\n",
    "    print(badren)\n",
    "    badrent.append(badren)\n",
    "print(count)"
   ]
  },
  {
   "cell_type": "code",
   "execution_count": 54,
   "metadata": {},
   "outputs": [],
   "source": [
    "with open('D:\\\\project\\\\凶宅—惡房東待洗\\\\惡房東.json','w') as f:\n",
    "    json.dump(badrent,f)"
   ]
  },
  {
   "cell_type": "code",
   "execution_count": null,
   "metadata": {
    "collapsed": true
   },
   "outputs": [],
   "source": []
  }
 ],
 "metadata": {
  "kernelspec": {
   "display_name": "Python 3",
   "language": "python",
   "name": "python3"
  },
  "language_info": {
   "codemirror_mode": {
    "name": "ipython",
    "version": 3
   },
   "file_extension": ".py",
   "mimetype": "text/x-python",
   "name": "python",
   "nbconvert_exporter": "python",
   "pygments_lexer": "ipython3",
   "version": "3.6.1"
  }
 },
 "nbformat": 4,
 "nbformat_minor": 2
}
