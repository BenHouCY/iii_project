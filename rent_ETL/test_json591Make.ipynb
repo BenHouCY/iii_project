{
 "cells": [
  {
   "cell_type": "code",
   "execution_count": null,
   "metadata": {
    "collapsed": true
   },
   "outputs": [],
   "source": [
    " {\n",
    " 'id':id_,\n",
    " 'cityID':cityID,\n",
    " 'url':url,\n",
    " 'title':title,\n",
    " 'address':address,\n",
    " 'pattern':pattern,\n",
    " 'floor':floor,\n",
    " 'stories':stories,\n",
    " 'label':'套雅住',\n",
    " 'rent':rent,\n",
    " 'lat':lat,\n",
    " 'lng':lng,\n",
    " 'sex':sex,\n",
    " 'space':space,\n",
    " 'smoke':'N',\n",
    " 'pet':pet,\n",
    " 'cook':cook,\n",
    " 'updateDate':'',\n",
    " 'landlord':landlord,\n",
    " 'description':description,\n",
    " 'temp':temp,\n",
    "}"
   ]
  },
  {
   "cell_type": "code",
   "execution_count": null,
   "metadata": {
    "collapsed": true
   },
   "outputs": [],
   "source": []
  },
  {
   "cell_type": "code",
   "execution_count": 43,
   "metadata": {
    "collapsed": true
   },
   "outputs": [],
   "source": [
    "with open ('D:\\\\新增資料夾\\\\TPE_獨立套房\\\\url_591_1.txt','r',encoding='utf8') as f:\n",
    "    text = f.read()"
   ]
  },
  {
   "cell_type": "code",
   "execution_count": 44,
   "metadata": {
    "collapsed": true
   },
   "outputs": [],
   "source": [
    "text = text.replace('\\\\n','').replace('&nbsp;','').replace('\\\\r','').replace('<br>','')\n",
    "text = text.replace('<br />','').replace(' ','').replace('\\\\u3000','')"
   ]
  },
  {
   "cell_type": "code",
   "execution_count": 51,
   "metadata": {},
   "outputs": [
    {
     "data": {
      "text/plain": [
       "10.5"
      ]
     },
     "execution_count": 51,
     "metadata": {},
     "output_type": "execute_result"
    }
   ],
   "source": [
    "import re\n",
    "space = str(*re.findall('<li>坪數:(.*)</li><li>樓層',text)).split('坪')[0]\n",
    "space = str(re.findall('[0-9.]*',space)[0])\n",
    "\n",
    "space = float (space)\n",
    "space"
   ]
  },
  {
   "cell_type": "code",
   "execution_count": 40,
   "metadata": {
    "collapsed": true
   },
   "outputs": [],
   "source": [
    "import re"
   ]
  },
  {
   "cell_type": "code",
   "execution_count": 4,
   "metadata": {},
   "outputs": [
    {
     "data": {
      "text/plain": [
       "'悠雅碧湖vs文德捷運＊皇家湖濱雅房出租'"
      ]
     },
     "execution_count": 4,
     "metadata": {},
     "output_type": "execute_result"
    }
   ],
   "source": [
    "title = str(*re.findall('houseInfoTitle\\\">(.*)</span></h1><divc',text))\n",
    "title"
   ]
  },
  {
   "cell_type": "code",
   "execution_count": 5,
   "metadata": {},
   "outputs": [
    {
     "data": {
      "text/plain": [
       "'https://rent.591.com.tw/rent-detail-5474542.html'"
      ]
     },
     "execution_count": 5,
     "metadata": {},
     "output_type": "execute_result"
    }
   ],
   "source": [
    "url =str(*re.findall('\\'url\\':\\'(.*)\\',\\'html\\':',text))\n",
    "url"
   ]
  },
  {
   "cell_type": "code",
   "execution_count": 6,
   "metadata": {},
   "outputs": [
    {
     "data": {
      "text/plain": [
       "'台北市內湖區內湖路二段103巷'"
      ]
     },
     "execution_count": 6,
     "metadata": {},
     "output_type": "execute_result"
    }
   ],
   "source": [
    "address = str(*re.findall('class=\\\"addr\\\">(.*)</span><istyle=\\\"f',text))\n",
    "address"
   ]
  },
  {
   "cell_type": "code",
   "execution_count": 7,
   "metadata": {},
   "outputs": [
    {
     "data": {
      "text/plain": [
       "'陳先生'"
      ]
     },
     "execution_count": 7,
     "metadata": {},
     "output_type": "execute_result"
    }
   ],
   "source": [
    "landlord = str(*re.findall('avatarRight\">(.*)</div><divclass=\"infoTwo',text))\n",
    "landlord = landlord.split('<i>')[1].split('</i>')[0]\n",
    "landlord"
   ]
  },
  {
   "cell_type": "code",
   "execution_count": 8,
   "metadata": {},
   "outputs": [
    {
     "name": "stdout",
     "output_type": "stream",
     "text": [
      "1 12\n"
     ]
    }
   ],
   "source": [
    "if re.findall('型態:(.*)</li><li>現況',text) == '透天厝':\n",
    "    print('{} is 透天厝 '.format(url))\n",
    "else:\n",
    "    floor = str(*re.findall('樓層:(.*)</li><li>型態',text)).replace('F','').split('/')[0]\n",
    "    if floor == 'B1':\n",
    "        floor = -1\n",
    "stories = str(*re.findall('樓層:(.*)</li><li>型態',text)).replace('F','').split('/')[1]\n",
    "print(floor,stories)"
   ]
  },
  {
   "cell_type": "code",
   "execution_count": 9,
   "metadata": {},
   "outputs": [
    {
     "data": {
      "text/plain": [
       "'碧湖旁湖濱皇家社區都會生活居家首選。近文德捷運及多線公車，交通超方便。徒步即達737夜市文德黃昏市場全聯，購物飲食好享受。雅房面湖景觀佳，傢俱家電一應俱全。租金內含水瓦斯網路第四台加一人加收1500元電費另計每度5元歡迎愛乾淨，不抽煙，不養寵物，有正當職業或學生入住。體驗安全。快速。完善的租賃服務歡迎隨時洽詢鯨魚租屋陳祖丞0989-607-526或以手機號碼加鯨魚租屋有限公司，所收服務費皆開發票。若未開立，請來信檢舉:經查屬實獎金萬'"
      ]
     },
     "execution_count": 9,
     "metadata": {},
     "output_type": "execute_result"
    }
   ],
   "source": [
    "description = str(*re.findall('\"houseIntro\"onselectstart=\"returnfalse;\"style=\"-moz-user-select:none;user-select:none;\">(.*)</div><!--仲',text))\n",
    "description \n",
    "if ('>' in description) & ('<' in description):\n",
    "    description = re.findall('[\\u4E00-\\u9FFF]+[0-9\\u3000-\\u303F-，,:]*',description)\n",
    "    description = ''.join(description)\n",
    "description"
   ]
  },
  {
   "cell_type": "code",
   "execution_count": 10,
   "metadata": {},
   "outputs": [
    {
     "data": {
      "text/plain": [
       "'11000'"
      ]
     },
     "execution_count": 10,
     "metadata": {},
     "output_type": "execute_result"
    }
   ],
   "source": [
    "rent = str(*re.findall('priceclearfix\\\"><i>(.*)<b>元/月',text)).replace(',','')\n",
    "rent"
   ]
  },
  {
   "cell_type": "code",
   "execution_count": null,
   "metadata": {
    "collapsed": true
   },
   "outputs": [],
   "source": [
    "id_ = str(*re.findall('rent-detail-(.*).html',url))\n",
    "id_"
   ]
  },
  {
   "cell_type": "code",
   "execution_count": 33,
   "metadata": {},
   "outputs": [
    {
     "data": {
      "text/plain": [
       "114"
      ]
     },
     "execution_count": 33,
     "metadata": {},
     "output_type": "execute_result"
    }
   ],
   "source": [
    "cityID = str(*re.findall('[.]*市(\\w+)區[.]*',address))\n",
    "cityID = code_[cityID+'區']\n",
    "int(cityID)"
   ]
  },
  {
   "cell_type": "code",
   "execution_count": 36,
   "metadata": {},
   "outputs": [
    {
     "name": "stdout",
     "output_type": "stream",
     "text": [
      "1\n"
     ]
    }
   ],
   "source": [
    "def a():\n",
    "    a=1\n",
    "    b=2\n",
    "    return (a,b)\n",
    "b = a()\n",
    "print(b[0])"
   ]
  },
  {
   "cell_type": "code",
   "execution_count": 12,
   "metadata": {},
   "outputs": [
    {
     "name": "stdout",
     "output_type": "stream",
     "text": [
      "25.0823303 121.5800072\n"
     ]
    }
   ],
   "source": [
    "import requests\n",
    "#lat,lng\n",
    "res1 = requests.get('https://rent.591.com.tw/map-houseRound.html?type=1&post_id={}&detail=detail'.format(id_),headers={'User-Agent':'Mozilla/5.0 (Windows NT 6.1; Win64; x64) AppleWebKit/537.36 (KHTML, like Gecko) Chrome/60.0.3112.90 Safari/537.36','cookie':'SID=9QQe2QfwhGx82ooP_JH5tu1yI-BxvwznWPVpNbrHBvmhWPpCfZY7zkaELbi6DfZhwEQRHg.; HSID=Afxnv5ZwuQwRWRWya; SSID=AlRtPJRJTbUcs6UDW; APISID=xYcDioiP2XVhShKT/AYK8j_bZb28ydDLlG; SAPISID=0Asl7o191762EgbJ/AEGTSHtaQ1IQAPzZp; OTZ=3980485_24_24__24_; NID=110=YgM5qNYSmLpllU4f81F3_TAxYfK4p-dePjdyOv8P04k_bCXQTppuCinvv8eR51Az7g48zXNEwpeoiBMtGhWvZ6osbHBb_YSdYl-jelOyeICH3cWi651mzNRN6vER7lvjLoejs6Yiy4_qnJtIeGOy6JDKEb4ghxluTHz4cJ8KyaH9zCZU8UVpPAs6Z37Jt3ZnbIrFqFq7cocX__9LH4viTBsJs83HTf4kt2V8; SIDCC=AA248bdQFRrfX8NJdHP01CCHu0uFPqSC61ZLorz0RcgnCqcARlzDRYZnCL1-7l-_nGe1omgvi8iPoKGBHnI'})\n",
    "lat = str(*re.findall('l=zh-TW&q=(.*)&z=17&ou',res1.text)).split(',')[0]\n",
    "lng = str(*re.findall('l=zh-TW&q=(.*)&z=17&ou',res1.text)).split(',')[1]\n",
    "\n",
    "print(lat,lng) "
   ]
  },
  {
   "cell_type": "code",
   "execution_count": 13,
   "metadata": {},
   "outputs": [
    {
     "data": {
      "text/plain": [
       "'A'"
      ]
     },
     "execution_count": 13,
     "metadata": {},
     "output_type": "execute_result"
    }
   ],
   "source": [
    "sex = str(*re.findall('性別要求</div><divclass=\\\"two\\\"><span>：</span><emtitle=\\\"(.*)生</em></di',text)).split('\">')[0]\n",
    "if sex == '女生' :\n",
    "    sex = 'F'\n",
    "elif sex == '男生' :\n",
    "    sex = 'M'\n",
    "else :\n",
    "    sex = 'A'\n",
    "sex"
   ]
  },
  {
   "cell_type": "code",
   "execution_count": 30,
   "metadata": {
    "scrolled": true
   },
   "outputs": [
    {
     "name": "stdout",
     "output_type": "stream",
     "text": [
      "10\n"
     ]
    }
   ],
   "source": [
    "space = str(*re.findall('坪數:(.*)</li><li>樓層',text)).split('坪')[0]\n",
    "print(space)"
   ]
  },
  {
   "cell_type": "code",
   "execution_count": 15,
   "metadata": {},
   "outputs": [
    {
     "data": {
      "text/plain": [
       "'N'"
      ]
     },
     "execution_count": 15,
     "metadata": {},
     "output_type": "execute_result"
    }
   ],
   "source": [
    "pet = str(*re.findall('養寵物</div><divclass=\\\"two\\\"><span>：</span><emtitle=\\\"(.*)以</em></di',text)).split('\">')[0]\n",
    "if pet == '可以' :\n",
    "    pet = 'Y'\n",
    "else :\n",
    "    pet = 'N'\n",
    "pet"
   ]
  },
  {
   "cell_type": "code",
   "execution_count": 16,
   "metadata": {},
   "outputs": [
    {
     "data": {
      "text/plain": [
       "'Y'"
      ]
     },
     "execution_count": 16,
     "metadata": {},
     "output_type": "execute_result"
    }
   ],
   "source": [
    "cook = str(*re.findall('開伙</div><divclass=\\\"two\\\"><span>：</span><emtitle=\\\"(.*)以</em></di',text)).split('\">')[0]\n",
    "if cook == '可以' :\n",
    "    cook = 'Y'\n",
    "else :\n",
    "    cook = 'N'\n",
    "cook"
   ]
  },
  {
   "cell_type": "code",
   "execution_count": 17,
   "metadata": {},
   "outputs": [
    {
     "data": {
      "text/plain": [
       "'N'"
      ]
     },
     "execution_count": 17,
     "metadata": {},
     "output_type": "execute_result"
    }
   ],
   "source": [
    "temp = str(*re.findall('最短租期</div><divclass=\\\"two\\\"><span>：</span><emtitle=\\\"(.*)年</em></di',text)).split('\">')[0]\n",
    "if temp != '一年' :\n",
    "    temp = 'Y'\n",
    "else :\n",
    "    temp = 'N'\n",
    "temp"
   ]
  },
  {
   "cell_type": "code",
   "execution_count": 18,
   "metadata": {},
   "outputs": [
    {
     "data": {
      "text/plain": [
       "'NA'"
      ]
     },
     "execution_count": 18,
     "metadata": {},
     "output_type": "execute_result"
    }
   ],
   "source": [
    "pattern = str(*re.findall('隔間材料</div><divclass=\\\"two\\\"><span>：</span><emtitle=\\\"(.*)</em></div><liclass=\\\"clear',text)).split('\">')[0]\n",
    "if bool(pattern) == False:\n",
    "    pattern = 'NA'\n",
    "pattern"
   ]
  },
  {
   "cell_type": "code",
   "execution_count": 17,
   "metadata": {},
   "outputs": [
    {
     "data": {
      "text/plain": [
       "'info_data=qOZfN7wQr%2B5hHOKni23b%2BRxUOKE&type=rLEFMu4XrrpgEw'"
      ]
     },
     "execution_count": 17,
     "metadata": {},
     "output_type": "execute_result"
    }
   ],
   "source": [
    "import re\n",
    "imgsrc = str(*re.findall('imgsrc=\\\"//statics.591.com.tw/tools/showPhone.php\\?(.*)\\\"/></span></div><!--聯繫',text))\n",
    "#imgsrc ='//statics.591.com.tw/tools/showPhone.php?'+imgsrc\n",
    "imgsrc"
   ]
  },
  {
   "cell_type": "code",
   "execution_count": 19,
   "metadata": {
    "collapsed": true
   },
   "outputs": [],
   "source": [
    "code = '''中正區 100\n",
    "大同區 103\n",
    "中山區 104\n",
    "松山區 105\n",
    "大安區 106\n",
    "萬華區 108\n",
    "信義區 110\n",
    "士林區 111\n",
    "北投區 112\n",
    "內湖區 114\n",
    "南港區 115\n",
    "文山區 116\n",
    "萬里區 207\n",
    "金山區 208\n",
    "板橋區 220\n",
    "汐止區 221\n",
    "深坑區 222\n",
    "石碇區 223\n",
    "瑞芳區 224\n",
    "平溪區 226\n",
    "雙溪區 227\n",
    "貢寮區 228\n",
    "新店區 231\n",
    "坪林區 232\n",
    "烏來區 233\n",
    "永和區 234\n",
    "中和區 235\n",
    "土城區 236\n",
    "三峽區 237\n",
    "樹林區 238\n",
    "鶯歌區 239\n",
    "三重區 241\n",
    "新莊區 242\n",
    "泰山區 243\n",
    "林口區 244\n",
    "蘆洲區 247\n",
    "五股區 248\n",
    "八里區 249\n",
    "淡水區 251\n",
    "三芝區 252\n",
    "石門區 253'''"
   ]
  },
  {
   "cell_type": "code",
   "execution_count": 23,
   "metadata": {},
   "outputs": [
    {
     "name": "stdout",
     "output_type": "stream",
     "text": [
      "{'中正區': '100', '大同區': '103', '中山區': '104', '松山區': '105', '大安區': '106', '萬華區': '108', '信義區': '110', '士林區': '111', '北投區': '112', '內湖區': '114', '南港區': '115', '文山區': '116', '萬里區': '207', '金山區': '208', '板橋區': '220', '汐止區': '221', '深坑區': '222', '石碇區': '223', '瑞芳區': '224', '平溪區': '226', '雙溪區': '227', '貢寮區': '228', '新店區': '231', '坪林區': '232', '烏來區': '233', '永和區': '234', '中和區': '235', '土城區': '236', '三峽區': '237', '樹林區': '238', '鶯歌區': '239', '三重區': '241', '新莊區': '242', '泰山區': '243', '林口區': '244', '蘆洲區': '247', '五股區': '248', '八里區': '249', '淡水區': '251', '三芝區': '252', '石門區': '253'}\n"
     ]
    }
   ],
   "source": [
    "code = code.replace('\\n',',')\n",
    "code_={}\n",
    "for row in code.split(',') :\n",
    "    code_[row.split()[0]]=row.split()[1]\n",
    "print(code_)\n",
    "\n"
   ]
  },
  {
   "cell_type": "code",
   "execution_count": 39,
   "metadata": {},
   "outputs": [
    {
     "data": {
      "text/plain": [
       "'2017-08-14'"
      ]
     },
     "execution_count": 39,
     "metadata": {},
     "output_type": "execute_result"
    }
   ],
   "source": [
    "time = str(*re.findall('time\\':\\'(.*)\\'',text))\n",
    "time"
   ]
  },
  {
   "cell_type": "code",
   "execution_count": 41,
   "metadata": {},
   "outputs": [
    {
     "data": {
      "text/plain": [
       "'雅房'"
      ]
     },
     "execution_count": 41,
     "metadata": {},
     "output_type": "execute_result"
    }
   ],
   "source": [
    "str(*re.findall('區</a>&gt;<ahref=\\\"https://rent.591.com.tw/home/rent/index/r1s10k4.html\\\">(.*)</a>&gt;<ahref=\\\"https://',text)).split('</')[0]"
   ]
  },
  {
   "cell_type": "code",
   "execution_count": 4,
   "metadata": {},
   "outputs": [
    {
     "data": {
      "text/plain": [
       "'{\\'url\\':\\'https://rent.591.com.tw/rent-detail-5474542.html\\',\\'html\\':\\'<!DOCTYPEhtml><htmlxmlns=\"http://www.w3.org/1999/xhtml\"xmlns:fb=\"http://www.facebook.com/2008/fbml\"><head><metahttp-equiv=\"Content-Type\"content=\"text/html;charset=UTF-8\"/><title>雅房出租,悠雅碧湖vs文德捷運＊皇家湖濱雅房出租-台北內湖房屋出租-591租屋網</title><metaname=\"keywords\"content=\"591,591租房網,租屋,租屋網,591出租網,雅房出租,台北租屋,內湖租屋,租房網,591租屋網,房屋出租,519\"/><metaname=\"description\"content=\"591租房網,台北內湖租屋資訊:出租雅房,悠雅碧湖vs文德捷運＊皇家湖濱雅房出租,*碧湖旁［湖濱皇家社區］，都會生活居家首選。*近文德捷運及多線公車，交通超方便。*徒..\"/><metahttp-equiv=\"X-UA-Compatible\"content=\"IE=edge,chrome=1\"><metahttp-equiv=\"content-language\"content=\"zh-tw\"><metaname=\"author\"content=\"數字科技股份有限公司\"/><metaname=\"copyright\"content=\"www.591.com.tw\"/><metaname=\"viewport\"content=\"width=device-width,initial-scale=1,user-scalable=1\"/><metaname=\"robots\"content=\"ALL\"/><metaproperty=\"og:type\"content=\"company\"/><metaproperty=\"og:title\"content=\"雅房出租,悠雅碧湖vs文德捷運＊皇家湖濱雅房出租-台北內湖房屋出租-591租屋網\"/><metaproperty=\"og:description\"content=\"591租房網,台北內湖租屋資訊:出租雅房,悠雅碧湖vs文德捷運＊皇家湖濱雅房出租,*碧湖旁［湖濱皇家社區］，都會生活居家首選。*近文德捷運及多線公車，交通超方便。*徒..\"/><metaproperty=\"og:image\"content=\"https://hp1.591.com.tw/house/active/2017/06/05/149666305232870404_765x517x764665.jpg\"/><metaproperty=\"fb:app_id\"content=\"1720154344667186\"/><metaproperty=\"og:site_name\"content=\"591房屋交易\"/><metaproperty=\"og:url\"content=\"https://rent.591.com.tw/rent-detail-5474542.html\"/><linktype=\"text/css\"rel=\"stylesheet\"href=\"//statics.591.com.tw/min/?f=common.css,public.css,jq-popbox.css\"/><linkrel=\"stylesheet\"type=\"text/css\"href=\"//statics.591.com.tw/css/index/house-detailRent.css?20170809\"/><linkrel=\"stylesheet\"type=\"text/css\"media=\"screenand(max-width:1500px)\"href=\"//statics.591.com.tw/css/index/house/small-detail.css?20170427\"><linkrel=\"stylesheet\"type=\"text/css\"media=\"print\"href=\"//statics.591.com.tw/css/index/house/housePrint.css\"/><linkrel=\"image_src\"href=\"https://hp1.591.com.tw/house/active/2017/06/05/149666305232870404_94x68.jpg\"/><metaname=\"google-site-verification\"content=\"hEZ-1CusNSS7yOwwpax-fT1lpRNSdL8muaPV-Ek1eIc\"/><!--GoogleTagManager--><script>\\\\t/**\\\\t*update2017/06/16by<dzq@addcn.com>filteriframestat\\\\t*\\\\t*@paramsGTM_IS_IFRAME{Number}globalvariablebeusetofilteriframestat,0-stat,1-notstat.\\\\t*/\\\\ttry{\\\\t\\\\twindow.GTM_IS_IFRAME=top.location.href===window.location.href?0:1\\\\t}catch(e){\\\\t\\\\twindow.GTM_IS_IFRAME=0\\\\t}\\\\t//exportuserId\\\\twindow.GTM_USER_ID=\\\\\\'0\\\\\\'\\\\t;(function(w,d,s,l,i){w[l]=w[l]||[];w[l].push({\\\\\\'gtm.start\\\\\\':\\\\tnewDate().getTime(),event:\\\\\\'gtm.js\\\\\\'});varf=d.getElementsByTagName(s)[0],\\\\tj=d.createElement(s),dl=l!=\\\\\\'dataLayer\\\\\\'?\\\\\\'&l=\\\\\\'+l:\\\\\\'\\\\\\';j.async=true;j.src=\\\\t\\\\\\'https://www.googletagmanager.com/gtm.js?id=\\\\\\'+i+dl;f.parentNode.insertBefore(j,f);\\\\t})(window,document,\\\\\\'script\\\\\\',\\\\\\'dataLayer\\\\\\',\\\\\\'GTM-K5L9PD\\\\\\');\\\\t//tw591\\\\tif(!GTM_IS_IFRAME){\\\\t\\\\tvarENV=location.search.indexOf(\\\\\\'tw591\\\\\\')>-1?\\\\\\'dev.\\\\\\':\\\\\\'\\\\\\';\\\\t\\\\t(function(i,s,o,g,r,a,m){i[\\\\\\'TW591AnalyticsObject\\\\\\']=r;i[r]=i[r]||function(){\\\\t(i[r].q=i[r].q||[]).push(arguments)},i[r].l=1*newDate();a=s.createElement(o),\\\\tm=s.getElementsByTagName(o)[0];a.async=1;a.src=g;m.parentNode.insertBefore(a,m)\\\\t})(window,document,\\\\\\'script\\\\\\',\\\\\\'//s.\\\\\\'+ENV+\\\\\\'591.com.tw/widget/plugin/tw591.js\\\\\\',\\\\\\'tw591\\\\\\');\\\\t}</script><!--EndGoogleTagManager--><!--addcn-591-jkb--></head><bodyclass=\"RentSale\"id=\"RentSale_R\"id=\"newVersion\"><!--GoogleTagManager(noscript)--><noscript><iframesrc=\"https://www.googletagmanager.com/ns.html?id=GTM-K5L9PD\"height=\"0\"width=\"0\"style=\"display:none;visibility:hidden\"></iframe></noscript><!--EndGoogleTagManager(noscript)--><!--頂部狀態欄--><linkhref=\"//statics.591.com.tw/css/index/public/head.new.css?2016090203\"rel=\"stylesheet\"type=\"text/css\"><header><divclass=\"contenerclearfix\"><divclass=\"logoDiv\"><ahref=\"https://www.591.com.tw\"></a></div><ulclass=\"navDivclearfix\"><li><ahref=\"https://rent.591.com.tw/\"google-data-stat=\"新版出租詳細頁_頭部導航_租屋\"class=\"active\">租屋</a><ulclass=\"menu\"><divclass=\"menuTips\"></div><li><ahref=\"https://rent.591.com.tw/\">所有房屋</a></li><li><ahref=\"https://rent.591.com.tw/rentCommunity.html\">社區找房</a></li><li><ahref=\"https://rent.591.com.tw/map-index.html\"target=\"_blank\">地圖找房</a></li><li><ahref=\"https://rent.591.com.tw/rentBroker.html\">找經紀人</a></li></ul></li><li><ahref=\"https://sale.591.com.tw/\"google-data-stat=\"新版出租詳細頁_頭部導航_中古屋\">中古屋</a><ulclass=\"menu\"><divclass=\"menuTips\"></div><li><ahref=\"https://sale.591.com.tw/\">所有房屋</a></li><li><ahref=\"https://sale.591.com.tw/saleCommunity.html\">社區找房</a></li><li><ahref=\"https://sale.591.com.tw/map-index.html\"target=\"_blank\">地圖找房</a></li><li><ahref=\"https://newhouse.591.com.tw/housing-list.html\">找建案</a></li><li><ahref=\"https://sale.591.com.tw/saleBroker.html\">找經紀人</a></li><li><ahref=\"http://price.591.com.tw/\">實價登錄</a></li></ul></li><li><ahref=\"https://newhouse.591.com.tw/\"google-data-stat=\"新版出租詳細頁_頭部導航_新建案\">新建案</a></li><li><ahref=\"//business.591.com.tw/?type=1&kind=5\"google-data-stat=\"新版出租詳細頁_頭部導航_店面\">店面</a><divclass=\"menus\"><divclass=\"menusLeft\"><ulclass=\"menu\"><divclass=\"menuTips\"style=\"left:111px;top:-17px;\"></div><liclass=\"Boxtitle\"data-text=\"1\">出租</li><li><ahref=\"//business.591.com.tw/?type=1&kind=5\"google-data-stat=\"新版出租詳細頁_頭部導航_店面出租\"target=\"_blank\">店面出租</a></li><li><ahref=\"//business.591.com.tw/?type=6\"google-data-stat=\"新版出租詳細頁_頭部導航_店面頂讓\"target=\"_blank\">店面頂讓</a></li></ul></div><divclass=\"menusRight\"><ulclass=\"menu\"><liclass=\"Boxtitle\"data-text=\"2\">出售</li><li><ahref=\"//business.591.com.tw/?type=2&kind=5\"google-data-stat=\"新版出租詳細頁_頭部導航_店面出售\"target=\"_blank\">店面出售</a></li></ul></div></div></li><li><ahref=\"//business.591.com.tw/?type=1&kind=6\"google-data-stat=\"新版出租詳細頁_頭部導航_辦公\">辦公</a><divclass=\"menus\"><divclass=\"menusLeft\"><ulclass=\"menu\"><divclass=\"menuTips\"style=\"left:111px;top:-17px;\"></div><liclass=\"Boxtitle\"data-text=\"1\">出租</li><li><ahref=\"//business.591.com.tw/?type=1&kind=6\"google-data-stat=\"新版出租詳細頁_頭部導航_辦公出租\"target=\"_blank\">辦公</a></li><li><ahref=\"//business.591.com.tw/?type=1&kind=12\"google-data-stat=\"新版出租詳細頁_頭部導航_住辦出租\"target=\"_blank\">住辦</a></li></ul></div><divclass=\"menusRight\"><ulclass=\"menu\"><liclass=\"Boxtitle\"data-text=\"2\">出售</li><li><ahref=\"//business.591.com.tw/?type=2&kind=6\"google-data-stat=\"新版出租詳細頁_頭部導航_辦公出售\"target=\"_blank\">辦公</a></li><li><ahref=\"//business.591.com.tw/?type=2&kind=12\"google-data-stat=\"新版出租詳細頁_頭部導航_住辦出售\"target=\"_blank\">住辦</a></li></ul></div></div></li><li><ahref=\"//business.591.com.tw/?type=1&kind=7\"google-data-stat=\"新版出租詳細頁_頭部導航_廠房土地\">廠房土地</a><divclass=\"menus\"><divclass=\"menusLeft\"><ulclass=\"menu\"><divclass=\"menuTips\"style=\"left:111px;top:-17px;\"></div><liclass=\"Boxtitle\"data-text=\"1\">出租</li><li><ahref=\"//business.591.com.tw/?type=1&kind=7\"google-data-stat=\"新版出租詳細頁_頭部導航_廠房出租\"target=\"_blank\">廠房</a></li><li><ahref=\"//business.591.com.tw/?type=1&kind=11\"google-data-stat=\"新版出租詳細頁_頭部導航_土地出租\"target=\"_blank\">土地</a></li></ul></div><divclass=\"menusRight\"><ulclass=\"menu\"><liclass=\"Boxtitle\"data-text=\"2\">出售</li><li><ahref=\"//business.591.com.tw/?type=2&kind=7\"google-data-stat=\"新版出租詳細頁_頭部導航_廠房出售\"target=\"_blank\">廠房</a></li><li><ahref=\"//business.591.com.tw/?type=2&kind=11\"google-data-stat=\"新版出租詳細頁_頭部導航_土地出售\"target=\"_blank\">土地</a></li></ul></div></div></li><li><ahref=\"https://www.591.com.tw/newCommunity-list.html\"google-data-stat=\"新版出租詳細頁_頭部導航_社區\">社區</a></li><li><ahref=\"https://www.100.com.tw?aid=1\"google-data-stat=\"新版出租詳細頁_頭部導航_裝潢設計\"target=\"_blank\">裝潢設計</a></li><li><ahref=\"https://life.591.com.tw/service-demandIndex.html\"google-data-stat=\"新版出租詳細頁_頭部導航_搬家\">搬家</a></li><li><ahref=\"https://home.591.com.tw/\"google-data-stat=\"新版出租詳細頁_頭部導航_二手家具\">二手家具</a></li></ul><divclass=\"loginDivclearfix\"><divclass=\"register\"><ahref=\"https://www.591.com.tw/index.php?module=user\"target=\"_blank\">註冊</a><em>|</em><ahref=\"https://www.591.com.tw/user-login.html\"target=\"_blank\">登入</a></div><divclass=\"publish\"><ahref=\"https://www.591.com.tw/index.php?module=house&action=postFirst\"target=\"_blank\"class=\"Alink\">我要刊登</a><ulclass=\"menu\"><divclass=\"menuTips\"></div><li><ahref=\"https://www.591.com.tw/index.php?module=house&action=postFirst&type=rent\"target=\"_blank\">刊登出租</a></li><li><ahref=\"https://www.591.com.tw/index.php?module=house&action=postFirst&type=sale\"target=\"_blank\">刊登出售</a></li><li><ahref=\"https://www.591.com.tw/index.php?module=housing&action=housing\"target=\"_blank\"google-data-stat=\"內頁-頭部導航_刊登建案\">刊登建案</a></li><li><ahref=\"https://www.591.com.tw/help-charges.html\"target=\"_blank\"google-data-stat=\"內頁-頭部導航_收費標準\">收費標準</a></li></ul></div></div></div></div></header><divid=\"header-dealer\"><divid=\"PAGE_AD_1702\"class=\"baidu_advgad_Top\"></div></div></div><!--管理員面板--><style>#site-nav_NEW{width:1220px;}#header-dealer{width:1200px;}.baidu_adv{width:1200px;}</style><!--側邊工具欄--><divclass=\"side_tool_wrapnewFiexdSide\"style=\"display:none;\"><divclass=\"side_tool\"><ulclass=\"\"><li><ahref=\"javascript:;\"class=\"historyList\"google-data-stat=\"公共部分_工具欄_歷史記錄\"></a><divclass=\"side-showside-txthistoryListcursor\"><i></i>歷史記錄</div></li><li><ahref=\"javascript:;\"class=\"collectionList\"google-data-stat=\"公共部分_工具欄_收藏記錄\"></a><divclass=\"side-showside-txtcollectionListcursor\"><i></i>收藏記錄</div></li><li><ahref=\"javascript:;\"class=\"qrcode\"google-data-stat=\"公共部分_工具欄_下載591APP\"></a><divclass=\"side-showside_img\"><imgsrc=\"/static/public/component/images/code.png\"width=\"140\"height=\"172\"alt=\"下載591APP\"></div></li><li><ahref=\"javascript:;\"class=\"proposal\"google-data-stat=\"公共部分_工具欄_意見反饋\"></a><divclass=\"side-showside-txtproposalcursor\"><i></i>意見反饋</div></li><li><ahref=\"javascript:;\"class=\"online\"google-data-stat=\"公共部分_工具欄_在線客服\"></a><divclass=\"side-showside-txtonlinecursor\"><i></i>在線客服</div></li><li><ahref=\"javascript:;\"class=\"addCollec\"google-data-stat=\"公共部分_工具欄_加入收藏\"></a><divclass=\"side-showside-txtaddColleccursor\"><i></i>加入收藏</div></li></ul><ulstyle=\"position:fixed;bottom:10%;\"><li><ahref=\"javascript:;\"class=\"backtop\"style=\"display:none;\"onclick=\"window.scroll(0,0)\"google-data-stat=\"公共部分_工具欄_返回頂部\"></a><divclass=\"side-showside-txt\"><i></i>返回頂部</div></li></ul></div></div><!--側邊工具欄-瀏覽/收藏記錄--><divclass=\"record-body\"style=\"display:none;\"><divclass=\"record-wrap\"><divclass=\"record-container\"><divclass=\"record-header\"><spanclass=\"record-title\"></span><iclass=\"record-close\"><imgsrc=\"static/index/images/historyClose.png\"alt=\"\"></i></div><divclass=\"record-tab\"><divclass=\"record-tab-rentrecord-tab-itemrecord-tab-on\">出租</div><divclass=\"record-tab-salerecord-tab-item\">中古屋</div><divclass=\"record-tab-newhouserecord-tab-item\">新建案</div></div><divclass=\"record-list\"id=\"record-list\"></div><divclass=\"record-bottom\"></div><ahref=\"/user-login.html\"class=\"record-colle-bottom\"></a></div><divclass=\"record-empty\"><divclass=\"record-empty-img\"><imgsrc=\"static/index/images/colleEmpty.png\"alt=\"\"></div><divclass=\"record-empty-txt\">您還沒有瀏覽記錄唷</div><divclass=\"record-empty-close\">關閉</div></div><divclass=\"record-colle-empty\"><divclass=\"colle-empty-img\"><imgsrc=\"static/index/images/colleEmpty.png\"alt=\"\"></div><divclass=\"colle-empty-txt\">您還沒有收藏物件哦</div><divclass=\"colle-empty-close\">關閉</div></div></div></div><!--側邊工具欄-瀏覽/收藏記錄模板--><scripttype=\"text/html\"id=\"historyListTpl\"><@for(x=0;x<data.length;x++){@><ahref=\"<@=data[x].url@>\"class=\"record-list-a\"data-id=\"<@if(data[x].type==\\\\\\'newhouse\\\\\\'){@><@=data[x].hid@><@}else{@><@=data[x].post_id@><@}@>\"target=\"_blank\"><divclass=\"record-list-up\"><imgsrc=\"<@if(data[x].type==\\\\\\'newhouse\\\\\\'){@><@=data[x].cover@><@}else{@><@=data[x].photo_src@><@}@>\"alt=\"\"class=\"record-list-img\"><iclass=\"record-list-nums\"><@if(data[x].type==\\\\\\'newhouse\\\\\\'){@><@=data[x].photo_num@><@}else{@><@=data[x].img_num@><@}@></i></div><divclass=\"record-list-ctx\"><@if(data[x].type==\\\\\\'newhouse\\\\\\'){@><@=data[x].build_name@><@}else{@><@=data[x].title@><@}@></div><divclass=\"record-list-down\"><spanclass=\"record-list-money\"><@if(data[x].type==\\\\\\'newhouse\\\\\\'){@><@=data[x].price@><@}else{@><@=data[x].price_value@><@}@></span><spanclass=\"record-list-unit\"><@=data[x].price_unit@></span><iclass=\"record-list-colle\"data-id=\"<@if(data[x].type==\\\\\\'newhouse\\\\\\'){@><@=data[x].hid@>@><@}else{@><@=data[x].post_id@><@}@>\"></i></div><iclass=\"record-list-del\"data-id=\"<@if(data[x].type==\\\\\\'newhouse\\\\\\'){@><@=data[x].hid@>@><@}else{@><@=data[x].post_id@><@}@>\"></i></a><@}@></script><!--主要內容--><divid=\"main\"><!--propNav--><divid=\"propNav\"class=\"clearfix\"><ahref=\"https://www.591.com.tw/index.php\">首頁</a>&gt;<ahref=\"https://rent.591.com.tw/\">租屋</a>&gt;<ahref=\"https://rent.591.com.tw/home/rent/index/r1.html\">台北市</a>&gt;<ahref=\"https://rent.591.com.tw/home/rent/index/r1s10.html\">內湖區</a>&gt;<ahref=\"https://rent.591.com.tw/home/rent/index/r1s10k4.html\">雅房</a>&gt;<ahref=\"https://rent.591.com.tw/home/rent/index/r1s10k4p3.html\">10000-20000元</a>&gt;</span><spanclass=\"addr\">台北市內湖區內湖路二段103巷</span><istyle=\"font-style:inherit;color:#999\">（R5474542）</i><ulclass=\"operateclearfix\"><liclass=\"collect\"><aid=\"j_addfav\"style=\"padding-left:23px;\"class=\"ico_fav\"href=\"javascript:;\"data-stat=\"fav_2010_1_1\"google-data-stat=\"出租-新版詳細頁-加入收藏\">收藏(0)</a></li><liclass=\"fb\"><aclass=\"fb_i\"style=\"padding-left:23px;\"id=\"thankRentFB\"google-data-stat=\"出租-新版詳細頁-fb分享\"href=\"javascript:;\"data-task=\"1\"data-FBLink=\\\\\\'https://rent.591.com.tw/rent-detail-5474542.html?aid=1865%26cache_time=443&src=sp\\\\\\'data-stat=\"fb_count_0_1\">分享</a></li><liclass=\"notice\"><aid=\"j_impeach_err\"style=\"padding-left:23px;\"href=\"javascript:;\"class=\"impe_i\"data-stat=\"2010_detail_impeach\">檢舉</a></li><liclass=\"print\"><aid=\"j_print\"style=\"padding-left:23px;\"class=\"ico_print\"href=\"javascript:;\"data-stat=\"2010_detail_print\"google-data-stat=\"出租_出租詳情頁_列印\">列印</a></li></ul></div><!--/propNav--><!--預覽--><divclass=\"main_house_infoclearfix\"><divclass=\"houseInfoclearfix\"><h1><spanclass=\"houseInfoTitle\">悠雅碧湖vs文德捷運＊皇家湖濱雅房出租</span></h1><divclass=\"pageViewclearfix\"><i><em>昨日瀏覽：</em><bstyle=\"color:#333;\">21</b><em>（</em></i><spanclass=\"pc\"></span><istyle=\"margin-top:3px;\">7<emclass=\"line\">|</em></i><spanclass=\"mobile\"></span><istyle=\"margin-top:3px;\">14<em>）</em></i></div></div><divclass=\"detailBoxclearfix\"><divclass=\"leftBox\"><!--圖片模塊--><divclass=\"imgBox\"><divid=\"show\"class=\"clearfixshow\"><divid=\"j_image_viewer\"class=\"viewer\"><spanclass=\"left\"google-data-stat=\"出租_新版詳細頁_图片左右切换\"></span><ahref=\"javascript:;\"><imgsrc=\"https://hp1.591.com.tw/house/active/2017/06/05/149666305232870404_765x517x764665.jpg\"width=\"100%\"height=\"100%\"alt=\"台北租屋,內湖租屋,雅房出租\"title=\"\"style=\"border:none;\"/></a><spanclass=\"right\"google-data-stat=\"出租_新版詳細頁_图片左右切换\"></span><!--<divclass=\"statInfo\"google-data-stat=\"出租_出租詳情頁_大图中间区域\"></div>--><divclass=\"showNum\"><emclass=\"now\"></em>/<emclass=\"all\"></em></div></div><divclass=\"imgList\"><aclass=\"prev_controlfirst_control\"href=\"javascript:;\"google-data-stat=\"出租_新版詳細頁_图片上下切换\">prev</a><divclass=\"thumbnails\"><textareaclass=\"datalazyload\"><oltabindex=\"0\"tableft=\"0\"><li><ahref=\"javascript:;\"class=\"selected\"><i></i><imgsrc=\"https://hp1.591.com.tw/house/active/2017/06/05/149666305232870404_125x85.crop.jpg\"google-data-stat=\"出租_新版詳細頁_图片点击切换\"width=\"100%\"height=\"68\"alt=\"\"title=\"\"/></a></li><li><ahref=\"javascript:;\"><i></i><imgsrc=\"https://hp1.591.com.tw/house/active/2017/06/05/149666306029921306_125x85.crop.jpg\"google-data-stat=\"出租_新版詳細頁_图片点击切换\"width=\"100%\"height=\"68\"alt=\"\"title=\"\"/></a></li><li><ahref=\"javascript:;\"><i></i><imgsrc=\"https://hp1.591.com.tw/house/active/2017/06/05/149666304908025509_125x85.crop.jpg\"google-data-stat=\"出租_新版詳細頁_图片点击切换\"width=\"100%\"height=\"68\"alt=\"\"title=\"\"/></a></li><li><ahref=\"javascript:;\"><i></i><imgsrc=\"https://hp1.591.com.tw/house/active/2017/06/05/149666306348384006_125x85.crop.jpg\"google-data-stat=\"出租_新版詳細頁_图片点击切换\"width=\"100%\"height=\"68\"alt=\"\"title=\"\"/></a></li><li><ahref=\"javascript:;\"><i></i><imgsrc=\"https://hp1.591.com.tw/house/active/2017/06/05/149666304752150503_125x85.crop.jpg\"google-data-stat=\"出租_新版詳細頁_图片点击切换\"width=\"100%\"height=\"68\"alt=\"\"title=\"\"/></a></li><li><ahref=\"javascript:;\"><i></i><imgsrc=\"https://hp1.591.com.tw/house/active/2017/06/05/149666306926002505_125x85.crop.jpg\"google-data-stat=\"出租_新版詳細頁_图片点击切换\"width=\"100%\"height=\"68\"alt=\"\"title=\"\"/></a></li><li><ahref=\"javascript:;\"><i></i><imgsrc=\"https://hp1.591.com.tw/house/active/2017/06/05/149666306204643006_125x85.crop.jpg\"google-data-stat=\"出租_新版詳細頁_图片点击切换\"width=\"100%\"height=\"68\"alt=\"\"title=\"\"/></a></li><li><ahref=\"javascript:;\"><i></i><imgsrc=\"https://hp1.591.com.tw/house/active/2017/06/05/149666307348922904_125x85.crop.jpg\"google-data-stat=\"出租_新版詳細頁_图片点击切换\"width=\"100%\"height=\"68\"alt=\"\"title=\"\"/></a></li><li><ahref=\"javascript:;\"><i></i><imgsrc=\"https://hp1.591.com.tw/house/active/2017/06/05/149666304589036802_125x85.crop.jpg\"google-data-stat=\"出租_新版詳細頁_图片点击切换\"width=\"100%\"height=\"68\"alt=\"\"title=\"\"/></a></li><li><ahref=\"javascript:;\"><i></i><imgsrc=\"https://hp1.591.com.tw/house/active/2017/06/05/149666306581794405_125x85.crop.jpg\"google-data-stat=\"出租_新版詳細頁_图片点击切换\"width=\"100%\"height=\"68\"alt=\"\"title=\"\"/></a></li></ol></textarea></div><aclass=\"next_control\"href=\"javascript:;\"google-data-stat=\"出租_新版詳細頁_图片上下切换\">next</a></div></div></div><ulclass=\"clearfixlabelList\"><liclass=\"clearfix\"><divclass=\"one\">押金</div><divclass=\"two\"><span>：</span><emtitle=\"面議\">面議</em></div><liclass=\"clearfix\"><divclass=\"one\">法定用途</div><divclass=\"two\"><span>：</span><emtitle=\"住家用\">住家用</em></div><liclass=\"clearfix\"><divclass=\"one\">車位</div><divclass=\"two\"><span>：</span><emtitle=\"無\">無</em></div><liclass=\"clearfix\"><divclass=\"one\">最短租期</div><divclass=\"two\"><span>：</span><emtitle=\"一年\">一年</em></div><liclass=\"clearfix\"><divclass=\"one\">開伙</div><divclass=\"two\"><span>：</span><emtitle=\"可以\">可以</em></div><liclass=\"clearfix\"><divclass=\"one\">養寵物</div><divclass=\"two\"><span>：</span><emtitle=\"不可以\">不可以</em></div><liclass=\"clearfix\"><divclass=\"one\">身份要求</div><divclass=\"two\"><span>：</span><emtitle=\"學生、上班族、家庭\">學生、上班族、家庭</em></div><liclass=\"clearfix\"><divclass=\"one\">性別要求</div><divclass=\"two\"><span>：</span><emtitle=\"男女生皆可\">男女生皆可</em></div><liclass=\"clearfix\"><divclass=\"one\">可遷入日</div><divclass=\"two\"><span>：</span><emtitle=\"隨時\">隨時</em></div><divclass=\"clear\"></div></ul><!--房東提供--><divclass=\"listTitle\">房東提供</div><ulclass=\"facilityclearfix\"><liclass=\"clearfix\"><spanclass=\"hometools_1\"></span>桌子</li><liclass=\"clearfix\"><spanclass=\"hometools_3\"></span>椅子</li><liclass=\"clearfix\"><spanclass=\"hometools_4\"></span>衣櫃</li><liclass=\"clearfix\"><spanclass=\"hometools_5\"></span>床</li><liclass=\"clearfix\"><spanclass=\"fixture_1\"></span>熱水器</li><liclass=\"clearfix\"><spanclass=\"fixture_2\"></span>天然瓦斯</li><liclass=\"clearfix\"><spanclass=\"fixture_4\"></span>電視</li><liclass=\"clearfix\"><spanclass=\"fixture_5\"></span>冰箱</li><liclass=\"clearfix\"><spanclass=\"fixture_6\"></span>冷氣</li><liclass=\"clearfix\"><spanclass=\"fixture_7\"></span>洗衣機</li><liclass=\"clearfix\"><spanclass=\"fixture_14\"></span>網路</li><liclass=\"clearfix\"><spanclass=\"fixture_15\"></span>第四台</li><liclass=\"clearfix\"><spanclass=\"no\"></span>沙發</li></ul><!--生活交通--><divclass=\"listTitle\">生活交通</div><divclass=\"lifeBox\"onselectstart=\"returnfalse;\"style=\"-moz-user-select:none;user-select:none;\"><p><strong>生活機能</strong>：近便利商店；傳統市場；百貨公司；公園綠地；學校；醫療機構；夜市</p><p><strong>附近交通</strong>：近西湖公車站；港墘公車站；文德捷運站</p></div><!--暫不知作用-如知道請做備註--><!--屋況說明--><divclass=\"others\"><span>屋況說明</span><i></i></div><divclass=\"houseIntro\"onselectstart=\"returnfalse;\"style=\"-moz-user-select:none;user-select:none;\"><fontcolor=\"#660000\"><fontstyle=\"font-size:16px\">*碧湖旁［湖濱皇家社區］，</font><fontstyle=\"font-size:16px\">都會生活居家首選。</font></font><fontstyle=\"font-size:16px\"><fontcolor=\"#660000\">*近文德捷運及多線公車，交通超方便。</font></font><fontstyle=\"font-size:16px\"><fontcolor=\"#660000\">*徒步即達737夜市／文德黃昏市場／全聯，購物飲食好享受。</font></font><fontstyle=\"font-size:16px\"><fontcolor=\"#660000\">*雅房面湖景觀佳，傢俱家電一應俱全。</font></font><fontcolor=\"#000099\"><fontstyle=\"font-size:16px\">*租金內含水／瓦斯／網路／第四台</font><fontstyle=\"font-size:16px\">，</font><fontstyle=\"font-size:16px\">加一人加收1500元</font><fontstyle=\"font-size:16px\">。</font></font><fontcolor=\"#000099\"><fontstyle=\"font-size:16px\">*電費另計每度5.5元</font><fontstyle=\"font-size:16px\">。</font></font><fontstyle=\"font-size:16px\"><fontcolor=\"#000099\">*歡迎愛乾淨，不抽煙，不養寵物，有正當職業或學生入住。</font></font><fontstyle=\"font-size:13.3333px\"><fontcolor=\"#666666\">體驗安全。快速。完善的租賃服務</font></font><fontcolor=\"#666666\"><fontstyle=\"font-size:13.3333px\">，歡迎隨時洽詢：</font></font><fontcolor=\"#990000\"><fontstyle=\"font-size:18px\"><strong>鯨魚租屋陳祖丞0989-607-526</strong>(或以手機號碼加LINE)</font></font><fontstyle=\"font-size:13.3333px\"><fontcolor=\"#666666\">鯨魚租屋有限公司，所收服務費皆開發票。</font></font><fontstyle=\"font-size:13.3333px\"><fontcolor=\"#666666\">若未開\\\\u200b立，\\\\u200b請\\\\u200b來信檢舉:\\\\u200bhion2.two@gmail.com</font></font><fontstyle=\"font-size:13.3333px\"><fontcolor=\"#666666\">經查屬實獎金</font><fontcolor=\"#666666\">1萬</font></font></div><!--仲介自我介紹--><!--地圖加載區域--><divclass=\"mapBox\"><ulclass=\"clearfixserachTitle\"><liclass=\"select\"data-text=\"1\">交通<span></span></li><lidata-text=\"2\">餐飲<span></span></li><lidata-text=\"3\">超市<span></span></li><lidata-text=\"4\">銀行<span></span></li><lidata-text=\"5\">學校<span></span></li><lidata-text=\"6\">醫院<span></span></li><lidata-text=\"7\">周邊物件<span></span></li></ul><divclass=\"contenterbanner\"><ulid=\"map_Tab\"class=\"clearfix\"style=\"display:none!important;\"><liclass=\"dituactive\">地圖</li><liclass=\"jiejing\">街景</li><inputstyle=\"display:none;\"type=\"button\"id=\"j_edit_maps\"rel=\"j_edit_maps\"class=\"map_update_btn\"onclick=\"window.location.href=\\\\\\'/map-houseRound.html?type=1&post_id=5474542&s=j_edit_maps&version=1\\\\\\';\"/></ul><divid=\"mapRound\"class=\"map_Box\"><textareaclass=\"datalazyload\"><iframeclass=\"myframe\"frameborder=\"0\"scrolling=\"no\"style=\"\"src=\"map-houseRound.html?type=1&post_id=5474542&detail=detail&version=1\"></iframe></textarea></div><divid=\"streetRound\"class=\"map_Box\"style=\"display:none\"><textareaclass=\"datalazyload\"><iframeclass=\"myframe\"frameborder=\"0\"scrolling=\"no\"style=\"\"src=\"map-street.html?type=1&post_id=5474542&detail=detail&version=1\"></iframe></textarea></div></div></div><!--房屋問答區域--><divclass=\"others\"style=\"background:none;\"><spanstyle=\"margin-left:0px\">房屋問答</span><istyle=\"border-bottom:2pxsolid#E5E5E5;display:block;padding-bottom:3px;margin:0px\"></i></div><divid=\"commentBox\">正在加載房屋問答...</div></div><!--右側內容--><divclass=\"rightBox\"><!--價格和概況--><divclass=\"detailInfoclearfix\"><divclass=\"priceclearfix\"><i>11,000<b>元/月</b></i></div><divclass=\"explain\">含管理費/清潔費/第四台/網路/水費/瓦斯費</div><ulclass=\"attr\"><li>坪數:10坪</li><li>樓層:1F/12F</li><li>型態:電梯大樓</li><li>現況:雅房</li></ul><divclass=\"explainclearfix\"><spanclass=\"ft-lt\">更新於：8小時內</span><spanclass=\"ft-rt\">有效期：2017-09-04</span></div></div><!--會員信息--><divclass=\"userInfo\"><divclass=\"infoOneclearfix\"><divclass=\"avatar\"><imgsrc=\"../../../images/index/medium/no-photo-new.png\"width=\"70px\"></div><divclass=\"avatarRight\"><div><i>陳先生</i>(仲介，收取服務費)</div><div><spanclass=\"tipOne\"></span><spanclass=\"tip_open\"></span></div><divclass=\"auatarSon\"><span>鯨魚租屋有限公司</span><ahref=\"javascript:;\"id=\"avaterInfo\">詳情</a><divclass=\"auatarSonBox\"><p>公司名：鯨魚租屋有限公司</p><p>經紀業：鯨魚租屋有限公司</p></div></div></div></div><divclass=\"infoTwoclearfix\"><spanclass=\"mobile\"></span><spanclass=\"num\"><imgsrc=\"//statics.591.com.tw/tools/showPhone.php?info_data=qOZfN7wQr%2B5hHOKni23b%2BRxUOKE&type=rLEFMu4XrrpgEw\"/></span></div><!--聯繫方式和內容--><divclass=\"connectclearfix\"><aclass=\"connectOneno\"><i></i>固話</a><aclass=\"connectThree\"href=\"#leaveMSG\"><i></i>留言</a><!--隱藏的聯繫信息--><divclass=\"hidtel\"></div><inputtype=\"hidden\"value=\"\"id=\"hid_tel\"><inputtype=\"hidden\"value=\"lionel000526@gmail.com\"id=\"hid_email\"></div></div><!--<divclass=\"danger\">簽訂合同前，請勿支付任何形式的費用，以免上當受騙</div>--><divid=\"td-code-others\"class=\"clearfix\"><p><imgsrc=\"//chart.googleapis.com/chart?cht=qr&chl=http://m.591.com.tw/mobile-detail.html?houseId=R5474542?_ss=qr&chs=82x82&choe=UTF-8&chld=L|4\"/></p><pclass=\"code-study\"><aclass=\"code-study-url\"href=\"https://www.591.com.tw/message-358.html\"target=\"_blank\">查看教學</a></p></div><divclass=\"anti-fraud\"><iclass=\"anti-fraud-icon\"></i><divclass=\"anti-fraud-content\"><strong>591提醒您：</strong><span>在簽訂合約之前，切勿支付任何形式的費用，以免上當受騙.</span></div></div></div></div><!--留言錨點--><aname=\"leaveMSG\"id=\"leaveMSG\"></a><!--側邊欄到達的位置--><divclass=\"side_position\"></div><!--廣告位--><divid=\"PAGE_AD_1738\"class=\"clearfixgad_Foot\"style=\"width:1200px;margin:10pxauto;\"></div><!--底部提醒--><divclass=\"bottomTipfooter_adclearfix\"><spanclass=\"first\">溫馨提醒：</span><spanclass=\"second\">1、房屋照片僅反應使用現況，用途以使用執照或謄本記載為準。刊登內容的法定用途與現況使用不同時，恐涉違反建管法規，有遭勒令拆除、改建、停止使用或恢復原狀之風險，請消费者於購屋或承租前多加了解相關規定，以保障自身權益。</span><spanclass=\"second\">2、出租人及承租人請注意，內政部已公告【房屋租賃定型化契約應記載及不得記載事項】，訂自106年1月1日生效施行，倘租賃房屋作為住宅使用者，請租賃雙方簽約時使用符合【房屋租賃定型化契約應記載及不得記載事項】之房屋租賃契約，以保障雙方權益。</span></div></div></div><!--大图查看层--><divid=\"imageCen\"></div><divclass=\"imageContent\"id=\"shows\"><divclass=\"imgBox\"id=\"j_image_viewers\"><imgsrc=\"\"/></div><divclass=\"imgTitle\"><spanclass=\"title\"></span><spanclass=\"num\"></span>/<spanclass=\"Allnum\"></span></div><divclass=\"imgList\"><aclass=\"prev_controlfirst_control\"href=\"javascript:;\"></a><divclass=\"thumbnails\"><textareaclass=\"datalazyload\"><oltabindex=\"0\"tableft=\"0\"index=\"0\"class=\"clearfix\"><li><ahref=\"javascript:;\"class=\"selected\"><i></i><imgsrc=\"https://hp1.591.com.tw/house/active/2017/06/05/149666305232870404_125x85.crop.jpg\"google-data-stat=\"出租_新版詳細頁_图片点击切换\"width=\"100%\"height=\"68\"alt=\"\"title=\"\"/></a></li><li><ahref=\"javascript:;\"><i></i><imgsrc=\"https://hp1.591.com.tw/house/active/2017/06/05/149666306029921306_125x85.crop.jpg\"google-data-stat=\"出租_新版詳細頁_图片点击切换\"width=\"100%\"height=\"68\"alt=\"\"title=\"\"/></a></li><li><ahref=\"javascript:;\"><i></i><imgsrc=\"https://hp1.591.com.tw/house/active/2017/06/05/149666304908025509_125x85.crop.jpg\"google-data-stat=\"出租_新版詳細頁_图片点击切换\"width=\"100%\"height=\"68\"alt=\"\"title=\"\"/></a></li><li><ahref=\"javascript:;\"><i></i><imgsrc=\"https://hp1.591.com.tw/house/active/2017/06/05/149666306348384006_125x85.crop.jpg\"google-data-stat=\"出租_新版詳細頁_图片点击切换\"width=\"100%\"height=\"68\"alt=\"\"title=\"\"/></a></li><li><ahref=\"javascript:;\"><i></i><imgsrc=\"https://hp1.591.com.tw/house/active/2017/06/05/149666304752150503_125x85.crop.jpg\"google-data-stat=\"出租_新版詳細頁_图片点击切换\"width=\"100%\"height=\"68\"alt=\"\"title=\"\"/></a></li><li><ahref=\"javascript:;\"><i></i><imgsrc=\"https://hp1.591.com.tw/house/active/2017/06/05/149666306926002505_125x85.crop.jpg\"google-data-stat=\"出租_新版詳細頁_图片点击切换\"width=\"100%\"height=\"68\"alt=\"\"title=\"\"/></a></li><li><ahref=\"javascript:;\"><i></i><imgsrc=\"https://hp1.591.com.tw/house/active/2017/06/05/149666306204643006_125x85.crop.jpg\"google-data-stat=\"出租_新版詳細頁_图片点击切换\"width=\"100%\"height=\"68\"alt=\"\"title=\"\"/></a></li><li><ahref=\"javascript:;\"><i></i><imgsrc=\"https://hp1.591.com.tw/house/active/2017/06/05/149666307348922904_125x85.crop.jpg\"google-data-stat=\"出租_新版詳細頁_图片点击切换\"width=\"100%\"height=\"68\"alt=\"\"title=\"\"/></a></li><li><ahref=\"javascript:;\"><i></i><imgsrc=\"https://hp1.591.com.tw/house/active/2017/06/05/149666304589036802_125x85.crop.jpg\"google-data-stat=\"出租_新版詳細頁_图片点击切换\"width=\"100%\"height=\"68\"alt=\"\"title=\"\"/></a></li><li><ahref=\"javascript:;\"><i></i><imgsrc=\"https://hp1.591.com.tw/house/active/2017/06/05/149666306581794405_125x85.crop.jpg\"google-data-stat=\"出租_新版詳細頁_图片点击切换\"width=\"100%\"height=\"68\"alt=\"\"title=\"\"/></a></li></ol></textarea></div><aclass=\"next_control\"href=\"javascript:;\"></a></div><aclass=\"imgClose\"href=\"javascript:void(0);\"></a></div><inputtype=\"hidden\"name=\"islogin\"id=\"islogin\"value=\"-1\"/><inputtype=\"hidden\"name=\"hid_type\"id=\"hid_type\"value=\"1\"/><inputtype=\"hidden\"name=\"hid_kind\"id=\"hid_kind\"value=\"4\"/><inputtype=\"hidden\"name=\"hid_post_id\"id=\"hid_post_id\"value=\"5474542\"/><inputtype=\"hidden\"name=\"hid_user_id\"id=\"hid_user_id\"value=\"764665\"/><inputtype=\"hidden\"name=\"hid_role\"id=\"hid_role\"value=\"764665\"/><inputtype=\"hidden\"name=\"hid_address\"id=\"hid_address\"value=\"悠雅碧湖vs文德捷運＊皇家湖濱雅房出租\"/><inputtype=\"hidden\"name=\"hid_host_url\"id=\"hid_host_url\"value=\"https://www.591.com.tw\"/><inputtype=\"hidden\"name=\"hid_isvip\"id=\"hid_isvip\"value=\"0\"/><inputtype=\"hidden\"value=\\\\\\'\"https://hp1.591.com.tw/house/active/2017/06/05/149666305232870404_765x517x764665.jpg\",\"https://hp1.591.com.tw/house/active/2017/06/05/149666306029921306_765x517x764665.jpg\",\"https://hp1.591.com.tw/house/active/2017/06/05/149666304908025509_765x517x764665.jpg\",\"https://hp1.591.com.tw/house/active/2017/06/05/149666306348384006_765x517x764665.jpg\",\"https://hp1.591.com.tw/house/active/2017/06/05/149666304752150503_765x517x764665.jpg\",\"https://hp1.591.com.tw/house/active/2017/06/05/149666306926002505_765x517x764665.jpg\",\"https://hp1.591.com.tw/house/active/2017/06/05/149666306204643006_765x517x764665.jpg\",\"https://hp1.591.com.tw/house/active/2017/06/05/149666307348922904_765x517x764665.jpg\",\"https://hp1.591.com.tw/house/active/2017/06/05/149666304589036802_765x517x764665.jpg\",\"https://hp1.591.com.tw/house/active/2017/06/05/149666306581794405_765x517x764665.jpg\"\\\\\\'id=\"hid_imgArr\"><inputtype=\"hidden\"name=\"hid_moneytype\"id=\"hid_moneytype\"value=\"1\"/><inputtype=\"hidden\"id=\"activity_login\"value=\"0\"/><inputtype=\"hidden\"id=\"shareAct_user\"value=\"1\"/><inputtype=\"hidden\"id=\"isTopShowSaleAct\"value=\"1\"/><inputtype=\"hidden\"name=\"base_url\"id=\"base_url\"value=\"https://www.591.com.tw/\"/><inputtype=\"hidden\"id=\"hid_isBusiness\"value=\"0\"><inputtype=\"hidden\"id=\"hid_favoritenum\"value=\"0\"><inputtype=\"hidden\"id=\"hid_medium\"value=\"unkown\"><scripttype=\"text/javascript\"language=\"javascript\"src=\"//statics.591.com.tw/min/?f=jquery-1.3.2.min.js,old/jquery.popbox.js,old/jquery.lazyload.js,old/jquery.cookie.js,detailRent.js,photoPlayers.js,photoPlay.js\"></script><!--相冊圖片--><scripttype=\"text/javascript\">//圖片播放photoPlayer([\"https://hp1.591.com.tw/house/active/2017/06/05/149666305232870404_765x517x764665.jpg\",\"https://hp1.591.com.tw/house/active/2017/06/05/149666306029921306_765x517x764665.jpg\",\"https://hp1.591.com.tw/house/active/2017/06/05/149666304908025509_765x517x764665.jpg\",\"https://hp1.591.com.tw/house/active/2017/06/05/149666306348384006_765x517x764665.jpg\",\"https://hp1.591.com.tw/house/active/2017/06/05/149666304752150503_765x517x764665.jpg\",\"https://hp1.591.com.tw/house/active/2017/06/05/149666306926002505_765x517x764665.jpg\",\"https://hp1.591.com.tw/house/active/2017/06/05/149666306204643006_765x517x764665.jpg\",\"https://hp1.591.com.tw/house/active/2017/06/05/149666307348922904_765x517x764665.jpg\",\"https://hp1.591.com.tw/house/active/2017/06/05/149666304589036802_765x517x764665.jpg\",\"https://hp1.591.com.tw/house/active/2017/06/05/149666306581794405_765x517x764665.jpg\"]);photoPlayers([\"https://hp1.591.com.tw/house/active/2017/06/05/149666305232870404_765x517x764665.jpg\",\"https://hp1.591.com.tw/house/active/2017/06/05/149666306029921306_765x517x764665.jpg\",\"https://hp1.591.com.tw/house/active/2017/06/05/149666304908025509_765x517x764665.jpg\",\"https://hp1.591.com.tw/house/active/2017/06/05/149666306348384006_765x517x764665.jpg\",\"https://hp1.591.com.tw/house/active/2017/06/05/149666304752150503_765x517x764665.jpg\",\"https://hp1.591.com.tw/house/active/2017/06/05/149666306926002505_765x517x764665.jpg\",\"https://hp1.591.com.tw/house/active/2017/06/05/149666306204643006_765x517x764665.jpg\",\"https://hp1.591.com.tw/house/active/2017/06/05/149666307348922904_765x517x764665.jpg\",\"https://hp1.591.com.tw/house/active/2017/06/05/149666304589036802_765x517x764665.jpg\",\"https://hp1.591.com.tw/house/active/2017/06/05/149666306581794405_765x517x764665.jpg\"]);//检测浏览器窗口的改变//window.onresize=function(){//location=location;//}</script><!--租售詳細頁seajs--><scriptlanguage=\"javascript\"src=\"./include/javascript/seajs/dist/dsSea.js\"id=\"seajsnode\"></script><scriptlanguage=\"javascript\">seajs.config({preload:[\\\\\\'./include/javascript/newPublic/dsConfig.js?\\\\\\'+newDate().getTime()]});seajs.use(\"house/detailRent\");</script><divclass=\"clear\"></div><!--addcn-591-jkb--><linktype=\"text/css\"rel=\"stylesheet\"href=\"//statics.591.com.tw/min/?f=global/footerNew.css\"/><styletype=\"text/css\">#footer{margin-top:20px;}#footer.footnavul{width:730px;}.helpRed{color:#FF0000;padding-right:8px;}#footer*{font-size:12px;}</style><divid=\"footer\"><divclass=\"clearH9\"></div><divclass=\"footnav\"><ulstyle=\"width:830px;\"><liclass=\"first\"><ahref=\"http://www.addcn.com.tw/investment-basic.html\"target=\"_blank\">投資者專區</a></li><li><ahref=\"http://www.addcn.com.tw/media-third_pp.html\"target=\"_blank\">第三方支付新聞</a></li><li><ahref=\"http://www.addcn.com/about-info.html\">關於我們</a></li><li><ahref=\"https://www.591.com.tw/help-ad.html\">廣告刊登</a></li><li><ahref=\"https://www.591.com.tw/links.html\">交換連結</a></li><li><ahref=\"https://www.591.com.tw/message-moremessage.html?titleType=news\">新聞剪輯</a></li><li><ahref=\"http://www.addcn.com.tw/social-welfare2012.html\"target=\"_blank\">社會公益</a></li><li><ahref=\"http://591.com.tw/yU0\">免責聲明</a></li><li><ahref=\"http://591.com.tw/yUY\">服務條款</a></li><li><ahref=\"http://591.com.tw/yUW\">隱私權聲明</a></li><li><ahref=\"http://www.8591.com.tw/dealer.php\"target=\"_blank\">數字經銷商</a></li></ul><divclass=\"clear\"></div><divclass=\"grouplinkgray\"><ahref=\"http://www.591.com.hk/\"target=\"_blank\">香港591房屋交易網<iclass=\"new-link\"style=\"right:-14px;top:-3px;\"></i></a>|<ahref=\"https://rent.591.com.tw/\"target=\"_blank\">591租屋</a>|<ahref=\"https://sale.591.com.tw/\"target=\"_blank\">591售屋</a>|<ahref=\"https://newhouse.591.com.tw/\"target=\"_blank\">591新建案</a>|<ahref=\"http://www.8591.com.tw\"target=\"_blank\">8591寶物交易網</a>|<ahref=\"http://www.8891.com.tw/\"target=\"_blank\">8891汽車交易網</a>|<ahref=\"http://www.518.com.tw/\"target=\"_blank\">518人力銀行</a><!--\\\\t\\\\t\\\\t<ahref=\"http://case.518.com.tw/\"target=\"_blank\">518外包網</a>|<ahref=\"http://yp.518.com.tw/\"target=\"_blank\">518黃頁</a>|<ahref=\"http://www.518.com.tw/active-518ptapp.html\"target=\"_blank\">518找打工</a>--></div><divclass=\"copyright\">Copyright&copy;2007-2017byAddcnTechnologyCo.,Ltd.AllRightsreserved.</div></div></div><divid=\"PAGE_AD_192\"></div><!--analytics.js最新的Google網站統計代碼--><script>(function(i,s,o,g,r,a,m){i[\\\\\\'GoogleAnalyticsObject\\\\\\']=r;i[r]=i[r]||function(){(i[r].q=i[r].q||[]).push(arguments)},i[r].l=1*newDate();a=s.createElement(o),m=s.getElementsByTagName(o)[0];a.async=1;a.src=g;m.parentNode.insertBefore(a,m)})(window,document,\\\\\\'script\\\\\\',\\\\\\'//www.google-analytics.com/analytics.js\\\\\\',\\\\\\'ga\\\\\\');//全站跟蹤碼ga(\\\\\\'create\\\\\\',\\\\\\'UA-2021527-18\\\\\\',\\\\\\'auto\\\\\\');ga(\\\\\\'require\\\\\\',\\\\\\'displayfeatures\\\\\\');ga(\\\\\\'send\\\\\\',\\\\\\'pageview\\\\\\');//全站測試跟蹤碼-GA測試使用ga(\\\\\\'create\\\\\\',\\\\\\'UA-58691382-1\\\\\\',\\\\\\'auto\\\\\\',{\\\\\\'name\\\\\\':\\\\\\'testUA\\\\\\'});ga(\\\\\\'require\\\\\\',\\\\\\'displayfeatures\\\\\\');ga(\\\\\\'testUA.send\\\\\\',\\\\\\'pageview\\\\\\');//591出租詳情頁舊版跟蹤碼ga(\\\\\\'create\\\\\\',\\\\\\'UA-80731609-2\\\\\\',\\\\\\'auto\\\\\\',{\\\\\\'name\\\\\\':\\\\\\'rentDetail\\\\\\'});//591出租詳情頁舊版跟蹤碼ga(\\\\\\'require\\\\\\',\\\\\\'displayfeatures\\\\\\');ga(\\\\\\'rentDetail.send\\\\\\',\\\\\\'pageview\\\\\\');(function(){//591statvarstat591=document.createElement(\\\\\\'script\\\\\\');stat591.type=\\\\\\'text/javascript\\\\\\';stat591.async=true;stat591.src=\\\\\\'https:\\\\\\'==document.location.protocol?\\\\\\'https://www.591.com.tw/action/stat/\\\\\\':\\\\\\'https://www.591.com.tw/action/stat/\\\\\\';(document.getElementsByTagName(\\\\\\'head\\\\\\')[0]).appendChild(stat591);})();</script><!--Alexa统计--><scripttype=\"text/javascript\">_atrk_opts={atrk_acct:\"H0Bki1aUCm00oR\",domain:\"591.com.tw\",dynamic:true};(function(){varas=document.createElement(\\\\\\'script\\\\\\');as.type=\\\\\\'text/javascript\\\\\\';as.async=true;as.src=\"https://d31qbv1cthcecs.cloudfront.net/atrk.js\";vars=document.getElementsByTagName(\\\\\\'script\\\\\\')[0];s.parentNode.insertBefore(as,s);})();</script><noscript><imgsrc=\"https://d5nxst8fruw4z.cloudfront.net/atrk.gif?account=H0Bki1aUCm00oR\"style=\"display:none\"height=\"1\"width=\"1\"alt=\"\"/></noscript><!--防止其他頁面iframe嵌入--><scripttype=\"text/javascript\">try{top.location.hostname;if(top.location.hostname!=window.location.hostname){top.location.href=window.location.href;}}catch(e){top.location.href=window.location.href;}</script><!--新版廣告系統--><scripttype=\"text/javascript\"src=\"//tajs.591.com.tw/adloader.js\"></script><scripttype=\\\\\\'text/javascript\\\\\\'>AD_SHOW(\\\\\\'192\\\\\\',\\\\\\'PAGE_AD_192\\\\\\');//頂部橫幅</script><style>#footer,#footer.footnav{width:1200px;}</style><!--只統計新版詳細頁的GA--><script>//全站測試跟蹤碼-GA測試使用ga(\\\\\\'create\\\\\\',\\\\\\'UA-80731609-1\\\\\\',\\\\\\'auto\\\\\\',{\\\\\\'name\\\\\\':\\\\\\'rentNew\\\\\\'});ga(\\\\\\'require\\\\\\',\\\\\\'displayfeatures\\\\\\');ga(\\\\\\'rentNew.send\\\\\\',\\\\\\'pageview\\\\\\');</script><!--新版廣告系統--><scripttype=\"text/javascript\"src=\"//tajs.591.com.tw/adloader.js\"></script><scripttype=\\\\\\'text/javascript\\\\\\'>var_gad_Top=document.getElementsByClassName(\\\\\\'gad_Top\\\\\\')[0].getAttribute(\\\\\\'id\\\\\\');var_gad_Foot=document.getElementsByClassName(\\\\\\'gad_Foot\\\\\\')[0].getAttribute(\\\\\\'id\\\\\\');var_gad_TopId=_gad_Top.slice(8);var_gad_FootId=_gad_Foot.slice(8);AD_SHOW(_gad_TopId,_gad_Top);//頂部橫幅AD_SHOW(_gad_FootId,_gad_Foot);//出租底部橫幅</script></body></html>\\',\\'time\\':\\'2017-08-14\\'}'"
      ]
     },
     "execution_count": 4,
     "metadata": {},
     "output_type": "execute_result"
    }
   ],
   "source": [
    "text"
   ]
  },
  {
   "cell_type": "code",
   "execution_count": 20,
   "metadata": {},
   "outputs": [
    {
     "data": {
      "text/plain": [
       "'松山'"
      ]
     },
     "execution_count": 20,
     "metadata": {},
     "output_type": "execute_result"
    }
   ],
   "source": [
    "import re\n",
    "str(*re.findall('北市</a>(.*)區</a>&gt;<ahref=\"https://rent.591',text)).split('\">')[1]"
   ]
  }
 ],
 "metadata": {
  "kernelspec": {
   "display_name": "Python 3",
   "language": "python",
   "name": "python3"
  },
  "language_info": {
   "codemirror_mode": {
    "name": "ipython",
    "version": 3
   },
   "file_extension": ".py",
   "mimetype": "text/x-python",
   "name": "python",
   "nbconvert_exporter": "python",
   "pygments_lexer": "ipython3",
   "version": "3.6.1"
  }
 },
 "nbformat": 4,
 "nbformat_minor": 2
}
