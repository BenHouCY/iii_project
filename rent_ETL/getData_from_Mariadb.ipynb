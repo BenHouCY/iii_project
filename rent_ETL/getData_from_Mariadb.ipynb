{
 "cells": [
  {
   "cell_type": "code",
   "execution_count": null,
   "metadata": {
    "collapsed": true
   },
   "outputs": [],
   "source": [
    "# container for analyze\n",
    "##ID:ec64f4d40ae4  \n",
    "##port:10.120.27.2:33026"
   ]
  },
  {
   "cell_type": "code",
   "execution_count": 15,
   "metadata": {},
   "outputs": [
    {
     "name": "stdout",
     "output_type": "stream",
     "text": [
      "Execute Failed!\n",
      "Error Code is 1932;\n",
      "Error Content is Table 'rental.traffic' doesn't exist in engine;\n"
     ]
    }
   ],
   "source": [
    "#FetchAll\n",
    "#!/usr/bin/python3\n",
    "# -*- utf8 -*-\n",
    "#導入PyMySQL庫\n",
    "import pymysql as mariadb\n",
    "#測試連接MariaDB數據庫\n",
    "try:\n",
    "    conn = mariadb.connect(\n",
    "        host='10.120.27.2',\n",
    "        user='root',\n",
    "        passwd='1234',\n",
    "        db='rental',\n",
    "        charset='utf8mb4'\n",
    "    )\n",
    "    #設置cursor\n",
    "    cursor = conn.cursor()\n",
    "    #撰寫SQL語句\n",
    "    #sql = \"show tables;\"\n",
    "    sql = \"select * from traffic; \"\n",
    "    try:\n",
    "        cursor.execute(sql)\n",
    "        results = cursor.fetchall()\n",
    "        for item in results:\n",
    "            #typeId = item[0]\n",
    "            #typename = item[1]\n",
    "            print(item)\n",
    "    except Exception as e:\n",
    "        print('Execute Failed!\\nError Code is %s;\\nError Content is %s;' % (e.args[0],e.args[1]))\n",
    "    #關閉cursor\n",
    "    cursor.close()\n",
    "    #關閉數據庫連接\n",
    "    conn.close()\n",
    "except Exception as e:\n",
    "    print('Connection Failed!\\nError Code is %s;\\nError Content is %s;' % (e.args[0],e.args[1]))"
   ]
  },
  {
   "cell_type": "code",
   "execution_count": null,
   "metadata": {
    "collapsed": true
   },
   "outputs": [],
   "source": []
  }
 ],
 "metadata": {
  "kernelspec": {
   "display_name": "Python 3",
   "language": "python",
   "name": "python3"
  },
  "language_info": {
   "codemirror_mode": {
    "name": "ipython",
    "version": 3
   },
   "file_extension": ".py",
   "mimetype": "text/x-python",
   "name": "python",
   "nbconvert_exporter": "python",
   "pygments_lexer": "ipython3",
   "version": "3.6.1"
  }
 },
 "nbformat": 4,
 "nbformat_minor": 2
}
