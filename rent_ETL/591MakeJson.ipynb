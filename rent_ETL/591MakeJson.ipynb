{
 "cells": [
  {
   "cell_type": "code",
   "execution_count": 1,
   "metadata": {
    "collapsed": true
   },
   "outputs": [],
   "source": [
    "import re\n",
    "import requests\n",
    "import json\n",
    "import os\n",
    "import time\n",
    "import traceback\n",
    "from multiprocessing import Pool"
   ]
  },
  {
   "cell_type": "code",
   "execution_count": 2,
   "metadata": {
    "collapsed": true
   },
   "outputs": [],
   "source": [
    "def open_text(i,tickCount,log):\n",
    "    try :\n",
    "        with open ('D:\\\\新增資料夾\\\\{}\\\\url_591_{}.txt'.format(i,tickCount),'r',encoding='utf8') as f:\n",
    "            text = f.read()\n",
    "            text = text.replace('\\\\n','').replace('&nbsp;','').replace('\\\\r','').replace('<br>','')\n",
    "            text = text.replace('<br />','').replace(' ','').replace('\\\\u3000','')\n",
    "    except Exception as e :\n",
    "        text = ''\n",
    "        print('url_591_{} with exception {} at open_text'.format(tickCount,e))\n",
    "        log.append('url_591_{} with exception {} at open_text , '.format(tickCount,e))\n",
    "        pass\n",
    "    return text"
   ]
  },
  {
   "cell_type": "code",
   "execution_count": 3,
   "metadata": {
    "collapsed": true
   },
   "outputs": [],
   "source": [
    "def get_url(text,tickCount,log):\n",
    "    try:\n",
    "        url =str(*re.findall('\\'url\\':\\'(.*)\\',\\'html\\':',text))\n",
    "    except Exception as e :\n",
    "        print('url_591_{} with exception {} at get_url'.format(tickCount,e))\n",
    "        log.append('url_591_{} with exception {} at open_text , '.format(tickCount,e))\n",
    "        pass\n",
    "    return url"
   ]
  },
  {
   "cell_type": "code",
   "execution_count": 4,
   "metadata": {
    "collapsed": true
   },
   "outputs": [],
   "source": [
    "def get_title(text,tickCount,log):\n",
    "    try:\n",
    "        title =str(*re.findall('houseInfoTitle\\\">(.*)</span></h1><divc',text))\n",
    "    except Exception as e :\n",
    "        print('url_591_{} with exception {} at get_title'.format(tickCount,e))\n",
    "        log.append('url_591_{} with exception {} at get_title , '.format(tickCount,e))\n",
    "        pass\n",
    "    return title"
   ]
  },
  {
   "cell_type": "code",
   "execution_count": 5,
   "metadata": {
    "collapsed": true
   },
   "outputs": [],
   "source": [
    "def get_address(text,tickCount,log):\n",
    "    try:\n",
    "        address = str(*re.findall('class=\\\"addr\\\">(.*)</span><istyle=\\\"f',text))\n",
    "    except Exception as e :\n",
    "        print('url_591_{} with exception {} at get_address'.format(tickCount,e))\n",
    "        log.append('url_591_{} with exception {} at get_address , '.format(tickCount,e))\n",
    "        pass\n",
    "    return address"
   ]
  },
  {
   "cell_type": "code",
   "execution_count": 6,
   "metadata": {
    "collapsed": true
   },
   "outputs": [],
   "source": [
    "def get_landlord(text＿tickCount,tickCount,log):\n",
    "    try:\n",
    "        landlord = str(*re.findall('avatarRight\">(.*)</div><divclass=\"infoTwo',text))\n",
    "        landlord = landlord.split('<i>')[1].split('</i>')[0]\n",
    "    except Exception as e :\n",
    "        print('url_591_{} with exception {} at get_landlord'.format(tickCount,e))\n",
    "        log.append('url_591_{} with exception {} at get_landlord , '.format(tickCount,e))\n",
    "        pass\n",
    "    return landlord"
   ]
  },
  {
   "cell_type": "code",
   "execution_count": 7,
   "metadata": {
    "collapsed": true
   },
   "outputs": [],
   "source": [
    "def get_stories(text,tickCount,log):\n",
    "    try:\n",
    "        stories = str(*re.findall('</li><li>樓層:(.*)</li><li>型態',text)).replace('F','').split('/')[1]\n",
    "        stories = int(stories)\n",
    "    except Exception as e :\n",
    "        stories = 0\n",
    "        print('url_591_{} with exception {} at get_stories'.format(tickCount,e))\n",
    "        log.append('url_591_{} with exception {} at get_stories , '.format(tickCount,e))\n",
    "        pass\n",
    "    return stories"
   ]
  },
  {
   "cell_type": "code",
   "execution_count": 8,
   "metadata": {
    "collapsed": true
   },
   "outputs": [],
   "source": [
    "def get_floor(text,tickCount,log,stories):\n",
    "    try:\n",
    "        if re.findall('型態:(.*)</li><li>現況',text) == '透天厝':\n",
    "            print('url_591_{} is 透天厝 '.format(tickCount))\n",
    "        \n",
    "        floor = str(*re.findall('</li><li>樓層:(.*)</li><li>型態',text)).replace('F','').split('/')[0]\n",
    "#         floor = str(*re.findall('[0-9]',floor)[0])\n",
    "        if floor == 'B1':\n",
    "            floor = -1\n",
    "        elif floor == 'B2':\n",
    "            floor = -2\n",
    "        elif floor == '頂樓加蓋':\n",
    "            floor = stories\n",
    "        floor = int(floor)\n",
    "    except Exception as e :\n",
    "        floor = 0\n",
    "        print('url_591_{} with exception {} at get_floor'.format(tickCount,e))\n",
    "        log.append('url_591_{} with exception {} at get_floor , '.format(tickCount,e))\n",
    "        pass\n",
    "    return floor "
   ]
  },
  {
   "cell_type": "code",
   "execution_count": 9,
   "metadata": {
    "collapsed": true
   },
   "outputs": [],
   "source": [
    "def get_description(text,tickCount,log):\n",
    "    try:\n",
    "        description = str(*re.findall('\"houseIntro\"onselectstart=\"returnfalse;\"style=\"-moz-user-select:none;user-select:none;\">(.*)</div><!--仲',text))\n",
    "        if ('>' in description) & ('<' in description):\n",
    "            description = re.findall('[\\u4E00-\\u9FFF]+[0-9\\u3000-\\u303F-，,:]*',description)\n",
    "            description = ''.join(description)\n",
    "    except Exception as e :\n",
    "        print('url_591_{} with exception {} at get_description'.format(tickCount,e))\n",
    "        log.append('url_591_{} with exception {} at get_description , '.format(tickCount,e))\n",
    "        pass\n",
    "    return description       "
   ]
  },
  {
   "cell_type": "code",
   "execution_count": null,
   "metadata": {
    "collapsed": true
   },
   "outputs": [],
   "source": []
  },
  {
   "cell_type": "code",
   "execution_count": 10,
   "metadata": {
    "collapsed": true
   },
   "outputs": [],
   "source": [
    "def get_rent(text,tickCount,log):\n",
    "    try:\n",
    "        rent = str(*re.findall('priceclearfix\\\"><i>(.*)<b>元/月',text)).replace(',','')\n",
    "        rent = int(rent)\n",
    "    except Exception as e :\n",
    "        rent = 0\n",
    "        print('url_591_{} with exception {} at get_rent'.format(tickCount,e))\n",
    "        log.append('url_591_{} with exception {} at get_rent , '.format(tickCount,e))\n",
    "        pass\n",
    "    return rent"
   ]
  },
  {
   "cell_type": "code",
   "execution_count": 11,
   "metadata": {
    "collapsed": true
   },
   "outputs": [],
   "source": [
    "def get_cityID(text,tickCount,log):\n",
    "    try:\n",
    "        cityID = str(*re.findall('北市</a>(.*)區</a>&gt;<ahref=\"https://rent.591',text)).split('\">')[1]\n",
    "        cityID = code_[cityID+'區']\n",
    "        cityID = int(cityID)\n",
    "    except Exception as e :\n",
    "        cityID = 0\n",
    "        print('url_591_{} with exception {} at get_cityID'.format(tickCount,e))\n",
    "        log.append('url_591_{} with exception {} at get_cityID , '.format(tickCount,e))\n",
    "        pass\n",
    "    return cityID"
   ]
  },
  {
   "cell_type": "code",
   "execution_count": 12,
   "metadata": {
    "collapsed": true
   },
   "outputs": [],
   "source": [
    "def get_id_(text,tickCount,log):\n",
    "    try:\n",
    "        id_ = str(*re.findall('rent-detail-(.*).html',url))\n",
    "    except Exception as e :\n",
    "        print('url_591_{} with exception {} at get_id_'.format(tickCount,e))\n",
    "        log.append('url_591_{} with exception {} at get_id_ , '.format(tickCount,e))\n",
    "        pass\n",
    "    return id_"
   ]
  },
  {
   "cell_type": "code",
   "execution_count": 13,
   "metadata": {
    "collapsed": true
   },
   "outputs": [],
   "source": [
    "def get_lat_lng(text,tickCount,log):\n",
    "    try:\n",
    "        res1 = requests.get('https://rent.591.com.tw/map-houseRound.html?type=1&post_id={}&detail=detail'.format(id_),headers={'User-Agent':'Mozilla/5.0 (Windows NT 6.1; Win64; x64) AppleWebKit/537.36 (KHTML, like Gecko) Chrome/60.0.3112.90 Safari/537.36','cookie':'SID=9QQe2QfwhGx82ooP_JH5tu1yI-BxvwznWPVpNbrHBvmhWPpCfZY7zkaELbi6DfZhwEQRHg.; HSID=Afxnv5ZwuQwRWRWya; SSID=AlRtPJRJTbUcs6UDW; APISID=xYcDioiP2XVhShKT/AYK8j_bZb28ydDLlG; SAPISID=0Asl7o191762EgbJ/AEGTSHtaQ1IQAPzZp; OTZ=3980485_24_24__24_; NID=110=YgM5qNYSmLpllU4f81F3_TAxYfK4p-dePjdyOv8P04k_bCXQTppuCinvv8eR51Az7g48zXNEwpeoiBMtGhWvZ6osbHBb_YSdYl-jelOyeICH3cWi651mzNRN6vER7lvjLoejs6Yiy4_qnJtIeGOy6JDKEb4ghxluTHz4cJ8KyaH9zCZU8UVpPAs6Z37Jt3ZnbIrFqFq7cocX__9LH4viTBsJs83HTf4kt2V8; SIDCC=AA248bdQFRrfX8NJdHP01CCHu0uFPqSC61ZLorz0RcgnCqcARlzDRYZnCL1-7l-_nGe1omgvi8iPoKGBHnI'})\n",
    "        lat = str(*re.findall('l=zh-TW&q=(.*)&z=17&ou',res1.text)).split(',')[0]\n",
    "        lng = str(*re.findall('l=zh-TW&q=(.*)&z=17&ou',res1.text)).split(',')[1] \n",
    "        lat = float(lat)\n",
    "        lng = float(lng)\n",
    "    except Exception as e :\n",
    "        lat = 0.0\n",
    "        lng = 0.0\n",
    "        print('url_591_{} with exception {} at get_lat_lng'.format(tickCount,e))\n",
    "        log.append('url_591_{} with exception {} at get_lat_lng , '.format(tickCount,e))\n",
    "        pass\n",
    "    latlng = (lat,lng)\n",
    "    return (latlng)"
   ]
  },
  {
   "cell_type": "code",
   "execution_count": 14,
   "metadata": {
    "collapsed": true
   },
   "outputs": [],
   "source": [
    "def get_sex(text,tickCount,log):\n",
    "    try:\n",
    "        sex = str(*re.findall('性別要求</div><divclass=\\\"two\\\"><span>：</span><emtitle=\\\"(.*)生</em></di',text)).split('\">')[0]\n",
    "        if sex == '女生' :\n",
    "            sex = 'F'\n",
    "        elif sex == '男生' :\n",
    "            sex = 'M'\n",
    "        else :\n",
    "            sex = 'A'\n",
    "    except Exception as e :\n",
    "        print('url_591_{} with exception {} at get_sex'.format(tickCount,e))\n",
    "        log.append('url_591_{} with exception {} at get_sex , '.format(tickCount,e))\n",
    "        pass\n",
    "    return sex"
   ]
  },
  {
   "cell_type": "code",
   "execution_count": 15,
   "metadata": {
    "collapsed": true
   },
   "outputs": [],
   "source": [
    "def get_space(text,tickCount,log):\n",
    "    try:\n",
    "        space = str(*re.findall('<li>坪數:(.*)</li><li>樓層',text)).split('坪')[0]\n",
    "        space = str(re.findall('[0-9.]*',space)[0])\n",
    "        space = float (space)\n",
    "    except Exception as e :\n",
    "        space = 0\n",
    "        print('url_591_{} with exception {} at get_space'.format(tickCount,e))\n",
    "        log.append('url_591_{} with exception {} at get_space , '.format(tickCount,e))\n",
    "        pass\n",
    "    return space"
   ]
  },
  {
   "cell_type": "code",
   "execution_count": 16,
   "metadata": {
    "collapsed": true
   },
   "outputs": [],
   "source": [
    "def get_pet(text,tickCount,log):\n",
    "    try:\n",
    "        pet = str(*re.findall('養寵物</div><divclass=\\\"two\\\"><span>：</span><emtitle=\\\"(.*)以</em></di',text)).split('\">')[0]\n",
    "        if pet == '可以' :\n",
    "            pet = 'Y'\n",
    "        else :\n",
    "            pet = 'N'\n",
    "    except Exception as e :\n",
    "        print('url_591_{} with exception {} at get_pet'.format(tickCount,e))\n",
    "        log.append('url_591_{} with exception {} at get_pet , '.format(tickCount,e))\n",
    "        pass\n",
    "    return pet"
   ]
  },
  {
   "cell_type": "code",
   "execution_count": 17,
   "metadata": {
    "collapsed": true
   },
   "outputs": [],
   "source": [
    "def get_cook(text,tickCount,log):\n",
    "    try:\n",
    "        cook = str(*re.findall('開伙</div><divclass=\\\"two\\\"><span>：</span><emtitle=\\\"(.*)以</em></di',text)).split('\">')[0]\n",
    "        if cook == '可以' :\n",
    "            cook = 'Y'\n",
    "        else :\n",
    "            cook = 'N'\n",
    "    except Exception as e :\n",
    "        print('url_591_{} with exception {} at get_cook'.format(tickCount,e))\n",
    "        log.append('url_591_{} with exception {} at get_cook , '.format(tickCount,e))\n",
    "        pass\n",
    "    return cook"
   ]
  },
  {
   "cell_type": "code",
   "execution_count": 18,
   "metadata": {
    "collapsed": true
   },
   "outputs": [],
   "source": [
    "def get_temp(text,tickCount,log):\n",
    "    try:\n",
    "        temp = str(*re.findall('最短租期</div><divclass=\\\"two\\\"><span>：</span><emtitle=\\\"(.*)年</em></di',text)).split('\">')[0]\n",
    "        if temp != '一年' :\n",
    "            temp = 'Y'\n",
    "        else :\n",
    "            temp = 'N'\n",
    "    except Exception as e :\n",
    "        print('url_591_{} with exception {} at get_temp'.format(tickCount,e))\n",
    "        log.append('url_591_{} with exception {} at get_temp , '.format(tickCount,e))\n",
    "        pass\n",
    "    return temp"
   ]
  },
  {
   "cell_type": "code",
   "execution_count": 19,
   "metadata": {
    "collapsed": true
   },
   "outputs": [],
   "source": [
    "#patternNa \n",
    "def get_pattern(text,tickCount,log):\n",
    "    try:\n",
    "        pattern = str(*re.findall('隔間材料</div><divclass=\\\"two\\\"><span>：</span><emtitle=\\\"(.*)</em></div><liclass=\\\"clear',text)).split('\">')[0]\n",
    "        if bool(pattern) == False:\n",
    "            pattern = 'NA'\n",
    "            #global patternNa += 1\n",
    "    except Exception as e :\n",
    "        print('url_591_{} with exception {} at get_pattern'.format(tickCount,e))\n",
    "        log.append('url_591_{} with exception {} at get_pattern , '.format(tickCount,e))\n",
    "        pass\n",
    "    return pattern\n",
    "    "
   ]
  },
  {
   "cell_type": "code",
   "execution_count": 20,
   "metadata": {
    "collapsed": true
   },
   "outputs": [],
   "source": [
    "def get_label(typ,tickCount,log):\n",
    "    try:\n",
    "        #label = str(*re.findall('區</a>&gt;<ahref=\\\"https://rent.591.com.tw/home/rent/index/r1s10k4.html\\\">(.*)</a>&gt;<ahref=\\\"https://',text)).split('</')[0]\n",
    "        #if bool(label) == False:\n",
    "            #print('url_591_{} didnt get label'.format(tickCount))\n",
    "        if typ in  ['TPE_雅房','NEWTPE_雅房']:\n",
    "            label = '雅'\n",
    "        elif typ in ['TPE_整層住家','NEWTPE_整層住家']:\n",
    "            label = '住'\n",
    "        else :\n",
    "            label = '套'      \n",
    "    except Exception as e :\n",
    "        print('url_591_{} with exception {} at get_label'.format(tickCount,e))\n",
    "        log.append('url_591_{} with exception {} at get_label , '.format(tickCount,e))\n",
    "        pass\n",
    "    return label"
   ]
  },
  {
   "cell_type": "code",
   "execution_count": 21,
   "metadata": {
    "collapsed": true
   },
   "outputs": [],
   "source": [
    "def get_time(text,tickCount,log):\n",
    "    try:\n",
    "        time = str(*re.findall('time\\':\\'(.*)\\'',text))\n",
    "    except Exception as e :\n",
    "        print('url_591_{} with exception {} at get_time'.format(tickCount,e))\n",
    "        log.append('url_591_{} with exception {} at get_time , '.format(tickCount,e))\n",
    "        pass\n",
    "    return time"
   ]
  },
  {
   "cell_type": "code",
   "execution_count": 22,
   "metadata": {
    "collapsed": true
   },
   "outputs": [],
   "source": [
    "def get_imgsrc(text,tickCount,log):\n",
    "    try:\n",
    "        imgsrc = str(*re.findall('imgsrc=\\\"//statics.591.com.tw/tools/showPhone.php\\?(.*)\\\"/></span></div><!--聯繫',text))\n",
    "    except Exception as e :\n",
    "        print('url_591_{} with exception {} at get_imgsrc'.format(tickCount,e))\n",
    "        log.append('url_591_{} with exception {} at get_imgsrc , '.format(tickCount,e)) \n",
    "        pass\n",
    "    return imgsrc"
   ]
  },
  {
   "cell_type": "code",
   "execution_count": 23,
   "metadata": {
    "collapsed": true
   },
   "outputs": [],
   "source": [
    "def make_code():\n",
    "    code = '''中正區 100\n",
    "    大同區 103\n",
    "    中山區 104\n",
    "    松山區 105\n",
    "    大安區 106\n",
    "    萬華區 108\n",
    "    信義區 110\n",
    "    士林區 111\n",
    "    北投區 112\n",
    "    內湖區 114\n",
    "    南港區 115\n",
    "    文山區 116\n",
    "    萬里區 207\n",
    "    金山區 208\n",
    "    板橋區 220\n",
    "    汐止區 221\n",
    "    深坑區 222\n",
    "    石碇區 223\n",
    "    瑞芳區 224\n",
    "    平溪區 226\n",
    "    雙溪區 227\n",
    "    貢寮區 228\n",
    "    新店區 231\n",
    "    坪林區 232\n",
    "    烏來區 233\n",
    "    永和區 234\n",
    "    中和區 235\n",
    "    土城區 236\n",
    "    三峽區 237\n",
    "    樹林區 238\n",
    "    鶯歌區 239\n",
    "    三重區 241\n",
    "    新莊區 242\n",
    "    泰山區 243\n",
    "    林口區 244\n",
    "    蘆洲區 247\n",
    "    五股區 248\n",
    "    八里區 249\n",
    "    淡水區 251\n",
    "    三芝區 252\n",
    "    石門區 253'''\n",
    "    code = code.replace('\\n',',')\n",
    "    code_={}\n",
    "    for row in code.split(',') :\n",
    "        code_[row.split()[0]]=row.split()[1]\n",
    "    return code_\n"
   ]
  },
  {
   "cell_type": "code",
   "execution_count": 24,
   "metadata": {
    "collapsed": true
   },
   "outputs": [],
   "source": [
    "def make_json_(cityID,url,title,address,label,pattern,floor,stories,rent,latlng,sex,space,pet,cook,time,landlord,description,temp):\n",
    "    json_ = {\n",
    "     'cityID':cityID,\n",
    "     'url':url,\n",
    "     'title':title,\n",
    "     'address':address,\n",
    "     'pattern':pattern,\n",
    "     'floor':floor,\n",
    "     'stories':stories,\n",
    "     'label':label,\n",
    "     'lat':latlng[0],\n",
    "     'lng':latlng[1],\n",
    "     'rent':rent,\n",
    "     'sex':sex,\n",
    "     'space':space,\n",
    "     'smoke':'N',\n",
    "     'pet':pet,\n",
    "     'cook':cook,\n",
    "     'updateDate':time,\n",
    "     'landlord':landlord,\n",
    "     'description':description,\n",
    "     'temp':temp,\n",
    "    }\n",
    "    return json_"
   ]
  },
  {
   "cell_type": "code",
   "execution_count": null,
   "metadata": {
    "collapsed": true
   },
   "outputs": [],
   "source": []
  },
  {
   "cell_type": "code",
   "execution_count": 25,
   "metadata": {
    "collapsed": true
   },
   "outputs": [],
   "source": [
    "def write_json_(json_,id_):\n",
    "    with open('D:\\\\json_591\\\\{}.json'.format(id_),'w',encoding='utf8') as f:\n",
    "            json.dump(json_,f)                                              "
   ]
  },
  {
   "cell_type": "code",
   "execution_count": null,
   "metadata": {
    "collapsed": true
   },
   "outputs": [],
   "source": []
  },
  {
   "cell_type": "code",
   "execution_count": 26,
   "metadata": {
    "scrolled": true
   },
   "outputs": [
    {
     "name": "stdout",
     "output_type": "stream",
     "text": [
      "TPE_獨立套房\n",
      "[Errno 2] No such file or directory: 'D:\\\\json_591\\\\5431826.json'\n",
      "[Errno 2] No such file or directory: 'D:\\\\json_591\\\\5466578.json'\n",
      "[Errno 2] No such file or directory: 'D:\\\\json_591\\\\5510278.json'\n",
      "[Errno 2] No such file or directory: 'D:\\\\json_591\\\\5493233.json'\n",
      "[Errno 2] No such file or directory: 'D:\\\\json_591\\\\5494448.json'\n",
      "[Errno 2] No such file or directory: 'D:\\\\json_591\\\\5489751.json'\n",
      "[Errno 2] No such file or directory: 'D:\\\\json_591\\\\5514479.json'\n",
      "[Errno 2] No such file or directory: 'D:\\\\json_591\\\\5510877.json'\n",
      "[Errno 2] No such file or directory: 'D:\\\\json_591\\\\4370096.json'\n",
      "[Errno 2] No such file or directory: 'D:\\\\json_591\\\\5498950.json'\n",
      "[Errno 2] No such file or directory: 'D:\\\\json_591\\\\5498618.json'\n",
      "[Errno 2] No such file or directory: 'D:\\\\json_591\\\\5493230.json'\n",
      "[Errno 2] No such file or directory: 'D:\\\\json_591\\\\5467918.json'\n",
      "[Errno 2] No such file or directory: 'D:\\\\json_591\\\\5488130.json'\n",
      "url_591_15 with exception (\"bad handshake: Error([('SSL routines', 'ssl3_get_server_certificate', 'certificate verify failed')],)\",) at get_lat_lng\n",
      "[Errno 2] No such file or directory: 'D:\\\\json_591\\\\5522846.json'\n"
     ]
    },
    {
     "name": "stderr",
     "output_type": "stream",
     "text": [
      "From cffi callback <function _verify_callback at 0x00000000060A1F28>:\n",
      "Traceback (most recent call last):\n",
      "  File \"D:\\Users\\Java\\Anaconda3\\lib\\site-packages\\OpenSSL\\SSL.py\", line 201, in wrapper\n",
      "    @wraps(callback)\n",
      "KeyboardInterrupt\n"
     ]
    },
    {
     "name": "stdout",
     "output_type": "stream",
     "text": [
      "[Errno 2] No such file or directory: 'D:\\\\json_591\\\\5444143.json'\n",
      "[Errno 2] No such file or directory: 'D:\\\\json_591\\\\5461131.json'\n",
      "[Errno 2] No such file or directory: 'D:\\\\json_591\\\\5488814.json'\n",
      "[Errno 2] No such file or directory: 'D:\\\\json_591\\\\5451726.json'\n",
      "[Errno 2] No such file or directory: 'D:\\\\json_591\\\\5512297.json'\n",
      "[Errno 2] No such file or directory: 'D:\\\\json_591\\\\5513108.json'\n",
      "[Errno 2] No such file or directory: 'D:\\\\json_591\\\\5508610.json'\n",
      "[Errno 2] No such file or directory: 'D:\\\\json_591\\\\5458492.json'\n",
      "[Errno 2] No such file or directory: 'D:\\\\json_591\\\\5513627.json'\n",
      "[Errno 2] No such file or directory: 'D:\\\\json_591\\\\5521633.json'\n",
      "[Errno 2] No such file or directory: 'D:\\\\json_591\\\\5498349.json'\n",
      "[Errno 2] No such file or directory: 'D:\\\\json_591\\\\5528888.json'\n",
      "[Errno 2] No such file or directory: 'D:\\\\json_591\\\\5520068.json'\n",
      "[Errno 2] No such file or directory: 'D:\\\\json_591\\\\5466471.json'\n",
      "[Errno 2] No such file or directory: 'D:\\\\json_591\\\\5462800.json'\n",
      "[Errno 2] No such file or directory: 'D:\\\\json_591\\\\5527538.json'\n",
      "[Errno 2] No such file or directory: 'D:\\\\json_591\\\\5455291.json'\n",
      "[Errno 2] No such file or directory: 'D:\\\\json_591\\\\5498061.json'\n",
      "[Errno 2] No such file or directory: 'D:\\\\json_591\\\\5469422.json'\n",
      "[Errno 2] No such file or directory: 'D:\\\\json_591\\\\5503292.json'\n",
      "[Errno 2] No such file or directory: 'D:\\\\json_591\\\\5436037.json'\n",
      "[Errno 2] No such file or directory: 'D:\\\\json_591\\\\5487347.json'\n",
      "[Errno 2] No such file or directory: 'D:\\\\json_591\\\\5465389.json'\n",
      "[Errno 2] No such file or directory: 'D:\\\\json_591\\\\5465677.json'\n",
      "[Errno 2] No such file or directory: 'D:\\\\json_591\\\\5508781.json'\n",
      "[Errno 2] No such file or directory: 'D:\\\\json_591\\\\5472171.json'\n",
      "[Errno 2] No such file or directory: 'D:\\\\json_591\\\\5530208.json'\n",
      "[Errno 2] No such file or directory: 'D:\\\\json_591\\\\5515243.json'\n",
      "[Errno 2] No such file or directory: 'D:\\\\json_591\\\\5485161.json'\n",
      "[Errno 2] No such file or directory: 'D:\\\\json_591\\\\5508477.json'\n",
      "[Errno 2] No such file or directory: 'D:\\\\json_591\\\\5381365.json'\n",
      "[Errno 2] No such file or directory: 'D:\\\\json_591\\\\5514705.json'\n",
      "[Errno 2] No such file or directory: 'D:\\\\json_591\\\\5486159.json'\n",
      "[Errno 2] No such file or directory: 'D:\\\\json_591\\\\5431665.json'\n",
      "[Errno 2] No such file or directory: 'D:\\\\json_591\\\\4841038.json'\n",
      "[Errno 2] No such file or directory: 'D:\\\\json_591\\\\5456135.json'\n",
      "[Errno 2] No such file or directory: 'D:\\\\json_591\\\\5433312.json'\n",
      "[Errno 2] No such file or directory: 'D:\\\\json_591\\\\5452841.json'\n",
      "[Errno 2] No such file or directory: 'D:\\\\json_591\\\\5448811.json'\n",
      "[Errno 2] No such file or directory: 'D:\\\\json_591\\\\5514717.json'\n",
      "[Errno 2] No such file or directory: 'D:\\\\json_591\\\\5433429.json'\n",
      "[Errno 2] No such file or directory: 'D:\\\\json_591\\\\5530239.json'\n",
      "[Errno 2] No such file or directory: 'D:\\\\json_591\\\\5528086.json'\n",
      "[Errno 2] No such file or directory: 'D:\\\\json_591\\\\5525041.json'\n",
      "[Errno 2] No such file or directory: 'D:\\\\json_591\\\\5502854.json'\n",
      "[Errno 2] No such file or directory: 'D:\\\\json_591\\\\5529890.json'\n",
      "[Errno 2] No such file or directory: 'D:\\\\json_591\\\\4232775.json'\n",
      "[Errno 2] No such file or directory: 'D:\\\\json_591\\\\5449418.json'\n",
      "[Errno 2] No such file or directory: 'D:\\\\json_591\\\\5526047.json'\n",
      "[Errno 2] No such file or directory: 'D:\\\\json_591\\\\5486241.json'\n",
      "[Errno 2] No such file or directory: 'D:\\\\json_591\\\\5454795.json'\n",
      "[Errno 2] No such file or directory: 'D:\\\\json_591\\\\5516288.json'\n",
      "[Errno 2] No such file or directory: 'D:\\\\json_591\\\\5518331.json'\n",
      "[Errno 2] No such file or directory: 'D:\\\\json_591\\\\5529514.json'\n",
      "[Errno 2] No such file or directory: 'D:\\\\json_591\\\\5524856.json'\n",
      "[Errno 2] No such file or directory: 'D:\\\\json_591\\\\5439607.json'\n",
      "[Errno 2] No such file or directory: 'D:\\\\json_591\\\\5410545.json'\n",
      "[Errno 2] No such file or directory: 'D:\\\\json_591\\\\5520858.json'\n",
      "[Errno 2] No such file or directory: 'D:\\\\json_591\\\\5482726.json'\n",
      "[Errno 2] No such file or directory: 'D:\\\\json_591\\\\5528762.json'\n",
      "[Errno 2] No such file or directory: 'D:\\\\json_591\\\\5440526.json'\n",
      "[Errno 2] No such file or directory: 'D:\\\\json_591\\\\5490748.json'\n",
      "[Errno 2] No such file or directory: 'D:\\\\json_591\\\\5486519.json'\n",
      "[Errno 2] No such file or directory: 'D:\\\\json_591\\\\5447566.json'\n",
      "[Errno 2] No such file or directory: 'D:\\\\json_591\\\\5475552.json'\n",
      "[Errno 2] No such file or directory: 'D:\\\\json_591\\\\5528736.json'\n",
      "[Errno 2] No such file or directory: 'D:\\\\json_591\\\\5499716.json'\n",
      "[Errno 2] No such file or directory: 'D:\\\\json_591\\\\5351941.json'\n",
      "[Errno 2] No such file or directory: 'D:\\\\json_591\\\\5450899.json'\n",
      "[Errno 2] No such file or directory: 'D:\\\\json_591\\\\5502277.json'\n",
      "[Errno 2] No such file or directory: 'D:\\\\json_591\\\\5526510.json'\n",
      "[Errno 2] No such file or directory: 'D:\\\\json_591\\\\5520164.json'\n",
      "[Errno 2] No such file or directory: 'D:\\\\json_591\\\\5491127.json'\n",
      "[Errno 2] No such file or directory: 'D:\\\\json_591\\\\5529431.json'\n",
      "[Errno 2] No such file or directory: 'D:\\\\json_591\\\\5503278.json'\n",
      "[Errno 2] No such file or directory: 'D:\\\\json_591\\\\5471675.json'\n",
      "[Errno 2] No such file or directory: 'D:\\\\json_591\\\\5528210.json'\n",
      "[Errno 2] No such file or directory: 'D:\\\\json_591\\\\5452231.json'\n",
      "[Errno 2] No such file or directory: 'D:\\\\json_591\\\\5528488.json'\n",
      "[Errno 2] No such file or directory: 'D:\\\\json_591\\\\5471384.json'\n",
      "[Errno 2] No such file or directory: 'D:\\\\json_591\\\\5443510.json'\n",
      "[Errno 2] No such file or directory: 'D:\\\\json_591\\\\5296183.json'\n",
      "[Errno 2] No such file or directory: 'D:\\\\json_591\\\\5440890.json'\n",
      "[Errno 2] No such file or directory: 'D:\\\\json_591\\\\5455090.json'\n",
      "[Errno 2] No such file or directory: 'D:\\\\json_591\\\\5514555.json'\n",
      "[Errno 2] No such file or directory: 'D:\\\\json_591\\\\4709401.json'\n",
      "[Errno 2] No such file or directory: 'D:\\\\json_591\\\\5495583.json'\n",
      "[Errno 2] No such file or directory: 'D:\\\\json_591\\\\5516575.json'\n",
      "url_591_104 with exception list index out of range at get_lat_lng\n",
      "[Errno 2] No such file or directory: 'D:\\\\json_591\\\\5493373.json'\n",
      "[Errno 2] No such file or directory: 'D:\\\\json_591\\\\5469321.json'\n",
      "[Errno 2] No such file or directory: 'D:\\\\json_591\\\\5461315.json'\n",
      "[Errno 2] No such file or directory: 'D:\\\\json_591\\\\5455938.json'\n",
      "[Errno 2] No such file or directory: 'D:\\\\json_591\\\\5516869.json'\n",
      "[Errno 2] No such file or directory: 'D:\\\\json_591\\\\5447070.json'\n",
      "[Errno 2] No such file or directory: 'D:\\\\json_591\\\\5488585.json'\n",
      "[Errno 2] No such file or directory: 'D:\\\\json_591\\\\5444064.json'\n",
      "[Errno 2] No such file or directory: 'D:\\\\json_591\\\\5436098.json'\n",
      "[Errno 2] No such file or directory: 'D:\\\\json_591\\\\5512203.json'\n",
      "[Errno 2] No such file or directory: 'D:\\\\json_591\\\\5519385.json'\n",
      "[Errno 2] No such file or directory: 'D:\\\\json_591\\\\5464149.json'\n",
      "[Errno 2] No such file or directory: 'D:\\\\json_591\\\\5482544.json'\n",
      "[Errno 2] No such file or directory: 'D:\\\\json_591\\\\4861096.json'\n",
      "[Errno 2] No such file or directory: 'D:\\\\json_591\\\\5501264.json'\n",
      "[Errno 2] No such file or directory: 'D:\\\\json_591\\\\5440814.json'\n",
      "[Errno 2] No such file or directory: 'D:\\\\json_591\\\\5439205.json'\n",
      "[Errno 2] No such file or directory: 'D:\\\\json_591\\\\5492218.json'\n",
      "[Errno 2] No such file or directory: 'D:\\\\json_591\\\\5469040.json'\n",
      "[Errno 2] No such file or directory: 'D:\\\\json_591\\\\5520478.json'\n",
      "[Errno 2] No such file or directory: 'D:\\\\json_591\\\\5459710.json'\n",
      "[Errno 2] No such file or directory: 'D:\\\\json_591\\\\5479877.json'\n",
      "[Errno 2] No such file or directory: 'D:\\\\json_591\\\\5475623.json'\n",
      "[Errno 2] No such file or directory: 'D:\\\\json_591\\\\5439797.json'\n",
      "[Errno 2] No such file or directory: 'D:\\\\json_591\\\\5503411.json'\n",
      "[Errno 2] No such file or directory: 'D:\\\\json_591\\\\5465807.json'\n",
      "[Errno 2] No such file or directory: 'D:\\\\json_591\\\\5523140.json'\n",
      "[Errno 2] No such file or directory: 'D:\\\\json_591\\\\5517403.json'\n",
      "[Errno 2] No such file or directory: 'D:\\\\json_591\\\\5495505.json'\n",
      "[Errno 2] No such file or directory: 'D:\\\\json_591\\\\5466996.json'\n",
      "[Errno 2] No such file or directory: 'D:\\\\json_591\\\\5519335.json'\n",
      "[Errno 2] No such file or directory: 'D:\\\\json_591\\\\5515684.json'\n",
      "[Errno 2] No such file or directory: 'D:\\\\json_591\\\\5493813.json'\n",
      "[Errno 2] No such file or directory: 'D:\\\\json_591\\\\5523742.json'\n",
      "[Errno 2] No such file or directory: 'D:\\\\json_591\\\\5527463.json'\n",
      "[Errno 2] No such file or directory: 'D:\\\\json_591\\\\5453226.json'\n"
     ]
    },
    {
     "name": "stdout",
     "output_type": "stream",
     "text": [
      "[Errno 2] No such file or directory: 'D:\\\\json_591\\\\5525690.json'\n",
      "[Errno 2] No such file or directory: 'D:\\\\json_591\\\\5485992.json'\n",
      "[Errno 2] No such file or directory: 'D:\\\\json_591\\\\5454331.json'\n",
      "[Errno 2] No such file or directory: 'D:\\\\json_591\\\\5456578.json'\n",
      "[Errno 2] No such file or directory: 'D:\\\\json_591\\\\5527936.json'\n",
      "[Errno 2] No such file or directory: 'D:\\\\json_591\\\\5504493.json'\n",
      "[Errno 2] No such file or directory: 'D:\\\\json_591\\\\5523160.json'\n",
      "[Errno 2] No such file or directory: 'D:\\\\json_591\\\\5511810.json'\n",
      "[Errno 2] No such file or directory: 'D:\\\\json_591\\\\5526255.json'\n",
      "[Errno 2] No such file or directory: 'D:\\\\json_591\\\\5439207.json'\n",
      "[Errno 2] No such file or directory: 'D:\\\\json_591\\\\5458293.json'\n",
      "[Errno 2] No such file or directory: 'D:\\\\json_591\\\\5465934.json'\n",
      "[Errno 2] No such file or directory: 'D:\\\\json_591\\\\5061493.json'\n",
      "[Errno 2] No such file or directory: 'D:\\\\json_591\\\\5472077.json'\n",
      "[Errno 2] No such file or directory: 'D:\\\\json_591\\\\5442259.json'\n",
      "[Errno 2] No such file or directory: 'D:\\\\json_591\\\\4756521.json'\n",
      "[Errno 2] No such file or directory: 'D:\\\\json_591\\\\5483842.json'\n",
      "[Errno 2] No such file or directory: 'D:\\\\json_591\\\\5458939.json'\n",
      "[Errno 2] No such file or directory: 'D:\\\\json_591\\\\5461118.json'\n",
      "[Errno 2] No such file or directory: 'D:\\\\json_591\\\\5483095.json'\n",
      "[Errno 2] No such file or directory: 'D:\\\\json_591\\\\5482406.json'\n",
      "[Errno 2] No such file or directory: 'D:\\\\json_591\\\\5487722.json'\n",
      "url_591_162 with exception list index out of range at get_lat_lng\n",
      "[Errno 2] No such file or directory: 'D:\\\\json_591\\\\5518696.json'\n",
      "[Errno 2] No such file or directory: 'D:\\\\json_591\\\\5519009.json'\n",
      "[Errno 2] No such file or directory: 'D:\\\\json_591\\\\5459299.json'\n",
      "[Errno 2] No such file or directory: 'D:\\\\json_591\\\\5464560.json'\n",
      "[Errno 2] No such file or directory: 'D:\\\\json_591\\\\5517138.json'\n"
     ]
    },
    {
     "ename": "KeyboardInterrupt",
     "evalue": "",
     "output_type": "error",
     "traceback": [
      "\u001b[1;31m---------------------------------------------------------------------------\u001b[0m",
      "\u001b[1;31mTypeError\u001b[0m                                 Traceback (most recent call last)",
      "\u001b[1;32mD:\\Users\\Java\\Anaconda3\\lib\\site-packages\\requests\\packages\\urllib3\\connectionpool.py\u001b[0m in \u001b[0;36m_make_request\u001b[1;34m(self, conn, method, url, timeout, chunked, **httplib_request_kw)\u001b[0m\n\u001b[0;32m    378\u001b[0m             \u001b[1;32mtry\u001b[0m\u001b[1;33m:\u001b[0m  \u001b[1;31m# Python 2.7, use buffering of HTTP responses\u001b[0m\u001b[1;33m\u001b[0m\u001b[0m\n\u001b[1;32m--> 379\u001b[1;33m                 \u001b[0mhttplib_response\u001b[0m \u001b[1;33m=\u001b[0m \u001b[0mconn\u001b[0m\u001b[1;33m.\u001b[0m\u001b[0mgetresponse\u001b[0m\u001b[1;33m(\u001b[0m\u001b[0mbuffering\u001b[0m\u001b[1;33m=\u001b[0m\u001b[1;32mTrue\u001b[0m\u001b[1;33m)\u001b[0m\u001b[1;33m\u001b[0m\u001b[0m\n\u001b[0m\u001b[0;32m    380\u001b[0m             \u001b[1;32mexcept\u001b[0m \u001b[0mTypeError\u001b[0m\u001b[1;33m:\u001b[0m  \u001b[1;31m# Python 2.6 and older, Python 3\u001b[0m\u001b[1;33m\u001b[0m\u001b[0m\n",
      "\u001b[1;31mTypeError\u001b[0m: getresponse() got an unexpected keyword argument 'buffering'",
      "\nDuring handling of the above exception, another exception occurred:\n",
      "\u001b[1;31mKeyboardInterrupt\u001b[0m                         Traceback (most recent call last)",
      "\u001b[1;32m<ipython-input-26-7453860e23c1>\u001b[0m in \u001b[0;36m<module>\u001b[1;34m()\u001b[0m\n\u001b[0;32m     20\u001b[0m             \u001b[0mlabel\u001b[0m \u001b[1;33m=\u001b[0m \u001b[0mget_label\u001b[0m\u001b[1;33m(\u001b[0m\u001b[0mtext\u001b[0m\u001b[1;33m,\u001b[0m\u001b[0mtickCount\u001b[0m\u001b[1;33m,\u001b[0m\u001b[0mlog\u001b[0m\u001b[1;33m)\u001b[0m\u001b[1;33m\u001b[0m\u001b[0m\n\u001b[0;32m     21\u001b[0m             \u001b[0mrent\u001b[0m \u001b[1;33m=\u001b[0m \u001b[0mget_rent\u001b[0m\u001b[1;33m(\u001b[0m\u001b[0mtext\u001b[0m\u001b[1;33m,\u001b[0m\u001b[0mtickCount\u001b[0m\u001b[1;33m,\u001b[0m\u001b[0mlog\u001b[0m\u001b[1;33m)\u001b[0m\u001b[1;33m\u001b[0m\u001b[0m\n\u001b[1;32m---> 22\u001b[1;33m             \u001b[0mlatlng\u001b[0m \u001b[1;33m=\u001b[0m \u001b[0mget_lat_lng\u001b[0m\u001b[1;33m(\u001b[0m\u001b[0mtext\u001b[0m\u001b[1;33m,\u001b[0m\u001b[0mtickCount\u001b[0m\u001b[1;33m,\u001b[0m\u001b[0mlog\u001b[0m\u001b[1;33m)\u001b[0m\u001b[1;33m\u001b[0m\u001b[0m\n\u001b[0m\u001b[0;32m     23\u001b[0m             \u001b[0msex\u001b[0m \u001b[1;33m=\u001b[0m \u001b[0mget_sex\u001b[0m\u001b[1;33m(\u001b[0m\u001b[0mtext\u001b[0m\u001b[1;33m,\u001b[0m\u001b[0mtickCount\u001b[0m\u001b[1;33m,\u001b[0m\u001b[0mlog\u001b[0m\u001b[1;33m)\u001b[0m\u001b[1;33m\u001b[0m\u001b[0m\n\u001b[0;32m     24\u001b[0m             \u001b[0mspace\u001b[0m \u001b[1;33m=\u001b[0m \u001b[0mget_space\u001b[0m\u001b[1;33m(\u001b[0m\u001b[0mtext\u001b[0m\u001b[1;33m,\u001b[0m\u001b[0mtickCount\u001b[0m\u001b[1;33m,\u001b[0m\u001b[0mlog\u001b[0m\u001b[1;33m)\u001b[0m\u001b[1;33m\u001b[0m\u001b[0m\n",
      "\u001b[1;32m<ipython-input-13-9d70ef59d6be>\u001b[0m in \u001b[0;36mget_lat_lng\u001b[1;34m(text, tickCount, log)\u001b[0m\n\u001b[0;32m      1\u001b[0m \u001b[1;32mdef\u001b[0m \u001b[0mget_lat_lng\u001b[0m\u001b[1;33m(\u001b[0m\u001b[0mtext\u001b[0m\u001b[1;33m,\u001b[0m\u001b[0mtickCount\u001b[0m\u001b[1;33m,\u001b[0m\u001b[0mlog\u001b[0m\u001b[1;33m)\u001b[0m\u001b[1;33m:\u001b[0m\u001b[1;33m\u001b[0m\u001b[0m\n\u001b[0;32m      2\u001b[0m     \u001b[1;32mtry\u001b[0m\u001b[1;33m:\u001b[0m\u001b[1;33m\u001b[0m\u001b[0m\n\u001b[1;32m----> 3\u001b[1;33m         \u001b[0mres1\u001b[0m \u001b[1;33m=\u001b[0m \u001b[0mrequests\u001b[0m\u001b[1;33m.\u001b[0m\u001b[0mget\u001b[0m\u001b[1;33m(\u001b[0m\u001b[1;34m'https://rent.591.com.tw/map-houseRound.html?type=1&post_id={}&detail=detail'\u001b[0m\u001b[1;33m.\u001b[0m\u001b[0mformat\u001b[0m\u001b[1;33m(\u001b[0m\u001b[0mid_\u001b[0m\u001b[1;33m)\u001b[0m\u001b[1;33m,\u001b[0m\u001b[0mheaders\u001b[0m\u001b[1;33m=\u001b[0m\u001b[1;33m{\u001b[0m\u001b[1;34m'User-Agent'\u001b[0m\u001b[1;33m:\u001b[0m\u001b[1;34m'Mozilla/5.0 (Windows NT 6.1; Win64; x64) AppleWebKit/537.36 (KHTML, like Gecko) Chrome/60.0.3112.90 Safari/537.36'\u001b[0m\u001b[1;33m,\u001b[0m\u001b[1;34m'cookie'\u001b[0m\u001b[1;33m:\u001b[0m\u001b[1;34m'SID=9QQe2QfwhGx82ooP_JH5tu1yI-BxvwznWPVpNbrHBvmhWPpCfZY7zkaELbi6DfZhwEQRHg.; HSID=Afxnv5ZwuQwRWRWya; SSID=AlRtPJRJTbUcs6UDW; APISID=xYcDioiP2XVhShKT/AYK8j_bZb28ydDLlG; SAPISID=0Asl7o191762EgbJ/AEGTSHtaQ1IQAPzZp; OTZ=3980485_24_24__24_; NID=110=YgM5qNYSmLpllU4f81F3_TAxYfK4p-dePjdyOv8P04k_bCXQTppuCinvv8eR51Az7g48zXNEwpeoiBMtGhWvZ6osbHBb_YSdYl-jelOyeICH3cWi651mzNRN6vER7lvjLoejs6Yiy4_qnJtIeGOy6JDKEb4ghxluTHz4cJ8KyaH9zCZU8UVpPAs6Z37Jt3ZnbIrFqFq7cocX__9LH4viTBsJs83HTf4kt2V8; SIDCC=AA248bdQFRrfX8NJdHP01CCHu0uFPqSC61ZLorz0RcgnCqcARlzDRYZnCL1-7l-_nGe1omgvi8iPoKGBHnI'\u001b[0m\u001b[1;33m}\u001b[0m\u001b[1;33m)\u001b[0m\u001b[1;33m\u001b[0m\u001b[0m\n\u001b[0m\u001b[0;32m      4\u001b[0m         \u001b[0mlat\u001b[0m \u001b[1;33m=\u001b[0m \u001b[0mstr\u001b[0m\u001b[1;33m(\u001b[0m\u001b[1;33m*\u001b[0m\u001b[0mre\u001b[0m\u001b[1;33m.\u001b[0m\u001b[0mfindall\u001b[0m\u001b[1;33m(\u001b[0m\u001b[1;34m'l=zh-TW&q=(.*)&z=17&ou'\u001b[0m\u001b[1;33m,\u001b[0m\u001b[0mres1\u001b[0m\u001b[1;33m.\u001b[0m\u001b[0mtext\u001b[0m\u001b[1;33m)\u001b[0m\u001b[1;33m)\u001b[0m\u001b[1;33m.\u001b[0m\u001b[0msplit\u001b[0m\u001b[1;33m(\u001b[0m\u001b[1;34m','\u001b[0m\u001b[1;33m)\u001b[0m\u001b[1;33m[\u001b[0m\u001b[1;36m0\u001b[0m\u001b[1;33m]\u001b[0m\u001b[1;33m\u001b[0m\u001b[0m\n\u001b[0;32m      5\u001b[0m         \u001b[0mlng\u001b[0m \u001b[1;33m=\u001b[0m \u001b[0mstr\u001b[0m\u001b[1;33m(\u001b[0m\u001b[1;33m*\u001b[0m\u001b[0mre\u001b[0m\u001b[1;33m.\u001b[0m\u001b[0mfindall\u001b[0m\u001b[1;33m(\u001b[0m\u001b[1;34m'l=zh-TW&q=(.*)&z=17&ou'\u001b[0m\u001b[1;33m,\u001b[0m\u001b[0mres1\u001b[0m\u001b[1;33m.\u001b[0m\u001b[0mtext\u001b[0m\u001b[1;33m)\u001b[0m\u001b[1;33m)\u001b[0m\u001b[1;33m.\u001b[0m\u001b[0msplit\u001b[0m\u001b[1;33m(\u001b[0m\u001b[1;34m','\u001b[0m\u001b[1;33m)\u001b[0m\u001b[1;33m[\u001b[0m\u001b[1;36m1\u001b[0m\u001b[1;33m]\u001b[0m\u001b[1;33m\u001b[0m\u001b[0m\n",
      "\u001b[1;32mD:\\Users\\Java\\Anaconda3\\lib\\site-packages\\requests\\api.py\u001b[0m in \u001b[0;36mget\u001b[1;34m(url, params, **kwargs)\u001b[0m\n\u001b[0;32m     70\u001b[0m \u001b[1;33m\u001b[0m\u001b[0m\n\u001b[0;32m     71\u001b[0m     \u001b[0mkwargs\u001b[0m\u001b[1;33m.\u001b[0m\u001b[0msetdefault\u001b[0m\u001b[1;33m(\u001b[0m\u001b[1;34m'allow_redirects'\u001b[0m\u001b[1;33m,\u001b[0m \u001b[1;32mTrue\u001b[0m\u001b[1;33m)\u001b[0m\u001b[1;33m\u001b[0m\u001b[0m\n\u001b[1;32m---> 72\u001b[1;33m     \u001b[1;32mreturn\u001b[0m \u001b[0mrequest\u001b[0m\u001b[1;33m(\u001b[0m\u001b[1;34m'get'\u001b[0m\u001b[1;33m,\u001b[0m \u001b[0murl\u001b[0m\u001b[1;33m,\u001b[0m \u001b[0mparams\u001b[0m\u001b[1;33m=\u001b[0m\u001b[0mparams\u001b[0m\u001b[1;33m,\u001b[0m \u001b[1;33m**\u001b[0m\u001b[0mkwargs\u001b[0m\u001b[1;33m)\u001b[0m\u001b[1;33m\u001b[0m\u001b[0m\n\u001b[0m\u001b[0;32m     73\u001b[0m \u001b[1;33m\u001b[0m\u001b[0m\n\u001b[0;32m     74\u001b[0m \u001b[1;33m\u001b[0m\u001b[0m\n",
      "\u001b[1;32mD:\\Users\\Java\\Anaconda3\\lib\\site-packages\\requests\\api.py\u001b[0m in \u001b[0;36mrequest\u001b[1;34m(method, url, **kwargs)\u001b[0m\n\u001b[0;32m     56\u001b[0m     \u001b[1;31m# cases, and look like a memory leak in others.\u001b[0m\u001b[1;33m\u001b[0m\u001b[1;33m\u001b[0m\u001b[0m\n\u001b[0;32m     57\u001b[0m     \u001b[1;32mwith\u001b[0m \u001b[0msessions\u001b[0m\u001b[1;33m.\u001b[0m\u001b[0mSession\u001b[0m\u001b[1;33m(\u001b[0m\u001b[1;33m)\u001b[0m \u001b[1;32mas\u001b[0m \u001b[0msession\u001b[0m\u001b[1;33m:\u001b[0m\u001b[1;33m\u001b[0m\u001b[0m\n\u001b[1;32m---> 58\u001b[1;33m         \u001b[1;32mreturn\u001b[0m \u001b[0msession\u001b[0m\u001b[1;33m.\u001b[0m\u001b[0mrequest\u001b[0m\u001b[1;33m(\u001b[0m\u001b[0mmethod\u001b[0m\u001b[1;33m=\u001b[0m\u001b[0mmethod\u001b[0m\u001b[1;33m,\u001b[0m \u001b[0murl\u001b[0m\u001b[1;33m=\u001b[0m\u001b[0murl\u001b[0m\u001b[1;33m,\u001b[0m \u001b[1;33m**\u001b[0m\u001b[0mkwargs\u001b[0m\u001b[1;33m)\u001b[0m\u001b[1;33m\u001b[0m\u001b[0m\n\u001b[0m\u001b[0;32m     59\u001b[0m \u001b[1;33m\u001b[0m\u001b[0m\n\u001b[0;32m     60\u001b[0m \u001b[1;33m\u001b[0m\u001b[0m\n",
      "\u001b[1;32mD:\\Users\\Java\\Anaconda3\\lib\\site-packages\\requests\\sessions.py\u001b[0m in \u001b[0;36mrequest\u001b[1;34m(self, method, url, params, data, headers, cookies, files, auth, timeout, allow_redirects, proxies, hooks, stream, verify, cert, json)\u001b[0m\n\u001b[0;32m    516\u001b[0m         }\n\u001b[0;32m    517\u001b[0m         \u001b[0msend_kwargs\u001b[0m\u001b[1;33m.\u001b[0m\u001b[0mupdate\u001b[0m\u001b[1;33m(\u001b[0m\u001b[0msettings\u001b[0m\u001b[1;33m)\u001b[0m\u001b[1;33m\u001b[0m\u001b[0m\n\u001b[1;32m--> 518\u001b[1;33m         \u001b[0mresp\u001b[0m \u001b[1;33m=\u001b[0m \u001b[0mself\u001b[0m\u001b[1;33m.\u001b[0m\u001b[0msend\u001b[0m\u001b[1;33m(\u001b[0m\u001b[0mprep\u001b[0m\u001b[1;33m,\u001b[0m \u001b[1;33m**\u001b[0m\u001b[0msend_kwargs\u001b[0m\u001b[1;33m)\u001b[0m\u001b[1;33m\u001b[0m\u001b[0m\n\u001b[0m\u001b[0;32m    519\u001b[0m \u001b[1;33m\u001b[0m\u001b[0m\n\u001b[0;32m    520\u001b[0m         \u001b[1;32mreturn\u001b[0m \u001b[0mresp\u001b[0m\u001b[1;33m\u001b[0m\u001b[0m\n",
      "\u001b[1;32mD:\\Users\\Java\\Anaconda3\\lib\\site-packages\\requests\\sessions.py\u001b[0m in \u001b[0;36msend\u001b[1;34m(self, request, **kwargs)\u001b[0m\n\u001b[0;32m    637\u001b[0m \u001b[1;33m\u001b[0m\u001b[0m\n\u001b[0;32m    638\u001b[0m         \u001b[1;31m# Send the request\u001b[0m\u001b[1;33m\u001b[0m\u001b[1;33m\u001b[0m\u001b[0m\n\u001b[1;32m--> 639\u001b[1;33m         \u001b[0mr\u001b[0m \u001b[1;33m=\u001b[0m \u001b[0madapter\u001b[0m\u001b[1;33m.\u001b[0m\u001b[0msend\u001b[0m\u001b[1;33m(\u001b[0m\u001b[0mrequest\u001b[0m\u001b[1;33m,\u001b[0m \u001b[1;33m**\u001b[0m\u001b[0mkwargs\u001b[0m\u001b[1;33m)\u001b[0m\u001b[1;33m\u001b[0m\u001b[0m\n\u001b[0m\u001b[0;32m    640\u001b[0m \u001b[1;33m\u001b[0m\u001b[0m\n\u001b[0;32m    641\u001b[0m         \u001b[1;31m# Total elapsed time of the request (approximately)\u001b[0m\u001b[1;33m\u001b[0m\u001b[1;33m\u001b[0m\u001b[0m\n",
      "\u001b[1;32mD:\\Users\\Java\\Anaconda3\\lib\\site-packages\\requests\\adapters.py\u001b[0m in \u001b[0;36msend\u001b[1;34m(self, request, stream, timeout, verify, cert, proxies)\u001b[0m\n\u001b[0;32m    436\u001b[0m                     \u001b[0mdecode_content\u001b[0m\u001b[1;33m=\u001b[0m\u001b[1;32mFalse\u001b[0m\u001b[1;33m,\u001b[0m\u001b[1;33m\u001b[0m\u001b[0m\n\u001b[0;32m    437\u001b[0m                     \u001b[0mretries\u001b[0m\u001b[1;33m=\u001b[0m\u001b[0mself\u001b[0m\u001b[1;33m.\u001b[0m\u001b[0mmax_retries\u001b[0m\u001b[1;33m,\u001b[0m\u001b[1;33m\u001b[0m\u001b[0m\n\u001b[1;32m--> 438\u001b[1;33m                     \u001b[0mtimeout\u001b[0m\u001b[1;33m=\u001b[0m\u001b[0mtimeout\u001b[0m\u001b[1;33m\u001b[0m\u001b[0m\n\u001b[0m\u001b[0;32m    439\u001b[0m                 )\n\u001b[0;32m    440\u001b[0m \u001b[1;33m\u001b[0m\u001b[0m\n",
      "\u001b[1;32mD:\\Users\\Java\\Anaconda3\\lib\\site-packages\\requests\\packages\\urllib3\\connectionpool.py\u001b[0m in \u001b[0;36murlopen\u001b[1;34m(self, method, url, body, headers, retries, redirect, assert_same_host, timeout, pool_timeout, release_conn, chunked, body_pos, **response_kw)\u001b[0m\n\u001b[0;32m    598\u001b[0m                                                   \u001b[0mtimeout\u001b[0m\u001b[1;33m=\u001b[0m\u001b[0mtimeout_obj\u001b[0m\u001b[1;33m,\u001b[0m\u001b[1;33m\u001b[0m\u001b[0m\n\u001b[0;32m    599\u001b[0m                                                   \u001b[0mbody\u001b[0m\u001b[1;33m=\u001b[0m\u001b[0mbody\u001b[0m\u001b[1;33m,\u001b[0m \u001b[0mheaders\u001b[0m\u001b[1;33m=\u001b[0m\u001b[0mheaders\u001b[0m\u001b[1;33m,\u001b[0m\u001b[1;33m\u001b[0m\u001b[0m\n\u001b[1;32m--> 600\u001b[1;33m                                                   chunked=chunked)\n\u001b[0m\u001b[0;32m    601\u001b[0m \u001b[1;33m\u001b[0m\u001b[0m\n\u001b[0;32m    602\u001b[0m             \u001b[1;31m# If we're going to release the connection in ``finally:``, then\u001b[0m\u001b[1;33m\u001b[0m\u001b[1;33m\u001b[0m\u001b[0m\n",
      "\u001b[1;32mD:\\Users\\Java\\Anaconda3\\lib\\site-packages\\requests\\packages\\urllib3\\connectionpool.py\u001b[0m in \u001b[0;36m_make_request\u001b[1;34m(self, conn, method, url, timeout, chunked, **httplib_request_kw)\u001b[0m\n\u001b[0;32m    380\u001b[0m             \u001b[1;32mexcept\u001b[0m \u001b[0mTypeError\u001b[0m\u001b[1;33m:\u001b[0m  \u001b[1;31m# Python 2.6 and older, Python 3\u001b[0m\u001b[1;33m\u001b[0m\u001b[0m\n\u001b[0;32m    381\u001b[0m                 \u001b[1;32mtry\u001b[0m\u001b[1;33m:\u001b[0m\u001b[1;33m\u001b[0m\u001b[0m\n\u001b[1;32m--> 382\u001b[1;33m                     \u001b[0mhttplib_response\u001b[0m \u001b[1;33m=\u001b[0m \u001b[0mconn\u001b[0m\u001b[1;33m.\u001b[0m\u001b[0mgetresponse\u001b[0m\u001b[1;33m(\u001b[0m\u001b[1;33m)\u001b[0m\u001b[1;33m\u001b[0m\u001b[0m\n\u001b[0m\u001b[0;32m    383\u001b[0m                 \u001b[1;32mexcept\u001b[0m \u001b[0mException\u001b[0m \u001b[1;32mas\u001b[0m \u001b[0me\u001b[0m\u001b[1;33m:\u001b[0m\u001b[1;33m\u001b[0m\u001b[0m\n\u001b[0;32m    384\u001b[0m                     \u001b[1;31m# Remove the TypeError from the exception chain in Python 3;\u001b[0m\u001b[1;33m\u001b[0m\u001b[1;33m\u001b[0m\u001b[0m\n",
      "\u001b[1;32mD:\\Users\\Java\\Anaconda3\\lib\\http\\client.py\u001b[0m in \u001b[0;36mgetresponse\u001b[1;34m(self)\u001b[0m\n\u001b[0;32m   1329\u001b[0m         \u001b[1;32mtry\u001b[0m\u001b[1;33m:\u001b[0m\u001b[1;33m\u001b[0m\u001b[0m\n\u001b[0;32m   1330\u001b[0m             \u001b[1;32mtry\u001b[0m\u001b[1;33m:\u001b[0m\u001b[1;33m\u001b[0m\u001b[0m\n\u001b[1;32m-> 1331\u001b[1;33m                 \u001b[0mresponse\u001b[0m\u001b[1;33m.\u001b[0m\u001b[0mbegin\u001b[0m\u001b[1;33m(\u001b[0m\u001b[1;33m)\u001b[0m\u001b[1;33m\u001b[0m\u001b[0m\n\u001b[0m\u001b[0;32m   1332\u001b[0m             \u001b[1;32mexcept\u001b[0m \u001b[0mConnectionError\u001b[0m\u001b[1;33m:\u001b[0m\u001b[1;33m\u001b[0m\u001b[0m\n\u001b[0;32m   1333\u001b[0m                 \u001b[0mself\u001b[0m\u001b[1;33m.\u001b[0m\u001b[0mclose\u001b[0m\u001b[1;33m(\u001b[0m\u001b[1;33m)\u001b[0m\u001b[1;33m\u001b[0m\u001b[0m\n",
      "\u001b[1;32mD:\\Users\\Java\\Anaconda3\\lib\\http\\client.py\u001b[0m in \u001b[0;36mbegin\u001b[1;34m(self)\u001b[0m\n\u001b[0;32m    295\u001b[0m         \u001b[1;31m# read until we get a non-100 response\u001b[0m\u001b[1;33m\u001b[0m\u001b[1;33m\u001b[0m\u001b[0m\n\u001b[0;32m    296\u001b[0m         \u001b[1;32mwhile\u001b[0m \u001b[1;32mTrue\u001b[0m\u001b[1;33m:\u001b[0m\u001b[1;33m\u001b[0m\u001b[0m\n\u001b[1;32m--> 297\u001b[1;33m             \u001b[0mversion\u001b[0m\u001b[1;33m,\u001b[0m \u001b[0mstatus\u001b[0m\u001b[1;33m,\u001b[0m \u001b[0mreason\u001b[0m \u001b[1;33m=\u001b[0m \u001b[0mself\u001b[0m\u001b[1;33m.\u001b[0m\u001b[0m_read_status\u001b[0m\u001b[1;33m(\u001b[0m\u001b[1;33m)\u001b[0m\u001b[1;33m\u001b[0m\u001b[0m\n\u001b[0m\u001b[0;32m    298\u001b[0m             \u001b[1;32mif\u001b[0m \u001b[0mstatus\u001b[0m \u001b[1;33m!=\u001b[0m \u001b[0mCONTINUE\u001b[0m\u001b[1;33m:\u001b[0m\u001b[1;33m\u001b[0m\u001b[0m\n\u001b[0;32m    299\u001b[0m                 \u001b[1;32mbreak\u001b[0m\u001b[1;33m\u001b[0m\u001b[0m\n",
      "\u001b[1;32mD:\\Users\\Java\\Anaconda3\\lib\\http\\client.py\u001b[0m in \u001b[0;36m_read_status\u001b[1;34m(self)\u001b[0m\n\u001b[0;32m    256\u001b[0m \u001b[1;33m\u001b[0m\u001b[0m\n\u001b[0;32m    257\u001b[0m     \u001b[1;32mdef\u001b[0m \u001b[0m_read_status\u001b[0m\u001b[1;33m(\u001b[0m\u001b[0mself\u001b[0m\u001b[1;33m)\u001b[0m\u001b[1;33m:\u001b[0m\u001b[1;33m\u001b[0m\u001b[0m\n\u001b[1;32m--> 258\u001b[1;33m         \u001b[0mline\u001b[0m \u001b[1;33m=\u001b[0m \u001b[0mstr\u001b[0m\u001b[1;33m(\u001b[0m\u001b[0mself\u001b[0m\u001b[1;33m.\u001b[0m\u001b[0mfp\u001b[0m\u001b[1;33m.\u001b[0m\u001b[0mreadline\u001b[0m\u001b[1;33m(\u001b[0m\u001b[0m_MAXLINE\u001b[0m \u001b[1;33m+\u001b[0m \u001b[1;36m1\u001b[0m\u001b[1;33m)\u001b[0m\u001b[1;33m,\u001b[0m \u001b[1;34m\"iso-8859-1\"\u001b[0m\u001b[1;33m)\u001b[0m\u001b[1;33m\u001b[0m\u001b[0m\n\u001b[0m\u001b[0;32m    259\u001b[0m         \u001b[1;32mif\u001b[0m \u001b[0mlen\u001b[0m\u001b[1;33m(\u001b[0m\u001b[0mline\u001b[0m\u001b[1;33m)\u001b[0m \u001b[1;33m>\u001b[0m \u001b[0m_MAXLINE\u001b[0m\u001b[1;33m:\u001b[0m\u001b[1;33m\u001b[0m\u001b[0m\n\u001b[0;32m    260\u001b[0m             \u001b[1;32mraise\u001b[0m \u001b[0mLineTooLong\u001b[0m\u001b[1;33m(\u001b[0m\u001b[1;34m\"status line\"\u001b[0m\u001b[1;33m)\u001b[0m\u001b[1;33m\u001b[0m\u001b[0m\n",
      "\u001b[1;32mD:\\Users\\Java\\Anaconda3\\lib\\socket.py\u001b[0m in \u001b[0;36mreadinto\u001b[1;34m(self, b)\u001b[0m\n\u001b[0;32m    584\u001b[0m         \u001b[1;32mwhile\u001b[0m \u001b[1;32mTrue\u001b[0m\u001b[1;33m:\u001b[0m\u001b[1;33m\u001b[0m\u001b[0m\n\u001b[0;32m    585\u001b[0m             \u001b[1;32mtry\u001b[0m\u001b[1;33m:\u001b[0m\u001b[1;33m\u001b[0m\u001b[0m\n\u001b[1;32m--> 586\u001b[1;33m                 \u001b[1;32mreturn\u001b[0m \u001b[0mself\u001b[0m\u001b[1;33m.\u001b[0m\u001b[0m_sock\u001b[0m\u001b[1;33m.\u001b[0m\u001b[0mrecv_into\u001b[0m\u001b[1;33m(\u001b[0m\u001b[0mb\u001b[0m\u001b[1;33m)\u001b[0m\u001b[1;33m\u001b[0m\u001b[0m\n\u001b[0m\u001b[0;32m    587\u001b[0m             \u001b[1;32mexcept\u001b[0m \u001b[0mtimeout\u001b[0m\u001b[1;33m:\u001b[0m\u001b[1;33m\u001b[0m\u001b[0m\n\u001b[0;32m    588\u001b[0m                 \u001b[0mself\u001b[0m\u001b[1;33m.\u001b[0m\u001b[0m_timeout_occurred\u001b[0m \u001b[1;33m=\u001b[0m \u001b[1;32mTrue\u001b[0m\u001b[1;33m\u001b[0m\u001b[0m\n",
      "\u001b[1;32mD:\\Users\\Java\\Anaconda3\\lib\\site-packages\\requests\\packages\\urllib3\\contrib\\pyopenssl.py\u001b[0m in \u001b[0;36mrecv_into\u001b[1;34m(self, *args, **kwargs)\u001b[0m\n\u001b[0;32m    275\u001b[0m     \u001b[1;32mdef\u001b[0m \u001b[0mrecv_into\u001b[0m\u001b[1;33m(\u001b[0m\u001b[0mself\u001b[0m\u001b[1;33m,\u001b[0m \u001b[1;33m*\u001b[0m\u001b[0margs\u001b[0m\u001b[1;33m,\u001b[0m \u001b[1;33m**\u001b[0m\u001b[0mkwargs\u001b[0m\u001b[1;33m)\u001b[0m\u001b[1;33m:\u001b[0m\u001b[1;33m\u001b[0m\u001b[0m\n\u001b[0;32m    276\u001b[0m         \u001b[1;32mtry\u001b[0m\u001b[1;33m:\u001b[0m\u001b[1;33m\u001b[0m\u001b[0m\n\u001b[1;32m--> 277\u001b[1;33m             \u001b[1;32mreturn\u001b[0m \u001b[0mself\u001b[0m\u001b[1;33m.\u001b[0m\u001b[0mconnection\u001b[0m\u001b[1;33m.\u001b[0m\u001b[0mrecv_into\u001b[0m\u001b[1;33m(\u001b[0m\u001b[1;33m*\u001b[0m\u001b[0margs\u001b[0m\u001b[1;33m,\u001b[0m \u001b[1;33m**\u001b[0m\u001b[0mkwargs\u001b[0m\u001b[1;33m)\u001b[0m\u001b[1;33m\u001b[0m\u001b[0m\n\u001b[0m\u001b[0;32m    278\u001b[0m         \u001b[1;32mexcept\u001b[0m \u001b[0mOpenSSL\u001b[0m\u001b[1;33m.\u001b[0m\u001b[0mSSL\u001b[0m\u001b[1;33m.\u001b[0m\u001b[0mSysCallError\u001b[0m \u001b[1;32mas\u001b[0m \u001b[0me\u001b[0m\u001b[1;33m:\u001b[0m\u001b[1;33m\u001b[0m\u001b[0m\n\u001b[0;32m    279\u001b[0m             \u001b[1;32mif\u001b[0m \u001b[0mself\u001b[0m\u001b[1;33m.\u001b[0m\u001b[0msuppress_ragged_eofs\u001b[0m \u001b[1;32mand\u001b[0m \u001b[0me\u001b[0m\u001b[1;33m.\u001b[0m\u001b[0margs\u001b[0m \u001b[1;33m==\u001b[0m \u001b[1;33m(\u001b[0m\u001b[1;33m-\u001b[0m\u001b[1;36m1\u001b[0m\u001b[1;33m,\u001b[0m \u001b[1;34m'Unexpected EOF'\u001b[0m\u001b[1;33m)\u001b[0m\u001b[1;33m:\u001b[0m\u001b[1;33m\u001b[0m\u001b[0m\n",
      "\u001b[1;32mD:\\Users\\Java\\Anaconda3\\lib\\site-packages\\OpenSSL\\SSL.py\u001b[0m in \u001b[0;36mrecv_into\u001b[1;34m(self, buffer, nbytes, flags)\u001b[0m\n\u001b[0;32m   1544\u001b[0m             \u001b[0mresult\u001b[0m \u001b[1;33m=\u001b[0m \u001b[0m_lib\u001b[0m\u001b[1;33m.\u001b[0m\u001b[0mSSL_peek\u001b[0m\u001b[1;33m(\u001b[0m\u001b[0mself\u001b[0m\u001b[1;33m.\u001b[0m\u001b[0m_ssl\u001b[0m\u001b[1;33m,\u001b[0m \u001b[0mbuf\u001b[0m\u001b[1;33m,\u001b[0m \u001b[0mnbytes\u001b[0m\u001b[1;33m)\u001b[0m\u001b[1;33m\u001b[0m\u001b[0m\n\u001b[0;32m   1545\u001b[0m         \u001b[1;32melse\u001b[0m\u001b[1;33m:\u001b[0m\u001b[1;33m\u001b[0m\u001b[0m\n\u001b[1;32m-> 1546\u001b[1;33m             \u001b[0mresult\u001b[0m \u001b[1;33m=\u001b[0m \u001b[0m_lib\u001b[0m\u001b[1;33m.\u001b[0m\u001b[0mSSL_read\u001b[0m\u001b[1;33m(\u001b[0m\u001b[0mself\u001b[0m\u001b[1;33m.\u001b[0m\u001b[0m_ssl\u001b[0m\u001b[1;33m,\u001b[0m \u001b[0mbuf\u001b[0m\u001b[1;33m,\u001b[0m \u001b[0mnbytes\u001b[0m\u001b[1;33m)\u001b[0m\u001b[1;33m\u001b[0m\u001b[0m\n\u001b[0m\u001b[0;32m   1547\u001b[0m         \u001b[0mself\u001b[0m\u001b[1;33m.\u001b[0m\u001b[0m_raise_ssl_error\u001b[0m\u001b[1;33m(\u001b[0m\u001b[0mself\u001b[0m\u001b[1;33m.\u001b[0m\u001b[0m_ssl\u001b[0m\u001b[1;33m,\u001b[0m \u001b[0mresult\u001b[0m\u001b[1;33m)\u001b[0m\u001b[1;33m\u001b[0m\u001b[0m\n\u001b[0;32m   1548\u001b[0m \u001b[1;33m\u001b[0m\u001b[0m\n",
      "\u001b[1;31mKeyboardInterrupt\u001b[0m: "
     ]
    }
   ],
   "source": [
    "typ = ['TPE_獨立套房','TPE_整層住家','TPE_雅房','TPE_分租套房']\n",
    "code_ = make_code()\n",
    "img = {}\n",
    "for i in typ:\n",
    "    print(i)\n",
    "    log =[]\n",
    "    for tickCount in range(1,10000):\n",
    "        try:\n",
    "            text = open_text(i,tickCount,log)\n",
    "            if bool(text) == False:\n",
    "                break\n",
    "            address = get_address(text,tickCount,log)\n",
    "            cityID = get_cityID(text,tickCount,log)\n",
    "            url = get_url(text,tickCount,log)\n",
    "            id_ = get_id_(text,tickCount,log)\n",
    "            title = get_title(text,tickCount,log)\n",
    "            pattern = get_pattern(text,tickCount,log)\n",
    "            stories = get_stories(text,tickCount,log)\n",
    "            floor = get_floor(text,tickCount,log,stories)\n",
    "            label = get_label(text,tickCount,log)\n",
    "            rent = get_rent(text,tickCount,log)\n",
    "            latlng = get_lat_lng(text,tickCount,log)\n",
    "            sex = get_sex(text,tickCount,log)\n",
    "            space = get_space(text,tickCount,log)\n",
    "            pet = get_pet(text,tickCount,log)\n",
    "            cook = get_cook(text,tickCount,log)\n",
    "            time = get_time(text,tickCount,log)\n",
    "            landlord = get_landlord(text,tickCount,log)\n",
    "            description = get_description(text,tickCount,log)\n",
    "            temp = get_temp(text,tickCount,log)\n",
    "            json_ = make_json_(cityID,url,title,address,pattern,floor,stories,label,rent,latlng,sex,space,pet,cook,time,landlord,description,temp)\n",
    "            write_json_(json_,id_)\n",
    "            # phone img\n",
    "            imgsrc = get_imgsrc(text,tickCount,log)\n",
    "            img[id_]='https://statics.591.com.tw/tools/showPhone.php?'+imgsrc\n",
    "        except Exception as e :\n",
    "            print(e)\n",
    "            pass\n",
    "    with open('D:\\\\json_591\\\\log_errorLog_{}'.format(i),'w',encoding='utf8') as f:\n",
    "            f.write(str(log))\n",
    "with open('D:\\\\json_591\\\\log_imgsrc_{}','w',encoding='utf8') as f:\n",
    "    f.write(str(img))"
   ]
  },
  {
   "cell_type": "code",
   "execution_count": null,
   "metadata": {
    "collapsed": true
   },
   "outputs": [],
   "source": [
    "#  with open('D:\\\\json_591\\\\log_errorLog','r',encoding='utf8') as f:\n",
    "#             tex = f.read()"
   ]
  },
  {
   "cell_type": "code",
   "execution_count": null,
   "metadata": {
    "collapsed": true
   },
   "outputs": [],
   "source": [
    "# log=  '''\n",
    "# '''"
   ]
  },
  {
   "cell_type": "code",
   "execution_count": null,
   "metadata": {
    "collapsed": true
   },
   "outputs": [],
   "source": [
    "# log = log.replace('\\n',',')\n",
    "# log"
   ]
  },
  {
   "cell_type": "code",
   "execution_count": null,
   "metadata": {
    "collapsed": true
   },
   "outputs": [],
   "source": [
    "# text = tex.split('\\n')"
   ]
  },
  {
   "cell_type": "code",
   "execution_count": null,
   "metadata": {
    "collapsed": true
   },
   "outputs": [],
   "source": [
    "# with open('D:\\\\json_591\\\\log_errorLog'.format(i),'w',encoding='utf8') as f:\n",
    "            f.write(str(log))\n",
    "            f.close"
   ]
  },
  {
   "cell_type": "code",
   "execution_count": null,
   "metadata": {
    "collapsed": true
   },
   "outputs": [],
   "source": [
    "# len(text)"
   ]
  }
 ],
 "metadata": {
  "kernelspec": {
   "display_name": "Python 3",
   "language": "python",
   "name": "python3"
  },
  "language_info": {
   "codemirror_mode": {
    "name": "ipython",
    "version": 3
   },
   "file_extension": ".py",
   "mimetype": "text/x-python",
   "name": "python",
   "nbconvert_exporter": "python",
   "pygments_lexer": "ipython3",
   "version": "3.6.1"
  }
 },
 "nbformat": 4,
 "nbformat_minor": 2
}
