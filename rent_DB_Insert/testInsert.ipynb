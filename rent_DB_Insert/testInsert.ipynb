{
 "cells": [
  {
   "cell_type": "code",
   "execution_count": 9,
   "metadata": {},
   "outputs": [
    {
     "name": "stdout",
     "output_type": "stream",
     "text": [
      "['../Food/supermarket', '../Food/ipeen']\n"
     ]
    }
   ],
   "source": [
    "fil = glob.glob('../Food/*')\n",
    "print(fil)"
   ]
  },
  {
   "cell_type": "code",
   "execution_count": 5,
   "metadata": {
    "collapsed": true
   },
   "outputs": [],
   "source": [
    "import pymysql as mariadb\n",
    "\n",
    "try:\n",
    "    conn = mariadb.connect(\n",
    "     host='db',\n",
    "     user='root',\n",
    "     passwd='1234',\n",
    "     db='rental',\n",
    "     charset='utf8mb4'\n",
    "    )\n",
    "    \n",
    "    cursor = conn.cursor()\n",
    "    sql = \"\"\"\n",
    "        CREATE TABLE `testEnviro` (\n",
    "  `ID` INT NOT NULL AUTO_INCREMENT,\n",
    "  `url` VARCHAR(100) NULL,\n",
    "  `name` VARCHAR(100) NULL,\n",
    "  `address` VARCHAR(200) NULL,\n",
    "  `typeID` INT NULL,\n",
    "  `cost` INT NULL,\n",
    "  `description` TEXT(2000) NULL,\n",
    "  `lat` DECIMAL(20,17) NULL,\n",
    "  `lng` DECIMAL(20,17) NULL,\n",
    "  `cityID` INT NULL,\n",
    "  PRIMARY KEY (`ID`),\n",
    "  UNIQUE INDEX `url_UNIQUE` (`url` ASC))\n",
    "  ENGINE = InnoDB DEFAULT  \n",
    "  CHARACTER SET = utf8mb4 COLLATE = utf8mb4_general_ci;\n",
    "        \"\"\"\n",
    "    try:\n",
    "        cursor.execute(sql)\n",
    "    except Exception as e:\n",
    "        print('Execute Failed!\\nError Code is %s;\\nError Content is %s;' % (e.args[0],e.args[1]))\n",
    "        cursor.close()\n",
    "        conn.close()\n",
    "except Exception as e:\n",
    "    print('Connection Failed!\\nError Code is %s;\\nError Content is %s;' % (e.args[0],e.args[1]))"
   ]
  },
  {
   "cell_type": "code",
   "execution_count": 4,
   "metadata": {},
   "outputs": [
    {
     "name": "stdout",
     "output_type": "stream",
     "text": [
      "[]\n",
      "0\n"
     ]
    }
   ],
   "source": [
    "import glob\n",
    "from multiprocessing import Process, Queue\n",
    "import json\n",
    "q1=Queue()\n",
    "fil = glob.glob('Food/*')\n",
    "print(fil)\n",
    "for file in fil:\n",
    "    for detail in glob.glob('{}/*'.formate(file)):\n",
    "        with open('{}'.format(detail),encoding='utf-8') as f:\n",
    "            jSon = json.load(f)\n",
    "            #print(jSon)\n",
    "            q1.put(jSon)\n",
    "\n",
    "print(q1.qsize())"
   ]
  },
  {
   "cell_type": "code",
   "execution_count": null,
   "metadata": {
    "collapsed": true
   },
   "outputs": [],
   "source": [
    "def write(obj):\n",
    "    obj = obj\n",
    "    #lock.acquire()\n",
    "    try:\n",
    "        conn = mariadb.connect(\n",
    "            host='db',\n",
    "            user='root',\n",
    "            passwd='1234',\n",
    "            db='rental',\n",
    "            charset='utf8mb4'\n",
    "        )\n",
    "        cursor = conn.cursor()\n",
    "        sql = '''INSERT INTO testEnviro (url,name,address,typeID,cost,description,lat,lng,cityID) VALUES \n",
    "                (%s,%s,%s,%s,%s,%s,%s,%s,%s)'''\n",
    "        values = (obj['url'], obj['name'], obj['address'],obj['typeID'],obj['cost'],\n",
    "                  obj['description'], obj['lat'],obj['lng'], obj['cityID'])\n",
    "        try:\n",
    "            cursor.execute(sql,values)\n",
    "            conn.commit()\n",
    "        except Exception as e:\n",
    "            print(obj)\n",
    "            conn.rollback()\n",
    "            print('Execute Failed!\\nError Code is %s;\\nError Content is %s;' % (e.args[0],e.args[1]))\n",
    "\n",
    "        cursor.close()\n",
    "\n",
    "        conn.close()\n",
    "    except Exception as e:\n",
    "        print(obj)\n",
    "        print('Connection Failed!\\nError Code is %s;\\nError Content is %s;' % (e.args[0],e.args[1]))\n",
    "#     finally:\n",
    "#         lock.release()"
   ]
  },
  {
   "cell_type": "code",
   "execution_count": null,
   "metadata": {
    "collapsed": true
   },
   "outputs": [],
   "source": [
    "import pymysql as mariadb\n",
    "import time\n",
    "#from multiprocessing import Process, Lock\n",
    "#lock = Lock()\n",
    "start = time.time()\n",
    "while not q1.empty():\n",
    "    try:\n",
    "        obj = q1.get()\n",
    "#         p = Process(target=write, args=(lock, obj)) \n",
    "#         p.start()\n",
    "#         p.join()\n",
    "        write(obj)\n",
    "    except Exception as e:\n",
    "        print(e)\n",
    "        print(obj)\n",
    "print('total time = {}'.format(time.time()-start))"
   ]
  }
 ],
 "metadata": {
  "kernelspec": {
   "display_name": "Python 3",
   "language": "python",
   "name": "python3"
  },
  "language_info": {
   "codemirror_mode": {
    "name": "ipython",
    "version": 3
   },
   "file_extension": ".py",
   "mimetype": "text/x-python",
   "name": "python",
   "nbconvert_exporter": "python",
   "pygments_lexer": "ipython3",
   "version": "3.6.2"
  }
 },
 "nbformat": 4,
 "nbformat_minor": 2
}
