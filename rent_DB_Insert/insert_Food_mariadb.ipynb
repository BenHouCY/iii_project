{
 "cells": [
  {
   "cell_type": "code",
   "execution_count": 1,
   "metadata": {},
   "outputs": [
    {
     "name": "stdout",
     "output_type": "stream",
     "text": [
      "Collecting pymysql\n",
      "  Downloading PyMySQL-0.7.11-py2.py3-none-any.whl (78kB)\n",
      "\u001b[K    100% |████████████████████████████████| 81kB 458kB/s ta 0:00:01\n",
      "\u001b[?25hInstalling collected packages: pymysql\n",
      "Successfully installed pymysql-0.7.11\n"
     ]
    }
   ],
   "source": [
    "!pip install pymysql"
   ]
  },
  {
   "cell_type": "code",
   "execution_count": 2,
   "metadata": {
    "collapsed": true
   },
   "outputs": [],
   "source": [
    "import pymysql as mariadb\n",
    "\n",
    "try:\n",
    "    conn = mariadb.connect(\n",
    "     host='db',\n",
    "     user='root',\n",
    "     passwd='1234',\n",
    "     db='rental',\n",
    "     charset='utf8mb4'\n",
    "    )\n",
    "    \n",
    "    cursor = conn.cursor()\n",
    "    sql = \"\"\"\n",
    "        CREATE TABLE `baseEnviro` (\n",
    "  `ID` INT NOT NULL AUTO_INCREMENT,\n",
    "  `url` VARCHAR(100) NULL,\n",
    "  `name` VARCHAR(100) NULL,\n",
    "  `address` VARCHAR(200) NULL,\n",
    "  `typeID` INT NULL,\n",
    "  `cost` INT NULL,\n",
    "  `description` TEXT(2000) NULL,\n",
    "  `lat` DECIMAL(20,17) NULL,\n",
    "  `lng` DECIMAL(20,17) NULL,\n",
    "  `cityID` INT NULL,\n",
    "  PRIMARY KEY (`ID`),\n",
    "  UNIQUE INDEX `url_UNIQUE` (`url` ASC))\n",
    "  ENGINE = InnoDB DEFAULT  \n",
    "  CHARACTER SET = utf8mb4 COLLATE = utf8mb4_general_ci;\n",
    "        \"\"\"\n",
    "    try:\n",
    "        cursor.execute(sql)\n",
    "    except Exception as e:\n",
    "        print('Execute Failed!\\nError Code is %s;\\nError Content is %s;' % (e.args[0],e.args[1]))\n",
    "        cursor.close()\n",
    "        conn.close()\n",
    "except Exception as e:\n",
    "    print('Connection Failed!\\nError Code is %s;\\nError Content is %s;' % (e.args[0],e.args[1]))"
   ]
  },
  {
   "cell_type": "code",
   "execution_count": 1,
   "metadata": {},
   "outputs": [
    {
     "name": "stdout",
     "output_type": "stream",
     "text": [
      "389\n"
     ]
    }
   ],
   "source": [
    "import glob\n",
    "from multiprocessing import Process, Queue\n",
    "import json\n",
    "q1=Queue()\n",
    "fil = glob.glob('Food/supermarket/*')\n",
    "for detail in fil:\n",
    "    with open('{}'.format(detail),encoding='utf-8') as f:\n",
    "        jSon = json.load(f)\n",
    "        #print(jSon)\n",
    "        q1.put(jSon)\n",
    "\n",
    "print(q1.qsize())"
   ]
  },
  {
   "cell_type": "code",
   "execution_count": 2,
   "metadata": {
    "collapsed": true
   },
   "outputs": [],
   "source": [
    "def write(lock,obj):\n",
    "    obj = obj\n",
    "    lock.acquire()\n",
    "    try:\n",
    "        conn = mariadb.connect(\n",
    "            host='db',\n",
    "            user='root',\n",
    "            passwd='1234',\n",
    "            db='rental',\n",
    "            charset='utf8mb4'\n",
    "        )\n",
    "        cursor = conn.cursor()\n",
    "        sql = '''INSERT INTO baseEnviro (url,name,address,typeID,cost,description,lat,lng,cityID) VALUES \n",
    "                (%s,%s,%s,%s,%s,%s,%s,%s,%s)'''\n",
    "        values = (obj['url'], obj['name'], obj['address'],obj['typeID'],obj['cost'],\n",
    "                  obj['description'], obj['lat'],obj['lng'], obj['cityID'])\n",
    "        try:\n",
    "            cursor.execute(sql,values)\n",
    "            conn.commit()\n",
    "        except Exception as e:\n",
    "            print(obj)\n",
    "            conn.rollback()\n",
    "            print('Execute Failed!\\nError Code is %s;\\nError Content is %s;' % (e.args[0],e.args[1]))\n",
    "\n",
    "        cursor.close()\n",
    "\n",
    "        conn.close()\n",
    "    except Exception as e:\n",
    "        print(obj)\n",
    "        print('Connection Failed!\\nError Code is %s;\\nError Content is %s;' % (e.args[0],e.args[1]))\n",
    "    finally:\n",
    "        lock.release()"
   ]
  },
  {
   "cell_type": "code",
   "execution_count": null,
   "metadata": {},
   "outputs": [],
   "source": [
    "import pymysql as mariadb\n",
    "import time\n",
    "from multiprocessing import Process, Lock\n",
    "lock = Lock()\n",
    "start = time.time()\n",
    "while not q1.empty():\n",
    "    try:\n",
    "        obj = q1.get()\n",
    "        p = Process(target=write, args=(lock, obj)) \n",
    "        p.start()\n",
    "        p.join()\n",
    "    except Exception as e:\n",
    "        print(e)\n",
    "        print(obj)\n",
    "print('total time = {}'.format(time.time()-start))"
   ]
  },
  {
   "cell_type": "code",
   "execution_count": null,
   "metadata": {
    "collapsed": true
   },
   "outputs": [],
   "source": [
    "# Metadata\n",
    "\n",
    "\n",
    "\n",
    "## ipeen Total:34493 -> sucess:34493 , fail:0\n",
    "## spending time:1099sec\n",
    "\n",
    "## supermar"
   ]
  },
  {
   "cell_type": "code",
   "execution_count": null,
   "metadata": {
    "collapsed": true
   },
   "outputs": [],
   "source": []
  },
  {
   "cell_type": "code",
   "execution_count": null,
   "metadata": {
    "collapsed": true
   },
   "outputs": [],
   "source": []
  },
  {
   "cell_type": "code",
   "execution_count": null,
   "metadata": {
    "collapsed": true
   },
   "outputs": [],
   "source": []
  }
 ],
 "metadata": {
  "kernelspec": {
   "display_name": "Python 3",
   "language": "python",
   "name": "python3"
  },
  "language_info": {
   "codemirror_mode": {
    "name": "ipython",
    "version": 3
   },
   "file_extension": ".py",
   "mimetype": "text/x-python",
   "name": "python",
   "nbconvert_exporter": "python",
   "pygments_lexer": "ipython3",
   "version": "3.6.2"
  }
 },
 "nbformat": 4,
 "nbformat_minor": 2
}
