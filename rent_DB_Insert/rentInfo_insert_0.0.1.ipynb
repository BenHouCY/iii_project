{
 "cells": [
  {
   "cell_type": "markdown",
   "metadata": {},
   "source": [
    "# create table"
   ]
  },
  {
   "cell_type": "code",
   "execution_count": null,
   "metadata": {
    "collapsed": true
   },
   "outputs": [],
   "source": [
    "import pymysql as mariadb\n",
    "\n",
    "try:\n",
    "    conn = mariadb.connect(\n",
    "     host='db',\n",
    "     user='root',\n",
    "     passwd='1234',\n",
    "     db='rental',\n",
    "     charset='utf8mb4'\n",
    "    )\n",
    "    \n",
    "    cursor = conn.cursor()\n",
    "    sql = \"\"\"\n",
    "        CREATE TABLE `rentInfo` (\n",
    "  `ID` INT NOT NULL AUTO_INCREMENT,\n",
    "  `url` VARCHAR(100) NULL,\n",
    "  `update_date` VARCHAR(50) NULL,\n",
    "  `title` VARCHAR(100) NULL,\n",
    "  `address` VARCHAR(200) NULL,\n",
    "  `label` CHAR(5) NULL,\n",
    "  `temp` CHAR(1) NULL,\n",
    "  `sex` CHAR(1) NULL,\n",
    "  `smoke` CHAR(1) NULL,\n",
    "  `pet` CHAR(1) NULL,\n",
    "  `cook` CHAR(1) NULL,\n",
    "  `space` DECIMAL(9,2) NULL,\n",
    "  `rent` INT NULL,\n",
    "  `floor` INT NULL,\n",
    "  `stories` INT NULL,\n",
    "  `pattern` VARCHAR(20) NULL,\n",
    "  `landlord` VARCHAR(100) NULL,\n",
    "  `description` TEXT(2000) NULL,\n",
    "  `lat` DECIMAL(20,17) NULL,\n",
    "  `lng` DECIMAL(20,17) NULL,\n",
    "  `cityID` INT NULL,\n",
    "  PRIMARY KEY (`ID`),\n",
    "  UNIQUE INDEX `url_UNIQUE` (`url` ASC))\n",
    "  ENGINE = InnoDB DEFAULT  \n",
    "  CHARACTER SET = utf8mb4 COLLATE = utf8mb4_general_ci;\n",
    "        \"\"\"\n",
    "    try:\n",
    "        cursor.execute(sql)\n",
    "    except Exception as e:\n",
    "        print('Execute Failed!\\nError Code is %s;\\nError Content is %s;' % (e.args[0],e.args[1]))\n",
    "        cursor.close()\n",
    "        conn.close()\n",
    "except Exception as e:\n",
    "    print('Connection Failed!\\nError Code is %s;\\nError Content is %s;' % (e.args[0],e.args[1]))"
   ]
  },
  {
   "cell_type": "markdown",
   "metadata": {},
   "source": [
    "# read all json & drop into Queue"
   ]
  },
  {
   "cell_type": "code",
   "execution_count": null,
   "metadata": {
    "collapsed": true
   },
   "outputs": [],
   "source": [
    "import glob\n",
    "from multiprocessing import Process, Queue\n",
    "import json\n",
    "q1=Queue()\n",
    "fil = glob.glob('rent_data/*')\n",
    "for filLis in fil:\n",
    "    for detail in glob.glob('{}/*'.format(filLis)):\n",
    "        with open('{}'.format(detail),encoding='utf-8') as f:\n",
    "            jSon = json.load(f)\n",
    "            #print(jSon)\n",
    "            q1.put(jSon)\n",
    "\n",
    "print(q1.qsize())"
   ]
  },
  {
   "cell_type": "markdown",
   "metadata": {},
   "source": [
    "# write method"
   ]
  },
  {
   "cell_type": "code",
   "execution_count": null,
   "metadata": {
    "collapsed": true
   },
   "outputs": [],
   "source": [
    "def write(lock,obj):\n",
    "    obj = obj\n",
    "    lock.acquire()\n",
    "    try:\n",
    "        conn = mariadb.connect(\n",
    "            host='db',\n",
    "            user='root',\n",
    "            passwd='1234',\n",
    "            db='rental',\n",
    "            charset='utf8mb4'\n",
    "        )\n",
    "        cursor = conn.cursor()\n",
    "        sql = '''INSERT INTO rentInfo (url,update_date,title,address,label,temp,sex,pet,cook,smoke,space,floor,stories,\n",
    "                pattern,rent,landlord,description,lat,lng,cityID) VALUES \n",
    "                (%s,%s,%s,%s,%s,%s,%s,%s,%s,%s,%s,%s,%s,%s,%s,%s,%s,%s,%s,%s)'''\n",
    "        values = (obj['url'], obj['update'],obj['title'], obj['address'],obj['label'], obj['temp'],\n",
    "                obj['sex'], obj['pet'], obj['cook'], obj['smoke'],obj['space'], obj['floor'], obj['stories'],\n",
    "                obj['pattern'], obj['rent'],obj['landlord'], obj['description'], obj['lat'],obj['lng'], obj['cityID'])\n",
    "        try:\n",
    "            cursor.execute(sql,values)\n",
    "            conn.commit()\n",
    "        except Exception as e:\n",
    "            print(obj)\n",
    "            conn.rollback()\n",
    "            print('Execute Failed!\\nError Code is %s;\\nError Content is %s;' % (e.args[0],e.args[1]))\n",
    "\n",
    "        cursor.close()\n",
    "\n",
    "        conn.close()\n",
    "    except Exception as e:\n",
    "        print(obj)\n",
    "        print('Connection Failed!\\nError Code is %s;\\nError Content is %s;' % (e.args[0],e.args[1]))\n",
    "    finally:\n",
    "        lock.release()"
   ]
  },
  {
   "cell_type": "markdown",
   "metadata": {},
   "source": [
    "# run"
   ]
  },
  {
   "cell_type": "code",
   "execution_count": null,
   "metadata": {
    "collapsed": true
   },
   "outputs": [],
   "source": [
    "import pymysql as mariadb\n",
    "import time\n",
    "from multiprocessing import Process, Lock,\n",
    "lock = Lock()\n",
    "start = time.time()\n",
    "while not q1.empty():\n",
    "    try:\n",
    "        obj = q1.get()\n",
    "        p = Process(target=write, args=(lock, obj)) \n",
    "        p.start()\n",
    "        p.join(timeout=0.1)\n",
    "    except Exception as e:\n",
    "        print(e)\n",
    "        print(obj)\n",
    "print('total time = {}'.format(time.time()-start))"
   ]
  },
  {
   "cell_type": "raw",
   "metadata": {},
   "source": [
    "# Metadata\n",
    "\n",
    "\n",
    "\n",
    "## Total:24805 -> sucess:24799 , fail:6\n",
    "\n",
    "## fail List by url:['http://rent.yungching.com.tw/house/1279286/',\n",
    "                     'http://rent.yungching.com.tw/house/1279278/',\n",
    "                     'http://rent.yungching.com.tw/house/1279262/',\n",
    "                     'http://rent.yungching.com.tw/house/1279249/',\n",
    "                     'http://rent.yungching.com.tw/house/1265423/',\n",
    "                     'http://rent.yungching.com.tw/house/1253262/']\n",
    "                     reason ('sex': '限女生')\n",
    "                     \n",
    "## already solve: 591 updateDate->update, TWH garbled text in description, TWH patten -> pattern\n",
    "\n",
    "## python <--> mariadb : string in string out, int,float out of setting range can still be insert\n",
    "\n",
    "## going todo : batch insert, bulk insert"
   ]
  }
 ],
 "metadata": {
  "kernelspec": {
   "display_name": "Python 3",
   "language": "python",
   "name": "python3"
  },
  "language_info": {
   "codemirror_mode": {
    "name": "ipython",
    "version": 3
   },
   "file_extension": ".py",
   "mimetype": "text/x-python",
   "name": "python",
   "nbconvert_exporter": "python",
   "pygments_lexer": "ipython3",
   "version": "3.6.2"
  }
 },
 "nbformat": 4,
 "nbformat_minor": 2
}
