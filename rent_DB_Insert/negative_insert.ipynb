{
 "cells": [
  {
   "cell_type": "code",
   "execution_count": 1,
   "metadata": {
    "collapsed": true
   },
   "outputs": [],
   "source": [
    "import pymysql as mariadb\n",
    "\n",
    "try:\n",
    "    conn = mariadb.connect(\n",
    "     host='db',\n",
    "     user='root',\n",
    "     passwd='1234',\n",
    "     db='rental',\n",
    "     charset='utf8mb4'\n",
    "    )\n",
    "    \n",
    "    cursor = conn.cursor()\n",
    "    sql = \"\"\"\n",
    "        CREATE TABLE `negative` (\n",
    "  `ID` INT NOT NULL AUTO_INCREMENT,\n",
    "  `name` VARCHAR(100) NULL,\n",
    "  `address` VARCHAR(200) NULL,\n",
    "  `typeID` INT NULL,\n",
    "  `lat` DECIMAL(20,17) NULL,\n",
    "  `lng` DECIMAL(20,17) NULL,\n",
    "  `cityID` INT NULL,\n",
    "  PRIMARY KEY (`ID`))\n",
    "  ENGINE = InnoDB DEFAULT  \n",
    "  CHARACTER SET = utf8mb4 COLLATE = utf8mb4_general_ci;\n",
    "        \"\"\"\n",
    "    try:\n",
    "        cursor.execute(sql)\n",
    "    except Exception as e:\n",
    "        print('Execute Failed!\\nError Code is %s;\\nError Content is %s;' % (e.args[0],e.args[1]))\n",
    "        cursor.close()\n",
    "        conn.close()\n",
    "except Exception as e:\n",
    "    print('Connection Failed!\\nError Code is %s;\\nError Content is %s;' % (e.args[0],e.args[1]))"
   ]
  },
  {
   "cell_type": "code",
   "execution_count": 2,
   "metadata": {},
   "outputs": [
    {
     "name": "stdout",
     "output_type": "stream",
     "text": [
      "6069\n"
     ]
    }
   ],
   "source": [
    "import glob\n",
    "from multiprocessing import Process, Queue\n",
    "import json\n",
    "q1=Queue()\n",
    "fil = glob.glob('negative/*')\n",
    "for file in fil:\n",
    "    for detail in glob.glob('{}/*'.format(file)):\n",
    "        with open('{}'.format(detail),encoding='utf-8') as f:\n",
    "            jSon = json.load(f)\n",
    "            #print(jSon)\n",
    "            q1.put(jSon)\n",
    "\n",
    "print(q1.qsize())"
   ]
  },
  {
   "cell_type": "code",
   "execution_count": 3,
   "metadata": {
    "collapsed": true
   },
   "outputs": [],
   "source": [
    "def write(obj):\n",
    "    obj = obj\n",
    "    sql = '''INSERT INTO negative (name,address,typeID,lat,lng,cityID) VALUES \n",
    "                (%s,%s,%s,%s,%s,%s)'''\n",
    "    values = ( obj['name'], obj['address'],obj['typeID'], obj['lat'],obj['lng'], obj['cityID'])\n",
    "    try:\n",
    "        cursor.execute(sql,values)\n",
    "    except Exception as e:\n",
    "            print(obj)\n",
    "            print('Execute Failed!\\nError Code is %s;\\nError Content is %s;' % (e.args[0],e.args[1]))"
   ]
  },
  {
   "cell_type": "code",
   "execution_count": 4,
   "metadata": {},
   "outputs": [
    {
     "name": "stdout",
     "output_type": "stream",
     "text": [
      "commit\n",
      "total time = 1.3467416763305664\n"
     ]
    }
   ],
   "source": [
    "import pymysql as mariadb\n",
    "import time\n",
    "start = time.time()\n",
    "conn = mariadb.connect(\n",
    "            host='db',\n",
    "            user='root',\n",
    "            passwd='1234',\n",
    "            db='rental',\n",
    "            charset='utf8mb4'\n",
    "        )\n",
    "cursor = conn.cursor()\n",
    "while not q1.empty():\n",
    "    try:\n",
    "        obj = q1.get()\n",
    "#         print(obj)\n",
    "        write(obj)\n",
    "    except Exception as e:\n",
    "        print('Execute Failed!\\nError Code is %s;\\nError Content is %s;' % (e.args[0],e.args[1]))\n",
    "        print(obj)\n",
    "conn.commit()\n",
    "print('commit')\n",
    "conn.close()\n",
    "    \n",
    "print('total time = {}'.format(time.time()-start))"
   ]
  },
  {
   "cell_type": "code",
   "execution_count": null,
   "metadata": {
    "collapsed": true
   },
   "outputs": [],
   "source": []
  }
 ],
 "metadata": {
  "kernelspec": {
   "display_name": "Python 3",
   "language": "python",
   "name": "python3"
  },
  "language_info": {
   "codemirror_mode": {
    "name": "ipython",
    "version": 3
   },
   "file_extension": ".py",
   "mimetype": "text/x-python",
   "name": "python",
   "nbconvert_exporter": "python",
   "pygments_lexer": "ipython3",
   "version": "3.6.2"
  }
 },
 "nbformat": 4,
 "nbformat_minor": 2
}
